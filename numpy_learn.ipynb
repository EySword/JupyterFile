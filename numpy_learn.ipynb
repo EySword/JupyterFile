{
 "cells": [
  {
   "cell_type": "code",
   "execution_count": 1,
   "metadata": {},
   "outputs": [],
   "source": [
    "from numpy import *"
   ]
  },
  {
   "cell_type": "code",
   "execution_count": 19,
   "metadata": {},
   "outputs": [
    {
     "name": "stdout",
     "output_type": "stream",
     "text": [
      "A:\n",
      " [[1 2 3]\n",
      " [4 5 6]\n",
      " [7 8 9]]\n",
      "B:\n",
      " [[1 1 1]\n",
      " [2 2 2]\n",
      " [3 3 3]]\n",
      "C:\n",
      " [[3 2 1]]\n",
      "D:\n",
      " [[1]\n",
      " [3]\n",
      " [5]]\n"
     ]
    }
   ],
   "source": [
    "A=mat([[1,2,3],[4,5,6],[7,8,9]])\n",
    "B=mat([[1,1,1],[2,2,2],[3,3,3]])\n",
    "C=mat([3,2,1])\n",
    "D=mat([[1],[3],[5]])\n",
    "print('A:\\n',A)\n",
    "print('B:\\n',B)\n",
    "print('C:\\n',C)\n",
    "print('D:\\n',D)"
   ]
  },
  {
   "cell_type": "code",
   "execution_count": 9,
   "metadata": {},
   "outputs": [
    {
     "name": "stdout",
     "output_type": "stream",
     "text": [
      "A*B:\n",
      " [[14 14 14]\n",
      " [32 32 32]\n",
      " [50 50 50]]\n",
      "C*D:\n",
      " [[14]]\n"
     ]
    }
   ],
   "source": [
    "# 矩阵相乘（*）\n",
    "print('A*B:\\n',A*B)\n",
    "print('C*D:\\n',C*D)"
   ]
  },
  {
   "cell_type": "code",
   "execution_count": 11,
   "metadata": {},
   "outputs": [
    {
     "name": "stdout",
     "output_type": "stream",
     "text": [
      "[[ 1  2  3]\n",
      " [ 8 10 12]\n",
      " [21 24 27]]\n"
     ]
    }
   ],
   "source": [
    "# 矩阵点乘（multiply）,维数必须相等\n",
    "print(multiply(A,B))"
   ]
  },
  {
   "cell_type": "code",
   "execution_count": 20,
   "metadata": {},
   "outputs": [
    {
     "name": "stdout",
     "output_type": "stream",
     "text": [
      "a1:\n",
      " [[0.5 0. ]\n",
      " [0.  0.5]]\n",
      "a2:\n",
      " [[2. 0.]\n",
      " [0. 2.]]\n"
     ]
    }
   ],
   "source": [
    "# 矩阵求逆变换（.I）\n",
    "a1 = mat(eye(2,2)*0.5)\n",
    "print('a1:\\n',a1)\n",
    "a2 = a1.I\n",
    "print('a2:\\n',a2)"
   ]
  },
  {
   "cell_type": "code",
   "execution_count": 21,
   "metadata": {},
   "outputs": [
    {
     "name": "stdout",
     "output_type": "stream",
     "text": [
      "A.T:\n",
      " [[1 4 7]\n",
      " [2 5 8]\n",
      " [3 6 9]]\n"
     ]
    }
   ],
   "source": [
    "#矩阵求转置（.T）\n",
    "print('A.T:\\n',A.T)"
   ]
  },
  {
   "cell_type": "code",
   "execution_count": null,
   "metadata": {},
   "outputs": [],
   "source": []
  }
 ],
 "metadata": {
  "kernelspec": {
   "display_name": "Python 3",
   "language": "python",
   "name": "python3"
  },
  "language_info": {
   "codemirror_mode": {
    "name": "ipython",
    "version": 3
   },
   "file_extension": ".py",
   "mimetype": "text/x-python",
   "name": "python",
   "nbconvert_exporter": "python",
   "pygments_lexer": "ipython3",
   "version": "3.8.3"
  }
 },
 "nbformat": 4,
 "nbformat_minor": 4
}
