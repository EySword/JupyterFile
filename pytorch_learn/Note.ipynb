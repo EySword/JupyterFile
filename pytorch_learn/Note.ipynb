{
 "cells": [
  {
   "cell_type": "markdown",
   "id": "4739dde1-2735-441f-9304-7f8ccbb7cba3",
   "metadata": {},
   "source": [
    "在PyTorch中进行validation/test时，会使用model.eval()切换到测试模式，在该模式下：\n",
    "\n",
    "1.主要用于通知dropout层和BN层在training和validation/test模式间切换：\n",
    "\n",
    "在train模式下，dropout网络层会按照设定的参数p，设置保留激活单元的概率（保留概率=p)。BN层会继续计算数据的mean和var等参数并更新。\n",
    "\n",
    "在eval模式下，dropout层会让所有的激活单元都通过，而BN层会停止计算和更新mean和var，直接使用在训练阶段已经学出的mean和var值。\n",
    "\n",
    "\n",
    "2.eval模式不会影响各层的gradient计算行为，即gradient计算和存储与training模式一样，只是不进行反向传播（back probagation)。\n",
    "\n",
    "而with torch.no_grad()则主要是用于停止autograd模块的工作，以起到加速和节省显存的作用。它的作用是将该with语句包裹起来的部分停止梯度的更新，从而节省了GPU算力和显存，但是并不会影响dropout和BN层的行为。\n",
    "\n",
    "如果不在意显存大小和计算时间的话，仅仅使用model.eval()已足够得到正确的validation/test的结果；而with torch.no_grad()则是更进一步加速和节省gpu空间（因为不用计算和存储梯度），从而可以更快计算，也可以跑更大的batch来测试。\n"
   ]
  },
  {
   "cell_type": "markdown",
   "id": "f8aa3ac9-ca00-4ff5-85b6-79bee93097ff",
   "metadata": {},
   "source": [
    "model的属性：\n",
    "\n",
    "named_children: \n",
    "\n",
    "list(vgg19.named_children())\n",
    "\n",
    "for params in model.parameters():\n",
    "print('params: ',params)\n",
    "\n",
    "vgg19.state_dict()"
   ]
  },
  {
   "cell_type": "code",
   "execution_count": null,
   "id": "9d7b98d2-8688-4128-a893-d948cfee083e",
   "metadata": {},
   "outputs": [],
   "source": [
    "#读取已经封装好的数据集\n",
    "transform = transforms.Compose(\n",
    "            [transforms.ToTensor(),\n",
    "            transforms.Normalize(0.5, 0.5)]\n",
    ")\n",
    "# 如果没有下载 MNIST 数据集，那么需要设置 download 参数为 True\n",
    "# 如果已经下载 MNIST 数据集，那么只需设置 download 参数为 False\n",
    "trainset = torchvision.datasets.MNIST(root='./data', \n",
    "                                    train=True, \n",
    "                                    transform=transform, \n",
    "                                    download=False)\n",
    "trainloader = torch.utils.data.DataLoader(dataset=trainset, \n",
    "                                            batch_size=batch_size, \n",
    "                                            shuffle=True, \n",
    "                                            num_workers=2)\n",
    "testset = torchvision.datasets.MNIST(root='./data', \n",
    "                                    train=False, \n",
    "                                    transform=transform, \n",
    "                                    download=False)\n",
    "testloader = torch.utils.data.DataLoader(dataset=testset, \n",
    "                                            batch_size=batch_size, \n",
    "                                            shuffle=True, \n",
    "                                            num_workers=2)"
   ]
  },
  {
   "cell_type": "code",
   "execution_count": null,
   "id": "4a431e48-a838-4c2b-93ac-d23bfd7a03bc",
   "metadata": {
    "jupyter": {
     "source_hidden": true
    },
    "tags": []
   },
   "outputs": [],
   "source": [
    "#读取自己的数据集\n",
    "class DIV2KDataset(data.Dataset):\n",
    "    def __init__(self, file_path=[], crop_size_img=None, crop_size_label=None):\n",
    "        \"\"\"para:\n",
    "            file_path(list): 数据和标签路径,列表元素第一个为图片路径，第二个为标签路径\n",
    "        \"\"\"\n",
    "        # 1 正确读入图片和标签路径\n",
    "        if len(file_path) != 2:\n",
    "            raise ValueError(\"同时需要图片和标签文件夹的路径，图片路径在前\")\n",
    "        self.img_path = file_path[0]\n",
    "        self.label_path = file_path[1]\n",
    "        # 2 从路径中取出图片和标签数据的文件名保持到两个列表当中（程序中的数据来源）\n",
    "        self.imgs = self.read_file(self.img_path)\n",
    "        self.labels = self.read_file(self.label_path)\n",
    "        # 3 初始化数据处理函数设置\n",
    "        self.crop_size_img = crop_size_img\n",
    "        self.crop_size_label = crop_size_label\n",
    "\n",
    "    def __getitem__(self, index):\n",
    "        img = self.imgs[index]\n",
    "        label = self.labels[index]\n",
    "        # 从文件名中读取数据（图片和标签都是png格式的图像数据）\n",
    "        img = Image.open(img)\n",
    "        label = Image.open(label)\n",
    "\n",
    "        img, label = self.center_crop(img, label, crop_size_img, crop_size_label)\n",
    "\n",
    "        img, label = self.img_transform(img, label)\n",
    "        # print('处理后的图片和标签大小：',img.shape, label.shape)\n",
    "        sample = {'img': img, 'label': label}\n",
    "\n",
    "        return sample\n",
    "\n",
    "    def __len__(self):\n",
    "        return len(self.imgs)\n",
    "\n",
    "    def read_file(self, path):\n",
    "        \"\"\"从文件夹中读取数据\"\"\"\n",
    "        files_list = os.listdir(path)\n",
    "        file_path_list = [os.path.join(path, img) for img in files_list]\n",
    "        file_path_list.sort()\n",
    "        return file_path_list\n",
    "\n",
    "    def center_crop(self, data, label, crop_size_img, crop_size_label):\n",
    "        \"\"\"裁剪输入的图片和标签大小\"\"\"\n",
    "        data = ff.center_crop(data, crop_size_img)\n",
    "        label = ff.center_crop(label, crop_size_label)\n",
    "        return data, label\n",
    "\n",
    "    def img_transform(self, img, label):\n",
    "        \"\"\"对图片和标签做一些数值处理\"\"\"\n",
    "        transform = transforms.Compose(\n",
    "            [\n",
    "                transforms.ToTensor(),\n",
    "                # transforms.Normalize([0.485, 0.456, 0.406], [0.229, 0.224, 0.225])\n",
    "            ]\n",
    "        )\n",
    "        img = transform(img)\n",
    "        label = transform(label)\n",
    "\n",
    "        return img, label"
   ]
  },
  {
   "cell_type": "code",
   "execution_count": null,
   "id": "345527f9-996a-4f04-899a-1f243a203aee",
   "metadata": {},
   "outputs": [],
   "source": [
    "# 训练数据集的加载器，自动将数据分割成batch，顺序随机打乱\n",
    "train_loader = torch.utils.data.DataLoader(dataset=train_dataset,\n",
    "                                           batch_size=batch_size,\n",
    "                                            drop_last = True ,      \n",
    "                                           shuffle=True)\n",
    "————————————————\n",
    "版权声明：本文为CSDN博主「tsz danger」的原创文章，遵循CC 4.0 BY-SA版权协议，转载请附上原文出处链接及本声明。\n",
    "原文链接：https://blog.csdn.net/weixin_43914889/article/details/104677675"
   ]
  }
 ],
 "metadata": {
  "kernelspec": {
   "display_name": "Python 3 (ipykernel)",
   "language": "python",
   "name": "python3"
  },
  "language_info": {
   "codemirror_mode": {
    "name": "ipython",
    "version": 3
   },
   "file_extension": ".py",
   "mimetype": "text/x-python",
   "name": "python",
   "nbconvert_exporter": "python",
   "pygments_lexer": "ipython3",
   "version": "3.8.12"
  }
 },
 "nbformat": 4,
 "nbformat_minor": 5
}
