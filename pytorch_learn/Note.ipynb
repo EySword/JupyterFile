{
 "cells": [
  {
   "cell_type": "markdown",
   "id": "4739dde1-2735-441f-9304-7f8ccbb7cba3",
   "metadata": {},
   "source": [
    "在PyTorch中进行validation/test时，会使用model.eval()切换到测试模式，在该模式下：\n",
    "\n",
    "1.主要用于通知dropout层和BN层在training和validation/test模式间切换：\n",
    "\n",
    "在train模式下，dropout网络层会按照设定的参数p，设置保留激活单元的概率（保留概率=p)。BN层会继续计算数据的mean和var等参数并更新。\n",
    "\n",
    "在eval模式下，dropout层会让所有的激活单元都通过，而BN层会停止计算和更新mean和var，直接使用在训练阶段已经学出的mean和var值。\n",
    "\n",
    "\n",
    "2.eval模式不会影响各层的gradient计算行为，即gradient计算和存储与training模式一样，只是不进行反向传播（back probagation)。\n",
    "\n",
    "而with torch.no_grad()则主要是用于停止autograd模块的工作，以起到加速和节省显存的作用。它的作用是将该with语句包裹起来的部分停止梯度的更新，从而节省了GPU算力和显存，但是并不会影响dropout和BN层的行为。\n",
    "\n",
    "如果不在意显存大小和计算时间的话，仅仅使用model.eval()已足够得到正确的validation/test的结果；而with torch.no_grad()则是更进一步加速和节省gpu空间（因为不用计算和存储梯度），从而可以更快计算，也可以跑更大的batch来测试。\n"
   ]
  },
  {
   "cell_type": "code",
   "execution_count": null,
   "id": "99044052-49af-471c-9399-c0e381883363",
   "metadata": {},
   "outputs": [],
   "source": []
  }
 ],
 "metadata": {
  "kernelspec": {
   "display_name": "Python 3",
   "language": "python",
   "name": "python3"
  },
  "language_info": {
   "codemirror_mode": {
    "name": "ipython",
    "version": 3
   },
   "file_extension": ".py",
   "mimetype": "text/x-python",
   "name": "python",
   "nbconvert_exporter": "python",
   "pygments_lexer": "ipython3",
   "version": "3.8.8"
  }
 },
 "nbformat": 4,
 "nbformat_minor": 5
}
