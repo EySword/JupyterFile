{
 "cells": [
  {
   "cell_type": "code",
   "execution_count": 58,
   "id": "4b116d73-9a42-49e8-bdf7-2af44a2ebc12",
   "metadata": {},
   "outputs": [],
   "source": [
    "import torch\n",
    "from torch.autograd import Variable\n",
    "import matplotlib.pyplot as plt\n",
    "import torch.nn.functional as F"
   ]
  },
  {
   "cell_type": "code",
   "execution_count": 60,
   "id": "fc6df63f-0f48-4482-823a-7201190054c6",
   "metadata": {},
   "outputs": [],
   "source": [
    "device = torch.device(\"cuda:0\" if torch.cuda.is_available() else \"cpu\")"
   ]
  },
  {
   "cell_type": "code",
   "execution_count": 114,
   "id": "85fac228-def8-4c15-8c4b-f7783ed8d981",
   "metadata": {},
   "outputs": [
    {
     "data": {
      "text/plain": [
       "device(type='cuda', index=0)"
      ]
     },
     "execution_count": 114,
     "metadata": {},
     "output_type": "execute_result"
    }
   ],
   "source": [
    "device"
   ]
  },
  {
   "cell_type": "code",
   "execution_count": 61,
   "id": "4aaf2075-c740-4724-aa71-c8e0d57aad27",
   "metadata": {},
   "outputs": [],
   "source": [
    "x=torch.linspace(-1,1,100)\n",
    "x=torch.unsqueeze(x,1)\n",
    "y=x.pow(2)+torch.rand(x.size())*0.2\n",
    "x,y = Variable(x).to(device), Variable(y).to(device)"
   ]
  },
  {
   "cell_type": "code",
   "execution_count": 63,
   "id": "bc5ade71-2677-4acb-82bb-152080c3daa1",
   "metadata": {},
   "outputs": [
    {
     "data": {
      "text/plain": [
       "<matplotlib.collections.PathCollection at 0x16a221ceaf0>"
      ]
     },
     "execution_count": 63,
     "metadata": {},
     "output_type": "execute_result"
    },
    {
     "data": {
      "image/png": "[encoded data removed]",
      "text/plain": [
       "<Figure size 432x288 with 1 Axes>"
      ]
     },
     "metadata": {
      "needs_background": "light"
     },
     "output_type": "display_data"
    }
   ],
   "source": [
    "plt.scatter(x.cpu().numpy(),y.cpu().numpy())"
   ]
  },
  {
   "cell_type": "code",
   "execution_count": 64,
   "id": "cd20e73a-c8ec-4d6a-93a3-a64269dc722e",
   "metadata": {},
   "outputs": [],
   "source": [
    "class Net(torch.nn.Module):\n",
    "    def __init__(self,n_feature,n_hidden,n_output):\n",
    "        super(Net,self).__init__()\n",
    "        self.hidden=torch.nn.Linear(n_feature,n_hidden)\n",
    "        self.predict=torch.nn.Linear(n_hidden,n_output)\n",
    "        pass\n",
    "    def forward(self,x):\n",
    "        x=self.hidden(x)\n",
    "        x=F.relu(x)\n",
    "        \n",
    "        x=self.predict(x)\n",
    "        return x\n",
    "    pass"
   ]
  },
  {
   "cell_type": "code",
   "execution_count": 109,
   "id": "30a24115-9950-494c-9cb3-37f2da3cdd0c",
   "metadata": {},
   "outputs": [
    {
     "data": {
      "text/plain": [
       "Net(\n",
       "  (hidden): Linear(in_features=1, out_features=1000, bias=True)\n",
       "  (predict): Linear(in_features=1000, out_features=1, bias=True)\n",
       ")"
      ]
     },
     "execution_count": 109,
     "metadata": {},
     "output_type": "execute_result"
    }
   ],
   "source": [
    "net=Net(1,1000,1)\n",
    "net.to(device)"
   ]
  },
  {
   "cell_type": "code",
   "execution_count": 110,
   "id": "d35c7313-022c-4f9e-b57f-ea81d20dc813",
   "metadata": {},
   "outputs": [],
   "source": [
    "criterion=F.mse_loss\n",
    "optimizer=torch.optim.SGD(net.parameters(),lr=0.001)"
   ]
  },
  {
   "cell_type": "code",
   "execution_count": 111,
   "id": "61f7ca59-501f-4db4-a489-dc5482444fc1",
   "metadata": {},
   "outputs": [],
   "source": [
    "loss_list=torch.tensor([]).to(device)"
   ]
  },
  {
   "cell_type": "code",
   "execution_count": 112,
   "id": "1be3f2fb-68bb-4751-9c5a-f244fe882831",
   "metadata": {},
   "outputs": [],
   "source": [
    "import time"
   ]
  },
  {
   "cell_type": "code",
   "execution_count": 113,
   "id": "dd388e52-a9ad-4a32-8705-06250df57a44",
   "metadata": {},
   "outputs": [
    {
     "name": "stdout",
     "output_type": "stream",
     "text": [
      "time:  5.15625\n"
     ]
    }
   ],
   "source": [
    "s=time.process_time()\n",
    "list_cpu=[]\n",
    "for i in range(10000):\n",
    "    predictions=net(x)\n",
    "    loss=criterion(predictions,y)\n",
    "    optimizer.zero_grad()\n",
    "    loss.backward()\n",
    "    optimizer.step()\n",
    "    \n",
    "#     list_cpu.append(loss.item())\n",
    "#     torch.cat((loss_list,torch.tensor(loss.item())))\n",
    "    \n",
    "#     if i % 10 == 0:\n",
    "#         plt.cla()  # Clear axis即清除当前图形中的当前活动轴。其他轴不受影响\n",
    "#         plt.scatter(x.data.numpy(),y.data.numpy())\n",
    "#         plt.plot(x.data.numpy(),predictions.data.numpy(),'r',lw=3)\n",
    "#         plt.text(0.5,0,'Loss'+str(loss.item()))\n",
    "#         plt.pause(0.1)\n",
    "#         pass\n",
    "#     pass\n",
    "# plt.ioff()\n",
    "# plt.show()\n",
    "e=time.process_time()\n",
    "print('time: ',e-s)"
   ]
  },
  {
   "cell_type": "code",
   "execution_count": 108,
   "id": "7bce132a-3422-4989-b483-ccaed2531ed3",
   "metadata": {},
   "outputs": [
    {
     "data": {
      "text/plain": [
       "<function matplotlib.pyplot.show(close=None, block=None)>"
      ]
     },
     "execution_count": 108,
     "metadata": {},
     "output_type": "execute_result"
    },
    {
     "data": {
      "image/png": "[encoded data removed]",
      "text/plain": [
       "<Figure size 432x288 with 1 Axes>"
      ]
     },
     "metadata": {
      "needs_background": "light"
     },
     "output_type": "display_data"
    }
   ],
   "source": [
    "# loss_list.pop(0)\n",
    "plt.figure()\n",
    "plt.xscale('log')\n",
    "plt.plot(list_cpu)\n",
    "plt.show"
   ]
  },
  {
   "cell_type": "code",
   "execution_count": 49,
   "id": "8af0e835-a86a-41b7-9523-c94de50612d9",
   "metadata": {},
   "outputs": [
    {
     "ename": "SyntaxError",
     "evalue": "invalid syntax (<ipython-input-49-1f393369718e>, line 1)",
     "output_type": "error",
     "traceback": [
      "\u001b[1;36m  File \u001b[1;32m\"<ipython-input-49-1f393369718e>\"\u001b[1;36m, line \u001b[1;32m1\u001b[0m\n\u001b[1;33m    [x for i range(4)]\u001b[0m\n\u001b[1;37m             ^\u001b[0m\n\u001b[1;31mSyntaxError\u001b[0m\u001b[1;31m:\u001b[0m invalid syntax\n"
     ]
    }
   ],
   "source": []
  }
 ],
 "metadata": {
  "kernelspec": {
   "display_name": "Python 3 (ipykernel)",
   "language": "python",
   "name": "python3"
  },
  "language_info": {
   "codemirror_mode": {
    "name": "ipython",
    "version": 3
   },
   "file_extension": ".py",
   "mimetype": "text/x-python",
   "name": "python",
   "nbconvert_exporter": "python",
   "pygments_lexer": "ipython3",
   "version": "3.8.12"
  }
 },
 "nbformat": 4,
 "nbformat_minor": 5
}
