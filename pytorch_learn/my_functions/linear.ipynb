{
 "cells": [
  {
   "cell_type": "code",
   "execution_count": 5,
   "id": "093bb3bd-1a89-498a-927f-d8b85aaa47b5",
   "metadata": {},
   "outputs": [],
   "source": [
    "import numpy as np\n",
    "import torch\n",
    "import random\n",
    "%matplotlib inline\n",
    "import matplotlib.pyplot as plt"
   ]
  },
  {
   "cell_type": "code",
   "execution_count": 2,
   "id": "4d84408c-a92e-49fb-b6e3-d783f3089ceb",
   "metadata": {},
   "outputs": [],
   "source": [
    "def synthetic_data(w,b,num_examples):\n",
    "    X=torch.normal(0,1,(num_examples,len(w)))\n",
    "    y=torch.matmul(X,w)+b\n",
    "    y+=torch.normal(0,0.01,y.shape) #噪声\n",
    "    return X,y.reshape((-1,1))"
   ]
  },
  {
   "cell_type": "code",
   "execution_count": 4,
   "id": "808939ee-0c25-4620-a34f-fbf752c5554c",
   "metadata": {},
   "outputs": [],
   "source": [
    "true_w=torch.tensor([2,-3.4])\n",
    "true_b=4.2\n",
    "features,labels=synthetic_data(true_w,true_b,1000)"
   ]
  },
  {
   "cell_type": "code",
   "execution_count": 12,
   "id": "2e134471-b507-4c69-8cb8-32dd0602163f",
   "metadata": {},
   "outputs": [
    {
     "data": {
      "text/plain": [
       "<matplotlib.collections.PathCollection at 0x22cae862790>"
      ]
     },
     "execution_count": 12,
     "metadata": {},
     "output_type": "execute_result"
    },
    {
     "data": {
      "image/png": "[encoded data removed]",
      "text/plain": [
       "<Figure size 432x288 with 1 Axes>"
      ]
     },
     "metadata": {
      "needs_background": "light"
     },
     "output_type": "display_data"
    }
   ],
   "source": [
    "plt.scatter(features[:,0].numpy(),labels.numpy(),1)"
   ]
  },
  {
   "cell_type": "code",
   "execution_count": 9,
   "id": "fd5654f7-7ffa-4342-94a9-a465dc9ee605",
   "metadata": {},
   "outputs": [],
   "source": [
    "def data_iter(batch_size,features,labels):\n",
    "    num_examples=len(features)\n",
    "    indices=list(range(num_examples))\n",
    "    random.shuffle(indices)\n",
    "    for i in range(0,num_examples,batch_size):\n",
    "        batch_indices=torch.tensor(indices[i:min(i+batch_size,num_examples)])\n",
    "        yield features[batch_indices],labels[batch_indices]"
   ]
  },
  {
   "cell_type": "code",
   "execution_count": null,
   "id": "3c31f2d6-f828-4de1-bc50-d54c4509509b",
   "metadata": {},
   "outputs": [],
   "source": [
    "batch_size=10\n",
    "for X,y in data_iter(batch_size,features,labels):\n",
    "    print('X:{}\\ny:{}'.format(X,y))\n",
    "    break"
   ]
  },
  {
   "cell_type": "code",
   "execution_count": 14,
   "id": "1de90877-14bd-442d-99fa-d1a5e4142e24",
   "metadata": {},
   "outputs": [],
   "source": [
    "w=torch.normal(0,0.01,size=(2,1),requires_grad=True)\n",
    "b=torch.zeros(1,requires_grad=True)"
   ]
  },
  {
   "cell_type": "code",
   "execution_count": 16,
   "id": "0c833698-152f-4596-a4fa-9137d6dfc1a0",
   "metadata": {},
   "outputs": [],
   "source": [
    "def linear_regression(X,w,b):\n",
    "    '''线性回归模型'''\n",
    "    return torch.matmul(X,w)+b\n",
    "def squared_loss(y_hat,y):\n",
    "    '''均方损失'''\n",
    "    return (y_hat-y.reshape(y_hat.shape))**2/2"
   ]
  },
  {
   "cell_type": "code",
   "execution_count": 17,
   "id": "14b2b901-c465-4775-beb0-f43b056c6c00",
   "metadata": {},
   "outputs": [],
   "source": [
    "def sgd(params,lr,batch_size):\n",
    "    '''优化算法：小批量随机梯度下降'''\n",
    "    with torch.no_grad():\n",
    "        for param in params:\n",
    "            param-=lr*param.grad/batch_size\n",
    "            param.grad.zero_()"
   ]
  },
  {
   "cell_type": "code",
   "execution_count": 19,
   "id": "b7d1e341-a658-4e45-b1d9-016d57efbcfd",
   "metadata": {},
   "outputs": [
    {
     "name": "stdout",
     "output_type": "stream",
     "text": [
      "epoch:1,loss:0.11230054497718811\n",
      "epoch:2,loss:0.04858741536736488\n",
      "epoch:3,loss:0.04849347099661827\n"
     ]
    }
   ],
   "source": [
    "lr=0.03\n",
    "num_epochs=3\n",
    "net=linear_regression\n",
    "loss=squared_loss\n",
    "\n",
    "for epoch in range(num_epochs):\n",
    "    for X,y in data_iter(batch_size,features,labels):\n",
    "        l=loss(net(X,w,b),y)\n",
    "        l.sum().backward()\n",
    "        sgd([w,b],lr,batch_size)\n",
    "    with torch.no_grad():\n",
    "        train_l=loss(net(features,w,b),labels)\n",
    "        print('epoch:{},loss:{}'.format(epoch+1,train_l.sum()))"
   ]
  },
  {
   "cell_type": "code",
   "execution_count": null,
   "id": "dd7088d8-b0cd-42be-ac48-e0bfa647ac87",
   "metadata": {},
   "outputs": [],
   "source": []
  }
 ],
 "metadata": {
  "kernelspec": {
   "display_name": "Python 3",
   "language": "python",
   "name": "python3"
  },
  "language_info": {
   "codemirror_mode": {
    "name": "ipython",
    "version": 3
   },
   "file_extension": ".py",
   "mimetype": "text/x-python",
   "name": "python",
   "nbconvert_exporter": "python",
   "pygments_lexer": "ipython3",
   "version": "3.8.8"
  }
 },
 "nbformat": 4,
 "nbformat_minor": 5
}
