{
 "cells": [
  {
   "cell_type": "code",
   "execution_count": 14,
   "id": "9a13ed44-f2e3-4d83-bec3-9bd13d082a67",
   "metadata": {},
   "outputs": [],
   "source": [
    "import numpy as np\n",
    "import torch\n",
    "import random\n",
    "%matplotlib inline\n",
    "import matplotlib.pyplot as plt\n",
    "import torch.nn as nn"
   ]
  },
  {
   "cell_type": "code",
   "execution_count": 2,
   "id": "e957a683-786a-40bf-8892-40f9ebce9e3e",
   "metadata": {},
   "outputs": [],
   "source": [
    "T=1000\n",
    "time=torch.arange(1,T+1,dtype=torch.float32)\n",
    "x=torch.sin(0.01*time)+torch.normal(0,0.2,(T,))"
   ]
  },
  {
   "cell_type": "code",
   "execution_count": 7,
   "id": "5b8ec98b-41eb-4225-882c-3d05e3a47833",
   "metadata": {},
   "outputs": [
    {
     "data": {
      "text/plain": [
       "<matplotlib.collections.PathCollection at 0x1e26ca20820>"
      ]
     },
     "execution_count": 7,
     "metadata": {},
     "output_type": "execute_result"
    },
    {
     "data": {
      "image/png": "[encoded data removed]",
      "text/plain": [
       "<Figure size 432x288 with 1 Axes>"
      ]
     },
     "metadata": {
      "needs_background": "light"
     },
     "output_type": "display_data"
    }
   ],
   "source": [
    "plt.scatter(time.numpy(),[x.numpy()],1)"
   ]
  },
  {
   "cell_type": "code",
   "execution_count": 10,
   "id": "8e7228e7-90fe-48db-95fe-4a94d252ed94",
   "metadata": {},
   "outputs": [],
   "source": [
    "tau=4\n",
    "features=torch.zeros((T-tau,tau))\n",
    "for i in range(tau):\n",
    "    features[:,i]=x[i:T-tau+i]\n",
    "labels=x[tau:].reshape((-1,1))\n",
    "\n",
    "batch_size,n_train=16,600\n"
   ]
  },
  {
   "cell_type": "code",
   "execution_count": 11,
   "id": "d4a31e63-4d3a-44a3-abff-7018881c5ff4",
   "metadata": {},
   "outputs": [],
   "source": [
    "def data_iter(batch_size,features,labels):\n",
    "    num_examples=len(features)\n",
    "    indices=list(range(num_examples))\n",
    "    random.shuffle(indices)\n",
    "    for i in range(0,num_examples,batch_size):\n",
    "        batch_indices=torch.tensor(indices[i:min(i+batch_size,num_examples)])\n",
    "        yield features[batch_indices],labels[batch_indices]"
   ]
  },
  {
   "cell_type": "code",
   "execution_count": 12,
   "id": "0f32986e-991f-4054-bb2c-0c0b97ff22f7",
   "metadata": {},
   "outputs": [],
   "source": [
    "train_iter=data_iter(batch_size,features,labels)"
   ]
  },
  {
   "cell_type": "code",
   "execution_count": 19,
   "id": "ced2a79e-6930-4890-a542-316960b6a41b",
   "metadata": {},
   "outputs": [],
   "source": [
    "def init_weight(m):\n",
    "    if type(m)==nn.Linear:\n",
    "        nn.init.xavier_uniform_(m.weight)\n",
    "\n",
    "def get_net():\n",
    "    net=nn.Sequential(nn.Linear(4,10),nn.ReLU(),nn.Linear(10,1))\n",
    "    net.apply(init_weight)\n",
    "    return net\n",
    "\n",
    "loss=nn.MSELoss()"
   ]
  },
  {
   "cell_type": "code",
   "execution_count": 20,
   "id": "ce579b34-e1c1-4cc7-9779-48f724800b44",
   "metadata": {},
   "outputs": [],
   "source": [
    "def train(net,train_iter,loss,epochs,lr):\n",
    "    trainer=torch.optim.Adam(net.parameters(),lr)\n",
    "    for epoch in range(epochs):\n",
    "        for X,y in train_iter:\n",
    "            trainer.zero_grad()\n",
    "            l=loss(net(X),y)\n",
    "            l.backward()\n",
    "            trainer.step()\n",
    "        print(f'epoch {epoch+1}, loss {l.sum()}')\n",
    "net=get_net()"
   ]
  },
  {
   "cell_type": "code",
   "execution_count": 21,
   "id": "f77c145b-4c20-4932-a79e-a032efcdcc40",
   "metadata": {},
   "outputs": [
    {
     "name": "stdout",
     "output_type": "stream",
     "text": [
      "epoch 1, loss 0.03664383664727211\n",
      "epoch 2, loss 0.03664383664727211\n",
      "epoch 3, loss 0.03664383664727211\n",
      "epoch 4, loss 0.03664383664727211\n",
      "epoch 5, loss 0.03664383664727211\n"
     ]
    }
   ],
   "source": [
    "train(net,train_iter,loss,5,0.01)"
   ]
  }
 ],
 "metadata": {
  "kernelspec": {
   "display_name": "Python 3",
   "language": "python",
   "name": "python3"
  },
  "language_info": {
   "codemirror_mode": {
    "name": "ipython",
    "version": 3
   },
   "file_extension": ".py",
   "mimetype": "text/x-python",
   "name": "python",
   "nbconvert_exporter": "python",
   "pygments_lexer": "ipython3",
   "version": "3.8.8"
  }
 },
 "nbformat": 4,
 "nbformat_minor": 5
}
