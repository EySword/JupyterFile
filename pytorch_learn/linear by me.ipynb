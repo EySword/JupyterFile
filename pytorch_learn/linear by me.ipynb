{
 "cells": [
  {
   "cell_type": "code",
   "execution_count": 1,
   "id": "bc46cb86-c10b-47f4-a61a-9d1cbe633c4e",
   "metadata": {},
   "outputs": [],
   "source": [
    "import torch\n",
    "import torch.nn as nn\n",
    "import torch.nn.functional as F\n",
    "import numpy as np"
   ]
  },
  {
   "cell_type": "code",
   "execution_count": 46,
   "id": "96818b1b-9dec-4ca8-a93a-5a6cc410d2ba",
   "metadata": {},
   "outputs": [],
   "source": [
    "import matplotlib.pyplot as plt\n",
    "from torch.autograd import Variable"
   ]
  },
  {
   "cell_type": "code",
   "execution_count": 3,
   "id": "a8aa8cfc-5fd7-4517-9a23-3fb75456695f",
   "metadata": {},
   "outputs": [
    {
     "data": {
      "text/plain": [
       "device(type='cuda', index=0)"
      ]
     },
     "execution_count": 3,
     "metadata": {},
     "output_type": "execute_result"
    }
   ],
   "source": [
    "device=torch.device('cuda:0' if torch.cuda.is_available() else 'cpu')\n",
    "device"
   ]
  },
  {
   "cell_type": "code",
   "execution_count": 74,
   "id": "6ab6b405-0d44-4906-9abd-1b2267e747d9",
   "metadata": {},
   "outputs": [],
   "source": [
    "X = torch.linspace(1,-1,100)\n",
    "X = X.view(-1,1)\n",
    "Y = X.pow(2)+torch.rand(X.shape)*0.2"
   ]
  },
  {
   "cell_type": "code",
   "execution_count": 75,
   "id": "f6af4e01-be60-47cf-971b-36da91f364b0",
   "metadata": {},
   "outputs": [],
   "source": [
    "X = Variable(X).to(device)\n",
    "Y = Variable(Y).to(device)"
   ]
  },
  {
   "cell_type": "code",
   "execution_count": 5,
   "id": "0cb105f2-d724-4177-897d-9d170a79a518",
   "metadata": {},
   "outputs": [],
   "source": [
    "X_test = torch.linspace(1,-1,10)\n",
    "X_test = X_test.view(-1,1)\n",
    "Y_test = 3*pow(X_test,4)+1*pow(X_test,3)-pow(X_test,2)+1*X_test+torch.rand(X_test.shape)*0.01"
   ]
  },
  {
   "cell_type": "code",
   "execution_count": 68,
   "id": "1fc84383-f016-4515-99e7-45b7d4b4a08f",
   "metadata": {},
   "outputs": [
    {
     "data": {
      "text/plain": [
       "<matplotlib.collections.PathCollection at 0x2ef198fd250>"
      ]
     },
     "execution_count": 68,
     "metadata": {},
     "output_type": "execute_result"
    },
    {
     "data": {
      "image/png": "[encoded data removed]",
      "text/plain": [
       "<Figure size 432x288 with 1 Axes>"
      ]
     },
     "metadata": {
      "needs_background": "light"
     },
     "output_type": "display_data"
    }
   ],
   "source": [
    "plt.scatter(X.cpu(),Y.cpu(),s=1)"
   ]
  },
  {
   "cell_type": "code",
   "execution_count": 59,
   "id": "89d6d680-3558-40cb-b611-996ea31cbfeb",
   "metadata": {},
   "outputs": [],
   "source": [
    "X=X.to(device).requires_grad_()\n",
    "Y=Y.to(device).requires_grad_()\n",
    "X_test=X_test.to(device)\n",
    "Y_test=Y_test.to(device)"
   ]
  },
  {
   "cell_type": "code",
   "execution_count": 76,
   "id": "5d7b78cd-731f-481d-ab01-e1143fdc1bd4",
   "metadata": {},
   "outputs": [],
   "source": [
    "class Net(nn.Module):\n",
    "    def __init__(self,input_dim,output_dim):\n",
    "        super(Net,self).__init__()\n",
    "        self.in_dim,self.out_dim = input_dim, output_dim\n",
    "        self.l1 = nn.Sequential(\n",
    "            nn.Linear(self.in_dim, 1000),\n",
    "            nn.ReLU())\n",
    "        self.l2 = nn.Linear(1000,1)\n",
    "    \n",
    "    def forward(self,X):\n",
    "        self.X = self.l1(X)\n",
    "        self.X = self.l2(self.X)\n",
    "        return self.X"
   ]
  },
  {
   "cell_type": "code",
   "execution_count": 88,
   "id": "3079c1b3-00e8-4253-8025-62fb1d231d4e",
   "metadata": {},
   "outputs": [
    {
     "data": {
      "text/plain": [
       "Net(\n",
       "  (l1): Sequential(\n",
       "    (0): Linear(in_features=1, out_features=1000, bias=True)\n",
       "    (1): ReLU()\n",
       "  )\n",
       "  (l2): Linear(in_features=1000, out_features=1, bias=True)\n",
       ")"
      ]
     },
     "execution_count": 88,
     "metadata": {},
     "output_type": "execute_result"
    }
   ],
   "source": [
    "net = Net(X.shape[1],Y.shape[1])\n",
    "net.to(device)"
   ]
  },
  {
   "cell_type": "code",
   "execution_count": 89,
   "id": "c6f8bb8b-f93a-4fc4-8def-1aefd009bf26",
   "metadata": {},
   "outputs": [],
   "source": [
    "optm = torch.optim.SGD(net.parameters(), lr=0.001)\n",
    "loss = nn.MSELoss()"
   ]
  },
  {
   "cell_type": "code",
   "execution_count": 30,
   "id": "c1b581b6-079c-409f-a802-44d4882fb76d",
   "metadata": {},
   "outputs": [],
   "source": [
    "from tqdm import tqdm"
   ]
  },
  {
   "cell_type": "code",
   "execution_count": 31,
   "id": "51626ec1-296f-4900-a21c-6d147bcced63",
   "metadata": {},
   "outputs": [],
   "source": [
    "train_loader = torch.utils.data.DataLoader(dataset=X,\n",
    "                                           batch_size=10)\n",
    "                                           "
   ]
  },
  {
   "cell_type": "code",
   "execution_count": 90,
   "id": "bb4904ff-80c4-416c-970c-701809ee1ce0",
   "metadata": {},
   "outputs": [],
   "source": [
    "loss_list=[]"
   ]
  },
  {
   "cell_type": "code",
   "execution_count": 91,
   "id": "50a648e2-99f0-44db-8cae-9adfe527f60f",
   "metadata": {},
   "outputs": [
    {
     "name": "stderr",
     "output_type": "stream",
     "text": [
      "100%|██████████████████████████████████████████████████████████████████████████| 10000/10000 [00:06<00:00, 1546.62it/s]\n"
     ]
    }
   ],
   "source": [
    "# net.train()\n",
    "for epoc in tqdm(range(10000)):\n",
    "    res = net(X)\n",
    "    l = loss(res ,Y)\n",
    "\n",
    "    net.zero_grad()\n",
    "    l.backward()\n",
    "    optm.step()\n",
    "    if epoc%100==0:\n",
    "        loss_list.append(l.item())"
   ]
  },
  {
   "cell_type": "code",
   "execution_count": 94,
   "id": "b93fdd28-966c-46a3-8925-8329848733b5",
   "metadata": {},
   "outputs": [
    {
     "data": {
      "text/plain": [
       "<function matplotlib.pyplot.show(close=None, block=None)>"
      ]
     },
     "execution_count": 94,
     "metadata": {},
     "output_type": "execute_result"
    },
    {
     "data": {
      "image/png": "[encoded data removed]",
      "text/plain": [
       "<Figure size 432x288 with 1 Axes>"
      ]
     },
     "metadata": {
      "needs_background": "light"
     },
     "output_type": "display_data"
    }
   ],
   "source": [
    "plt.figure()\n",
    "plt.xscale('log')\n",
    "plt.ylim((0,0.2))\n",
    "plt.plot(loss_list)\n",
    "plt.show"
   ]
  },
  {
   "cell_type": "code",
   "execution_count": 124,
   "id": "e211bb14-b3dc-4c0c-9c40-131cd0e638b7",
   "metadata": {},
   "outputs": [],
   "source": [
    "test=torch.linspace(-1,1,50).view(-1,1).to(device)\n",
    "ite=iter(test)"
   ]
  },
  {
   "cell_type": "code",
   "execution_count": 125,
   "id": "6b3ae623-ae10-4fe2-a93e-6cdde1cd92d3",
   "metadata": {},
   "outputs": [],
   "source": [
    "ydata=[]\n",
    "with torch.no_grad():\n",
    "    for i,item in enumerate(ite):\n",
    "        out=net(item)\n",
    "        ydata.append(out.cpu())"
   ]
  },
  {
   "cell_type": "code",
   "execution_count": 129,
   "id": "1d43178e-ee37-45e2-8418-217a15b717e3",
   "metadata": {},
   "outputs": [
    {
     "name": "stderr",
     "output_type": "stream",
     "text": [
      "D:\\anaconda3\\lib\\site-packages\\numpy\\ma\\core.py:2826: FutureWarning: The input object of type 'Tensor' is an array-like implementing one of the corresponding protocols (`__array__`, `__array_interface__` or `__array_struct__`); but not a sequence (or 0-D). In the future, this object will be coerced as if it was first converted using `np.array(obj)`. To retain the old behaviour, you have to either modify the type 'Tensor', or assign to an empty array created with `np.empty(correct_shape, dtype=object)`.\n",
      "  _data = np.array(data, dtype=dtype, copy=copy,\n",
      "D:\\anaconda3\\lib\\site-packages\\numpy\\ma\\core.py:2826: VisibleDeprecationWarning: Creating an ndarray from ragged nested sequences (which is a list-or-tuple of lists-or-tuples-or ndarrays with different lengths or shapes) is deprecated. If you meant to do this, you must specify 'dtype=object' when creating the ndarray.\n",
      "  _data = np.array(data, dtype=dtype, copy=copy,\n"
     ]
    },
    {
     "data": {
      "image/png": "[encoded data removed]",
      "text/plain": [
       "<Figure size 432x288 with 1 Axes>"
      ]
     },
     "metadata": {
      "needs_background": "light"
     },
     "output_type": "display_data"
    }
   ],
   "source": [
    "plt.figure()\n",
    "plt.scatter(test.cpu(),ydata,c='r')\n",
    "plt.scatter(X.cpu(),Y.cpu())\n",
    "plt.show()"
   ]
  }
 ],
 "metadata": {
  "kernelspec": {
   "display_name": "Python 3",
   "language": "python",
   "name": "python3"
  },
  "language_info": {
   "codemirror_mode": {
    "name": "ipython",
    "version": 3
   },
   "file_extension": ".py",
   "mimetype": "text/x-python",
   "name": "python",
   "nbconvert_exporter": "python",
   "pygments_lexer": "ipython3",
   "version": "3.8.8"
  }
 },
 "nbformat": 4,
 "nbformat_minor": 5
}
