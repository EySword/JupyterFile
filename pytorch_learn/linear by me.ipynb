{
 "cells": [
  {
   "cell_type": "code",
   "execution_count": 1,
   "id": "bc46cb86-c10b-47f4-a61a-9d1cbe633c4e",
   "metadata": {},
   "outputs": [],
   "source": [
    "import torch\n",
    "import torch.nn as nn\n",
    "import torch.nn.functional as F\n",
    "import numpy as np"
   ]
  },
  {
   "cell_type": "code",
   "execution_count": 5,
   "id": "96818b1b-9dec-4ca8-a93a-5a6cc410d2ba",
   "metadata": {},
   "outputs": [],
   "source": [
    "import matplotlib.pyplot as plt"
   ]
  },
  {
   "cell_type": "code",
   "execution_count": 29,
   "id": "a8aa8cfc-5fd7-4517-9a23-3fb75456695f",
   "metadata": {},
   "outputs": [
    {
     "data": {
      "text/plain": [
       "device(type='cuda', index=0)"
      ]
     },
     "execution_count": 29,
     "metadata": {},
     "output_type": "execute_result"
    }
   ],
   "source": [
    "device=torch.device('cuda:0' if torch.cuda.is_available() else 'cpu')\n",
    "device"
   ]
  },
  {
   "cell_type": "code",
   "execution_count": 25,
   "id": "6ab6b405-0d44-4906-9abd-1b2267e747d9",
   "metadata": {},
   "outputs": [],
   "source": [
    "X = torch.linspace(1,-1,100)\n",
    "X = X.view(-1,1)\n",
    "Y = 3*pow(X,4)+1*pow(X,3)-pow(X,2)+1*X+torch.rand(X.shape)*0.01"
   ]
  },
  {
   "cell_type": "code",
   "execution_count": 47,
   "id": "0cb105f2-d724-4177-897d-9d170a79a518",
   "metadata": {},
   "outputs": [],
   "source": [
    "X_test = torch.linspace(1,-1,10)\n",
    "X_test = X_test.view(-1,1)\n",
    "Y_test = 3*pow(X_test,4)+1*pow(X_test,3)-pow(X_test,2)+1*X_test+torch.rand(X_test.shape)*0.01"
   ]
  },
  {
   "cell_type": "code",
   "execution_count": 26,
   "id": "1fc84383-f016-4515-99e7-45b7d4b4a08f",
   "metadata": {},
   "outputs": [
    {
     "data": {
      "text/plain": [
       "<matplotlib.collections.PathCollection at 0x1c54d35c340>"
      ]
     },
     "execution_count": 26,
     "metadata": {},
     "output_type": "execute_result"
    },
    {
     "data": {
      "image/png": "[encoded data removed]",
      "text/plain": [
       "<Figure size 432x288 with 1 Axes>"
      ]
     },
     "metadata": {
      "needs_background": "light"
     },
     "output_type": "display_data"
    }
   ],
   "source": [
    "plt.scatter(X,Y,s=0.2)"
   ]
  },
  {
   "cell_type": "code",
   "execution_count": 63,
   "id": "89d6d680-3558-40cb-b611-996ea31cbfeb",
   "metadata": {},
   "outputs": [],
   "source": [
    "X=X.to(device).requires_grad_()\n",
    "Y=Y.to(device).requires_grad_()\n",
    "X_test=X_test.to(device)\n",
    "Y_test=Y_test.to(device)"
   ]
  },
  {
   "cell_type": "code",
   "execution_count": 70,
   "id": "5d7b78cd-731f-481d-ab01-e1143fdc1bd4",
   "metadata": {},
   "outputs": [],
   "source": [
    "class Net(nn.Module):\n",
    "    def __init__(self,input_dim,output_dim):\n",
    "        super(Net,self).__init__()\n",
    "        self.in_dim,self.out_dim = input_dim, output_dim\n",
    "        self.l1 = nn.Sequential(\n",
    "            nn.Linear(self.in_dim, 10),\n",
    "            nn.ReLU())\n",
    "        self.l2 = nn.Linear(10,5)\n",
    "        self.l3 = nn.Linear(5,self.out_dim)\n",
    "    \n",
    "    def forward(self,X):\n",
    "        self.X = self.l1(X)\n",
    "        self.X = self.l2(self.X)\n",
    "        return self.l3(self.X)"
   ]
  },
  {
   "cell_type": "code",
   "execution_count": 71,
   "id": "3079c1b3-00e8-4253-8025-62fb1d231d4e",
   "metadata": {},
   "outputs": [
    {
     "data": {
      "text/plain": [
       "Net(\n",
       "  (l1): Sequential(\n",
       "    (0): Linear(in_features=1, out_features=10, bias=True)\n",
       "    (1): ReLU()\n",
       "  )\n",
       "  (l2): Linear(in_features=10, out_features=5, bias=True)\n",
       "  (l3): Linear(in_features=5, out_features=1, bias=True)\n",
       ")"
      ]
     },
     "execution_count": 71,
     "metadata": {},
     "output_type": "execute_result"
    }
   ],
   "source": [
    "net = Net(X.shape[1],Y.shape[1])\n",
    "net.to(device)"
   ]
  },
  {
   "cell_type": "code",
   "execution_count": 72,
   "id": "c6f8bb8b-f93a-4fc4-8def-1aefd009bf26",
   "metadata": {},
   "outputs": [],
   "source": [
    "optm = torch.optim.SGD(net.parameters(), lr=0.02)\n",
    "loss = nn.MSELoss()"
   ]
  },
  {
   "cell_type": "code",
   "execution_count": 73,
   "id": "c1b581b6-079c-409f-a802-44d4882fb76d",
   "metadata": {},
   "outputs": [],
   "source": [
    "from tqdm import tqdm"
   ]
  },
  {
   "cell_type": "code",
   "execution_count": 74,
   "id": "51626ec1-296f-4900-a21c-6d147bcced63",
   "metadata": {},
   "outputs": [],
   "source": [
    "train_loader = torch.utils.data.DataLoader(dataset=X,\n",
    "                                           batch_size=10)\n",
    "                                           "
   ]
  },
  {
   "cell_type": "code",
   "execution_count": 75,
   "id": "bb4904ff-80c4-416c-970c-701809ee1ce0",
   "metadata": {},
   "outputs": [],
   "source": [
    "loss_list=[]"
   ]
  },
  {
   "cell_type": "code",
   "execution_count": 76,
   "id": "50a648e2-99f0-44db-8cae-9adfe527f60f",
   "metadata": {},
   "outputs": [
    {
     "name": "stderr",
     "output_type": "stream",
     "text": [
      "100%|██████████████████████████████████████████████████████████████████████████████| 100/100 [00:00<00:00, 1661.47it/s]\n"
     ]
    }
   ],
   "source": [
    "net.train()\n",
    "for epoc in tqdm(range(100)):\n",
    "    res = net(X)\n",
    "    l = loss(X,Y)\n",
    "    loss_list.append(l.sum())\n",
    "    net.zero_grad()\n",
    "    l.backward()\n",
    "    optm.step()"
   ]
  },
  {
   "cell_type": "code",
   "execution_count": 84,
   "id": "b93fdd28-966c-46a3-8925-8329848733b5",
   "metadata": {},
   "outputs": [],
   "source": [
    "for i in range(100):\n",
    "    loss_list[i]=loss_list[i].to('cpu').detach().numpy()"
   ]
  },
  {
   "cell_type": "code",
   "execution_count": 85,
   "id": "cfce6810-7230-417f-bd6f-6bd3b9d70800",
   "metadata": {},
   "outputs": [
    {
     "data": {
      "text/plain": [
       "[<matplotlib.lines.Line2D at 0x1c54e713550>]"
      ]
     },
     "execution_count": 85,
     "metadata": {},
     "output_type": "execute_result"
    },
    {
     "data": {
      "image/png": "[encoded data removed]",
      "text/plain": [
       "<Figure size 432x288 with 1 Axes>"
      ]
     },
     "metadata": {
      "needs_background": "light"
     },
     "output_type": "display_data"
    }
   ],
   "source": [
    "plt.plot(range(100),loss_list)"
   ]
  }
 ],
 "metadata": {
  "kernelspec": {
   "display_name": "main_research",
   "language": "python",
   "name": "main_research"
  },
  "language_info": {
   "codemirror_mode": {
    "name": "ipython",
    "version": 3
   },
   "file_extension": ".py",
   "mimetype": "text/x-python",
   "name": "python",
   "nbconvert_exporter": "python",
   "pygments_lexer": "ipython3",
   "version": "3.9.12"
  }
 },
 "nbformat": 4,
 "nbformat_minor": 5
}
