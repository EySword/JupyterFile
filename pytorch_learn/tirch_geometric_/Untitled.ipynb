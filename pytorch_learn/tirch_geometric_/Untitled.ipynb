{
 "cells": [
  {
   "cell_type": "code",
   "execution_count": null,
   "id": "bc662abc-ba2a-46f9-a276-22fe8664e212",
   "metadata": {},
   "outputs": [],
   "source": [
    "import torch_geometric\n",
    "import torch\n",
    "from torch_geometric.data import "
   ]
  }
 ],
 "metadata": {
  "kernelspec": {
   "display_name": "main_research",
   "language": "python",
   "name": "main_research"
  },
  "language_info": {
   "codemirror_mode": {
    "name": "ipython",
    "version": 3
   },
   "file_extension": ".py",
   "mimetype": "text/x-python",
   "name": "python",
   "nbconvert_exporter": "python",
   "pygments_lexer": "ipython3",
   "version": "3.9.12"
  }
 },
 "nbformat": 4,
 "nbformat_minor": 5
}
