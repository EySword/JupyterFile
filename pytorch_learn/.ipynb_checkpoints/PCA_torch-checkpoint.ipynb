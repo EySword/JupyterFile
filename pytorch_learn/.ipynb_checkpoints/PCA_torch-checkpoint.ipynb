{
 "cells": [
  {
   "cell_type": "code",
   "execution_count": 2,
   "id": "d184b3ab-76cf-4802-b0d0-c2b056cec592",
   "metadata": {},
   "outputs": [],
   "source": [
    "import numpy as np\n",
    "import matplotlib.pyplot as plt\n",
    "import torch"
   ]
  },
  {
   "cell_type": "code",
   "execution_count": 3,
   "id": "b8db07b0-2448-4e97-86eb-1e64667f83dc",
   "metadata": {},
   "outputs": [],
   "source": [
    "# Generate datasets\n",
    "def generate_data():\n",
    "    '''Generate 3 Gaussians samples with the same covariance matrix'''\n",
    "    n, dim = 512, 3\n",
    "    np.random.seed(0)\n",
    "    C = np.array([[1.,0.2, 0], [0.15, 1, 0.2], [0.1, 0.4, 10.0]])\n",
    "    X = np.r_[\n",
    "            np.dot(np.random.randn(n, dim), C),\n",
    "            np.dot(np.random.randn(n, dim), C) + np.array([1, 2, 5]),\n",
    "            np.dot(np.random.randn(n, dim), C) + np.array([-5, -2, 3]),\n",
    "              ]\n",
    "    y = np.hstack((\n",
    "        np.ones(n)*0,\n",
    "        np.ones(n)*1,\n",
    "        np.ones(n)*2,\n",
    "        ))\n",
    "    return X, y"
   ]
  },
  {
   "cell_type": "code",
   "execution_count": 2,
   "id": "1f3dbc06-fc6e-4fe5-8fe2-f6db806312c5",
   "metadata": {},
   "outputs": [
    {
     "data": {
      "text/plain": [
       "array([0., 0., 0., 1., 1., 1., 2., 2., 2.])"
      ]
     },
     "execution_count": 2,
     "metadata": {},
     "output_type": "execute_result"
    }
   ],
   "source": [
    "class PCA(object):\n",
    "    def __init__(self,n_components=2):\n",
    "        self.n_components=n_components\n",
    "        \n",
    "    \n",
    "    def fit(self,X):\n",
    "        n=X.shape[1]\n",
    "        self.mean=torch.mean(X,0)\n",
    "        X = X - self.mean\n",
    "        convX = 1/n * torch.matmul(X.T,X)\n",
    "        eigenvalues, eigenvectors = torch.eig(convX , eigenvectors=True)\n",
    "        eigenvalues = torch.norm(egienvalues, dim = -1)\n",
    "        idx = torch.argsort(-eigenvalues)\n",
    "        eigenvectors = eigenvectors[:,idx]\n",
    "        self.proj_mat = eigenvectors[:,0:self.n_components]\n",
    "    \n",
    "    def transform(self,X):\n",
    "        X=X-self.mean\n",
    "        return X.matmul(self.proj_mat)\n",
    "        "
   ]
  },
  {
   "cell_type": "code",
   "execution_count": 11,
   "id": "117e6a60-af7f-409c-a6b8-76a09a1b71e2",
   "metadata": {},
   "outputs": [
    {
     "name": "stdout",
     "output_type": "stream",
     "text": [
      "tensor([[ 4.0000,  0.0000],\n",
      "        [-2.0000,  0.0000],\n",
      "        [-2.0000,  0.0000]], dtype=torch.float64) \n",
      " tensor([[-0.4082, -0.8103,  0.1933],\n",
      "        [-0.4082, -0.3185, -0.5904],\n",
      "        [-0.8165,  0.4918, -0.7836]], dtype=torch.float64)\n"
     ]
    }
   ],
   "source": [
    "A=np.array([[1.,-3.,3.],[3.,-5.,3.],[6.,-6.,4.]])\n",
    "m,n=torch.eig(torch.from_numpy(A),eigenvectors=True)\n",
    "print(m,'\\n',n)"
   ]
  },
  {
   "cell_type": "code",
   "execution_count": 13,
   "id": "bb32a8df-6587-4222-a436-37a1433485f5",
   "metadata": {},
   "outputs": [
    {
     "data": {
      "text/plain": [
       "tensor([1, 2, 0])"
      ]
     },
     "execution_count": 13,
     "metadata": {},
     "output_type": "execute_result"
    }
   ],
   "source": [
    "torch.argsort(torch.norm(m,dim=-1))"
   ]
  }
 ],
 "metadata": {
  "kernelspec": {
   "display_name": "Python 3",
   "language": "python",
   "name": "python3"
  },
  "language_info": {
   "codemirror_mode": {
    "name": "ipython",
    "version": 3
   },
   "file_extension": ".py",
   "mimetype": "text/x-python",
   "name": "python",
   "nbconvert_exporter": "python",
   "pygments_lexer": "ipython3",
   "version": "3.8.8"
  }
 },
 "nbformat": 4,
 "nbformat_minor": 5
}
