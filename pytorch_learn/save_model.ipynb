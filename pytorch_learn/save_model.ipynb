{
 "cells": [
  {
   "cell_type": "markdown",
   "id": "9a538151-3c80-4b2b-af44-ac72af7599e0",
   "metadata": {},
   "source": [
    "#保存和读取模型：\n",
    "\n",
    "'torch.save' 和 'torch.load'\n"
   ]
  },
  {
   "cell_type": "markdown",
   "id": "ebe24517-4f17-4072-a894-173f6d31ddf4",
   "metadata": {},
   "source": [
    "#Pytorch有一个'state_dic'的数据类型\n",
    "\n",
    "相当于python中的dic\n",
    "\n",
    "##储存和读取模型时，Pytorch会将：\n",
    "\n",
    "模型中每一个可学习层映射到一个单独的张量上\n",
    "\n",
    "'state_dic'每一个张量读取到对应的可学习层上"
   ]
  }
 ],
 "metadata": {
  "kernelspec": {
   "display_name": "Python 3",
   "language": "python",
   "name": "python3"
  },
  "language_info": {
   "codemirror_mode": {
    "name": "ipython",
    "version": 3
   },
   "file_extension": ".py",
   "mimetype": "text/x-python",
   "name": "python",
   "nbconvert_exporter": "python",
   "pygments_lexer": "ipython3",
   "version": "3.8.8"
  }
 },
 "nbformat": 4,
 "nbformat_minor": 5
}
