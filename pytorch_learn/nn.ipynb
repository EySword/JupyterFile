{
 "cells": [
  {
   "cell_type": "code",
   "execution_count": 1,
   "id": "7a0b241f-2e75-4279-b4c3-aec5803b3f05",
   "metadata": {},
   "outputs": [],
   "source": [
    "import torch\n",
    "import torch.nn as nn\n",
    "import torch.nn.functional as F"
   ]
  },
  {
   "cell_type": "code",
   "execution_count": 13,
   "id": "3edad2f1-a21f-4453-a2e6-2637d1df7550",
   "metadata": {},
   "outputs": [],
   "source": [
    "class Net(nn.Module):\n",
    "    def __init__(self):\n",
    "        #定义神经网络结构，输入数据：1*32*32\n",
    "        super(Net,self).__init__()\n",
    "        #第一层：卷积层\n",
    "        self.conv1=nn.Conv2d(1,6,3) #输入1层，输出6层，33的卷积核\n",
    "        #第二层：卷积层\n",
    "        self.conv2=nn.Conv2d(6,16,3)\n",
    "        #第三层：全连接层\n",
    "        self.fc1=nn.Linear(16*28*28,512) #16*28*28=12544\n",
    "        #第四层：全连接层\n",
    "        self.fc2=nn.Linear(512,64)\n",
    "        #第五层：全连接层\n",
    "        self.fc3=nn.Linear(64,2)\n",
    "        pass\n",
    "    \n",
    "    def forward(self,x):\n",
    "        #定义数据的流向\n",
    "        x=self.conv1(x)\n",
    "        x=F.relu(x)\n",
    "        \n",
    "        x=self.conv2(x)\n",
    "        x=F.relu(x)\n",
    "        \n",
    "        x=x.view(-1,16*28*28)\n",
    "        x=self.fc1(x)\n",
    "        x=F.relu(x)\n",
    "        \n",
    "        x=self.fc2(x)\n",
    "        x=F.relu(x)\n",
    "        \n",
    "        x=self.fc3(x)\n",
    "        \n",
    "        return x\n",
    "    pass"
   ]
  },
  {
   "cell_type": "code",
   "execution_count": 14,
   "id": "24335640-a909-4ff7-8b59-738b4750fea1",
   "metadata": {},
   "outputs": [
    {
     "name": "stdout",
     "output_type": "stream",
     "text": [
      "Net(\n",
      "  (conv1): Conv2d(1, 6, kernel_size=(3, 3), stride=(1, 1))\n",
      "  (conv2): Conv2d(6, 16, kernel_size=(3, 3), stride=(1, 1))\n",
      "  (fc1): Linear(in_features=12544, out_features=512, bias=True)\n",
      "  (fc2): Linear(in_features=512, out_features=64, bias=True)\n",
      "  (fc3): Linear(in_features=64, out_features=2, bias=True)\n",
      ")\n"
     ]
    }
   ],
   "source": [
    "net=Net()\n",
    "print(net)"
   ]
  },
  {
   "cell_type": "code",
   "execution_count": 15,
   "id": "c881ca3b-5466-4bcd-b8bd-b77c5b58c391",
   "metadata": {},
   "outputs": [
    {
     "name": "stdout",
     "output_type": "stream",
     "text": [
      "tensor([[[[0.7862, 0.8964, 0.4521,  ..., 0.3917, 0.9104, 0.5559],\n",
      "          [0.4300, 0.7227, 0.9387,  ..., 0.1354, 0.9128, 0.1052],\n",
      "          [0.1397, 0.8436, 0.0162,  ..., 0.6412, 0.7090, 0.5238],\n",
      "          ...,\n",
      "          [0.5738, 0.6194, 0.9920,  ..., 0.0896, 0.8290, 0.3072],\n",
      "          [0.9476, 0.5282, 0.5923,  ..., 0.2440, 0.4066, 0.1187],\n",
      "          [0.0600, 0.7276, 0.6594,  ..., 0.4618, 0.1426, 0.3043]]]])\n",
      "torch.Size([1, 1, 32, 32])\n"
     ]
    }
   ],
   "source": [
    "#生成随机数据\n",
    "input_data=torch.rand(1,1,32,32)\n",
    "print(input_data)\n",
    "print(input_data.shape)\n"
   ]
  },
  {
   "cell_type": "code",
   "execution_count": 16,
   "id": "95ae44b4-c814-4b38-bd3e-5144ebfa5171",
   "metadata": {},
   "outputs": [
    {
     "name": "stdout",
     "output_type": "stream",
     "text": [
      "tensor([[ 0.0625, -0.0652]], grad_fn=<AddmmBackward0>)\n",
      "torch.Size([1, 2])\n"
     ]
    }
   ],
   "source": [
    "#运行神经网络\n",
    "out=net(input_data)\n",
    "print(out)\n",
    "print(out.size())"
   ]
  },
  {
   "cell_type": "code",
   "execution_count": 17,
   "id": "4371a908-fe53-4ee7-9fef-c87c53acd445",
   "metadata": {},
   "outputs": [
    {
     "name": "stdout",
     "output_type": "stream",
     "text": [
      "tensor([[0.7887, 0.5964]])\n",
      "torch.Size([1, 2])\n"
     ]
    }
   ],
   "source": [
    "#随机生成真实值\n",
    "target=torch.rand(2)\n",
    "target=target.view(1,-1)\n",
    "print(target)\n",
    "print(target.size())"
   ]
  },
  {
   "cell_type": "code",
   "execution_count": 18,
   "id": "a9972f6a-2be7-4f60-b3c9-29b08e621c28",
   "metadata": {},
   "outputs": [
    {
     "name": "stdout",
     "output_type": "stream",
     "text": [
      "tensor(0.6939, grad_fn=<L1LossBackward0>)\n"
     ]
    }
   ],
   "source": [
    "criterion=nn.L1Loss() #定义损失函数\n",
    "loss=criterion(out,target) #计算损失\n",
    "print(loss)"
   ]
  },
  {
   "cell_type": "code",
   "execution_count": 19,
   "id": "d7df57fe-5d21-4528-ada5-d5e5c84b6879",
   "metadata": {},
   "outputs": [],
   "source": [
    "net.zero_grad() #清零所有梯度\n",
    "loss.backward() #自动计算梯度，反向传递"
   ]
  },
  {
   "cell_type": "code",
   "execution_count": 20,
   "id": "02c7106b-07ab-4e37-aa0e-b10991249272",
   "metadata": {},
   "outputs": [],
   "source": [
    "import torch.optim as optim\n",
    "#优化权重\n",
    "optimizer=optim.SGD(net.parameters(),lr=0.01)\n",
    "optimizer.step()"
   ]
  },
  {
   "cell_type": "code",
   "execution_count": 21,
   "id": "cd42717c-778d-4d1e-9966-f3beda5f13a7",
   "metadata": {},
   "outputs": [
    {
     "name": "stdout",
     "output_type": "stream",
     "text": [
      "tensor([[ 0.0862, -0.0279]], grad_fn=<AddmmBackward0>)\n",
      "torch.Size([1, 2])\n"
     ]
    }
   ],
   "source": [
    "#再次运行神经网络\n",
    "out=net(input_data)\n",
    "print(out)\n",
    "print(out.size())"
   ]
  },
  {
   "cell_type": "code",
   "execution_count": null,
   "id": "eba8aa3d-17a5-4494-baf7-7ebf55d114c2",
   "metadata": {},
   "outputs": [],
   "source": []
  }
 ],
 "metadata": {
  "kernelspec": {
   "display_name": "Python 3",
   "language": "python",
   "name": "python3"
  },
  "language_info": {
   "codemirror_mode": {
    "name": "ipython",
    "version": 3
   },
   "file_extension": ".py",
   "mimetype": "text/x-python",
   "name": "python",
   "nbconvert_exporter": "python",
   "pygments_lexer": "ipython3",
   "version": "3.8.8"
  }
 },
 "nbformat": 4,
 "nbformat_minor": 5
}
