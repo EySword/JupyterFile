{
 "cells": [
  {
   "cell_type": "code",
   "execution_count": 1,
   "id": "60634f5a-b4e5-47cb-8119-f86358b1d6ea",
   "metadata": {},
   "outputs": [],
   "source": [
    "import tensorflow as tf\n",
    "import tensorflow.keras as keras\n",
    "import numpy as np\n",
    "import pandas as pd\n",
    "import matplotlib.pyplot as plt\n",
    "import tensorflow_datasets as tfds"
   ]
  },
  {
   "cell_type": "code",
   "execution_count": 2,
   "id": "c8e1bb22-ab6e-47c1-a17f-1b8e1417d413",
   "metadata": {},
   "outputs": [],
   "source": [
    "import matplotlib as mpl\n",
    "from tqdm import trange\n",
    "import import_ipynb"
   ]
  },
  {
   "cell_type": "code",
   "execution_count": 3,
   "id": "9869b464-8651-442d-bd78-b603bcd6cf4b",
   "metadata": {},
   "outputs": [
    {
     "name": "stdout",
     "output_type": "stream",
     "text": [
      "importing Jupyter notebook from style_fun.ipynb\n",
      "importing Jupyter notebook from Model.ipynb\n"
     ]
    }
   ],
   "source": [
    "import style_fun as func\n",
    "import Model as model"
   ]
  },
  {
   "cell_type": "code",
   "execution_count": null,
   "id": "7878c139-c6a4-485b-8e8b-cbf6dded895d",
   "metadata": {},
   "outputs": [],
   "source": []
  },
  {
   "cell_type": "code",
   "execution_count": 4,
   "id": "919e1eb1-fdd6-433b-bcea-093776428cdc",
   "metadata": {},
   "outputs": [],
   "source": [
    "style_weight = 0.01\n",
    "content_weight = 1e4\n",
    "total_variation_weight = 1e8\n",
    "\n",
    "epochs = 10\n",
    "steps_per_epoch = 100"
   ]
  },
  {
   "cell_type": "code",
   "execution_count": 5,
   "id": "abc60cd1-aeaa-425d-aa87-67c48aee1bdf",
   "metadata": {},
   "outputs": [],
   "source": [
    "mpl.rcParams['figure.figsize']=(12,12)\n",
    "mpl.rcParams['axes.grid']=False"
   ]
  },
  {
   "cell_type": "code",
   "execution_count": 6,
   "id": "6c8e379c-b6bc-4eec-863d-3d490e33593c",
   "metadata": {},
   "outputs": [],
   "source": [
    "content_path='style17.jpeg'\n",
    "style_path='style20.jpg'"
   ]
  },
  {
   "cell_type": "code",
   "execution_count": 7,
   "id": "310921b5-417e-47aa-a1da-502e0adb0417",
   "metadata": {},
   "outputs": [],
   "source": [
    "content_image=func.load_img(content_path)\n",
    "style_image=func.load_img(style_path)"
   ]
  },
  {
   "cell_type": "code",
   "execution_count": 8,
   "id": "692c6a69-d8cd-4c72-9d5d-388a492de685",
   "metadata": {},
   "outputs": [],
   "source": [
    "content_layers=['block5_conv1']\n",
    "style_layers=['block1_conv1',\n",
    "             'block2_conv1',\n",
    "             'block3_conv1',\n",
    "             'block4_conv1',\n",
    "             'block5_conv1',]"
   ]
  },
  {
   "cell_type": "code",
   "execution_count": 9,
   "id": "f4d12d52-560c-4474-9065-c9f36686c5ac",
   "metadata": {},
   "outputs": [],
   "source": [
    "num_content_layers=len(content_layers)\n",
    "num_style_layers=len(style_layers)"
   ]
  },
  {
   "cell_type": "code",
   "execution_count": 10,
   "id": "553f59ba-87a3-438f-9e3e-2b7363a93cc3",
   "metadata": {},
   "outputs": [],
   "source": [
    "extractor=model.StyleContentModel(style_layers,content_layers)"
   ]
  },
  {
   "cell_type": "code",
   "execution_count": 11,
   "id": "e425d499-f9ad-4a57-ad5c-7efe1136b98c",
   "metadata": {},
   "outputs": [],
   "source": [
    "style_targets=extractor(style_image)['style']\n",
    "content_targets=extractor(content_image)['content']"
   ]
  },
  {
   "cell_type": "code",
   "execution_count": 13,
   "id": "addab96b-8c47-4d11-9cc2-10dcd57048fb",
   "metadata": {},
   "outputs": [],
   "source": [
    "opt = tf.optimizers.Adam(learning_rate=0.02,beta_1=0.99,epsilon=1e-1)\n",
    "image = tf.Variable(content_image + tf.random.truncated_normal(content_image.shape,mean=0.0,stddev=0.08),trainable=True)"
   ]
  },
  {
   "cell_type": "code",
   "execution_count": 24,
   "id": "e21eedd3-edb2-4065-9153-45412b626e48",
   "metadata": {},
   "outputs": [],
   "source": [
    "def style_content_lose(outputs):\n",
    "    style_outputs = outputs['style'] #用来表示style信息的网络层输出，这里已经计算过Gram矩阵了，已经除过NM\n",
    "    content_outputs = outputs['content'] #用来表示content信息的网络层输出，不需要Gram矩阵\n",
    "    style_loss = tf.add_n([tf.reduce_mean((style_outputs[name]-style_targets[name])**2) \n",
    "                          for name in style_outputs.keys()])\n",
    "    style_loss *= style_weight / num_style_layers\n",
    "    \n",
    "    content_loss = tf.add_n([tf.reduce_mean((content_outputs[name]-content_targets[name])**2) \n",
    "                            for name in content_outputs.keys()])\n",
    "    content_loss *= content_weight / num_content_layers\n",
    "    loss = style_loss + content_loss\n",
    "    return loss"
   ]
  },
  {
   "cell_type": "code",
   "execution_count": 25,
   "id": "dd188251-0d4d-4452-8eaa-a71c301e5680",
   "metadata": {},
   "outputs": [],
   "source": [
    "@tf.function()\n",
    "def train_step(image):\n",
    "    with tf.GradientTape() as tape:\n",
    "        outputs = extractor(image)\n",
    "        loss = style_content_lose(outputs)\n",
    "        loss += total_variation_weight*func.total_variation_loss(image)\n",
    "    grad=tape.gradient(loss,image)\n",
    "    opt.apply_gradients([(grad,image)])\n",
    "    image.assign(func.clip_0_1(image))"
   ]
  },
  {
   "cell_type": "code",
   "execution_count": 26,
   "id": "f8666e29-5902-4e52-a1be-daa48d7afc6d",
   "metadata": {},
   "outputs": [
    {
     "name": "stderr",
     "output_type": "stream",
     "text": [
      "100%|████████████████████████████████████████████████████████████████████████████| 1000/1000 [1:42:56<00:00,  6.18s/it]\n"
     ]
    }
   ],
   "source": [
    "for n in trange(epochs*steps_per_epoch):\n",
    "    train_step(image)"
   ]
  },
  {
   "cell_type": "code",
   "execution_count": null,
   "id": "172994dc-f588-4400-8715-e10f5b1bfe2b",
   "metadata": {},
   "outputs": [],
   "source": [
    "plt.imshow(image.read_value()[0])\n",
    "plt.show()\n",
    "print(image.read_value()[0].shape)\n"
   ]
  },
  {
   "cell_type": "code",
   "execution_count": null,
   "id": "7b5b803e-396b-4bb6-b94a-d8ab9762267a",
   "metadata": {},
   "outputs": [],
   "source": [
    "Eimg=tf.image.convert_image_dtype(image.read_value([0],tf.uint8))\n",
    "Eimg=tf.image.ecode_jpeg(Eimg)\n",
    "tf.io.write_file('F13.jpg',Eimg)"
   ]
  }
 ],
 "metadata": {
  "kernelspec": {
   "display_name": "Python 3",
   "language": "python",
   "name": "python3"
  },
  "language_info": {
   "codemirror_mode": {
    "name": "ipython",
    "version": 3
   },
   "file_extension": ".py",
   "mimetype": "text/x-python",
   "name": "python",
   "nbconvert_exporter": "python",
   "pygments_lexer": "ipython3",
   "version": "3.8.8"
  }
 },
 "nbformat": 4,
 "nbformat_minor": 5
}
