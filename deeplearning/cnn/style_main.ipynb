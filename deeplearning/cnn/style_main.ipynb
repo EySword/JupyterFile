{
 "cells": [
  {
   "cell_type": "code",
   "execution_count": 1,
   "id": "60634f5a-b4e5-47cb-8119-f86358b1d6ea",
   "metadata": {},
   "outputs": [],
   "source": [
    "import tensorflow as tf\n",
    "import tensorflow.keras as keras\n",
    "import numpy as np\n",
    "import pandas as pd\n",
    "import matplotlib.pyplot as plt\n",
    "import tensorflow_datasets as tfds"
   ]
  },
  {
   "cell_type": "code",
   "execution_count": 2,
   "id": "c8e1bb22-ab6e-47c1-a17f-1b8e1417d413",
   "metadata": {},
   "outputs": [],
   "source": [
    "import matplotlib as mpl\n",
    "import import_ipynb"
   ]
  },
  {
   "cell_type": "code",
   "execution_count": 3,
   "id": "9869b464-8651-442d-bd78-b603bcd6cf4b",
   "metadata": {},
   "outputs": [
    {
     "name": "stdout",
     "output_type": "stream",
     "text": [
      "importing Jupyter notebook from style_fun.ipynb\n"
     ]
    }
   ],
   "source": [
    "import style_fun as func\n"
   ]
  },
  {
   "cell_type": "code",
   "execution_count": null,
   "id": "7878c139-c6a4-485b-8e8b-cbf6dded895d",
   "metadata": {},
   "outputs": [],
   "source": [
    "import style_model as model"
   ]
  },
  {
   "cell_type": "code",
   "execution_count": 4,
   "id": "abc60cd1-aeaa-425d-aa87-67c48aee1bdf",
   "metadata": {},
   "outputs": [],
   "source": [
    "mpl.rcParams['figure.figsize']=(12,12)\n",
    "mpl.rcParams['axes.grid']=False"
   ]
  },
  {
   "cell_type": "code",
   "execution_count": 5,
   "id": "6c8e379c-b6bc-4eec-863d-3d490e33593c",
   "metadata": {},
   "outputs": [],
   "source": [
    "content_path='style17.jpeg'\n",
    "style_path='style20.jpg'"
   ]
  },
  {
   "cell_type": "code",
   "execution_count": 6,
   "id": "310921b5-417e-47aa-a1da-502e0adb0417",
   "metadata": {},
   "outputs": [],
   "source": [
    "content_image=func.load_img(content_path)\n",
    "style_image=func.load_img(style_path)"
   ]
  },
  {
   "cell_type": "code",
   "execution_count": null,
   "id": "692c6a69-d8cd-4c72-9d5d-388a492de685",
   "metadata": {},
   "outputs": [],
   "source": []
  }
 ],
 "metadata": {
  "kernelspec": {
   "display_name": "Python 3",
   "language": "python",
   "name": "python3"
  },
  "language_info": {
   "codemirror_mode": {
    "name": "ipython",
    "version": 3
   },
   "file_extension": ".py",
   "mimetype": "text/x-python",
   "name": "python",
   "nbconvert_exporter": "python",
   "pygments_lexer": "ipython3",
   "version": "3.8.8"
  }
 },
 "nbformat": 4,
 "nbformat_minor": 5
}
