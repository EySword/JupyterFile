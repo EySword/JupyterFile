{
 "cells": [
  {
   "cell_type": "code",
   "execution_count": 9,
   "id": "ee1dde42-a729-45d5-83cd-4d0ab7ab3673",
   "metadata": {},
   "outputs": [],
   "source": [
    "import tensorflow as tf\n",
    "import tensorflow.keras as keras\n",
    "import numpy as np\n",
    "import pandas as pd\n",
    "import matplotlib.pyplot as plt\n",
    "import tensorflow_datasets as tfds"
   ]
  },
  {
   "cell_type": "code",
   "execution_count": 10,
   "id": "b51fd597-8f2e-4d93-a125-b49845cd8531",
   "metadata": {},
   "outputs": [],
   "source": [
    "def style_content_lose(outputs):\n",
    "    style_outputs = outputs['style'] #用来表示style信息的网络层输出，这里已经计算过Gram矩阵了，已经除过NM\n",
    "    content_outputs = outputs['content'] #用来表示content信息的网络层输出，不需要Gram矩阵\n",
    "    style_loss = tf.add_n([tf.reduce_mean((style_outputs[name]-style_targets[name])**2) \n",
    "                          for name in style_outputs.keys()])\n",
    "    style_loss *= style_weight / num_style_layers\n",
    "    \n",
    "    content_loss = tf.add_n([tf.reduce_mean((content_outputs[name]-content_targets[name])**2) \n",
    "                            for name in content_outputs.keys()])\n",
    "    content_loss *= content_weight / num_content_layers\n",
    "    loss = style_loss + content_loss\n",
    "    return loss"
   ]
  },
  {
   "cell_type": "code",
   "execution_count": 11,
   "id": "cb20c7d1-df7d-46c8-9dec-571934afd58b",
   "metadata": {},
   "outputs": [],
   "source": [
    "def gram_matrix(input_tensor):\n",
    "    result = tf.einsum('lijc,lijd->lcd',input_tensor,input_tensor)\n",
    "    input_shape = tf.shape(input_tensor)\n",
    "    num_locations = tf.cast(input_shape[1]*input_shape[2],tf.float32)\n",
    "    return result/(num_locations)"
   ]
  },
  {
   "cell_type": "code",
   "execution_count": 12,
   "id": "76f0d275-499d-48fb-834f-10ba76e3e04e",
   "metadata": {},
   "outputs": [],
   "source": [
    "def load_img(path_to_img):\n",
    "    max_dim=1200\n",
    "    img = tf.io.read_file(path_to_img) #读取的还是乱码\n",
    "    img = tf.image.decode_image(img,channels=3) #数值为0-256的RGB\n",
    "    img = tf.image.convert_image_dtype(img,tf.float32) #数值变为0-1\n",
    "    \n",
    "    shape = tf.cast(tf.shape(img)[:-1],tf.float32)\n",
    "    long_dim = max(shape)\n",
    "    scale = max_dim/long_dim\n",
    "    \n",
    "    new_shape = tf.cast(shape*scale,tf.int32) #图片长宽最高为1200\n",
    "    \n",
    "    img = tf.image.resize(img,new_shape)\n",
    "    img = img[tf.newaxis,:]\n",
    "    \n",
    "    return img"
   ]
  },
  {
   "cell_type": "code",
   "execution_count": 13,
   "id": "03d8737f-f242-4dea-90b2-292b1505944a",
   "metadata": {},
   "outputs": [],
   "source": [
    "def clip_0_1(image):\n",
    "    return tf.clip_by_value(image,clip_value_min=0.0,clip_value_max=1.0)"
   ]
  },
  {
   "cell_type": "code",
   "execution_count": 14,
   "id": "34d22e18-32c1-4401-8b97-00dc71ad973c",
   "metadata": {},
   "outputs": [],
   "source": [
    "def high_pass_x_y(image):\n",
    "    x_var = image[:,:,1:,:]-image[:,:,:-1,:]\n",
    "    y_var = image[:,1:,:,:]-image[:,:-1,:,:]\n",
    "    return x_var, y_var"
   ]
  },
  {
   "cell_type": "code",
   "execution_count": 15,
   "id": "cb1a5a16-ca02-4861-baa0-c57093ed89fe",
   "metadata": {},
   "outputs": [],
   "source": [
    "def total_variation_loss(image):\n",
    "    x_deltas,y_deltas = high_pass_x_y(image)\n",
    "    return tf.reduce_mean(x_deltas**2)+tf.reduce_mean(y_deltas**2)"
   ]
  }
 ],
 "metadata": {
  "kernelspec": {
   "display_name": "Python 3",
   "language": "python",
   "name": "python3"
  },
  "language_info": {
   "codemirror_mode": {
    "name": "ipython",
    "version": 3
   },
   "file_extension": ".py",
   "mimetype": "text/x-python",
   "name": "python",
   "nbconvert_exporter": "python",
   "pygments_lexer": "ipython3",
   "version": "3.8.8"
  }
 },
 "nbformat": 4,
 "nbformat_minor": 5
}
