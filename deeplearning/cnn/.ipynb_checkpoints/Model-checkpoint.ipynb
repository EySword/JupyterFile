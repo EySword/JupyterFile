{
 "cells": [
  {
   "cell_type": "code",
   "execution_count": 12,
   "id": "c25ba914-9f88-451c-9847-ea201252cd0c",
   "metadata": {},
   "outputs": [],
   "source": [
    "import tensorflow as tf\n",
    "import import_ipynb\n",
    "import style_fun as func"
   ]
  },
  {
   "cell_type": "code",
   "execution_count": 13,
   "id": "120fc74e-a7c1-4de8-b883-4db4b4e90e97",
   "metadata": {},
   "outputs": [],
   "source": [
    "def vgg_layers(layer_names):\n",
    "    vgg=tf.keras.applications.VGG19(include_top=False,weights='imagenet')\n",
    "    vgg.trainable=False\n",
    "    outputs=[vgg.get_layer(name).output for name in layer_names]\n",
    "    model=tf.keras.Model([vgg.input],outputs)\n",
    "    return model"
   ]
  },
  {
   "cell_type": "code",
   "execution_count": 14,
   "id": "cb2ce1e5-99b4-4562-aa57-b4b792ee2c92",
   "metadata": {},
   "outputs": [],
   "source": [
    "class StyleContentModel(tf.keras.Model) :\n",
    "    #我把tf.kears.models.Model改成了keras.Model\n",
    "    def __init__(self, style_layers,content_layers):\n",
    "        super(StyleContentModel,self).__init__()\n",
    "        self.vgg=vgg_layers(style_layers+content_layers)\n",
    "        self.style_layers=style_layers\n",
    "        self.content_layers=content_layers\n",
    "        self.num_style_layers=len(style_layers)\n",
    "        self.vgg.trainable=False\n",
    "        pass\n",
    "    def call(self,inputs):\n",
    "        \"Expects float input in [0,1]\"\n",
    "        inputs=inputs*255.0\n",
    "        preprocessed_input=tf.keras.applications.vgg19.preprocess_input(inputs)\n",
    "        outputs=self.vgg(preprocessed_input)\n",
    "        style_outputs, content_outputs=(outputs[:self.num_style_layers],\n",
    "                                       outputs[self.num_style_layers:])\n",
    "        style_outputs=[func.gram_matrix(style_output) \n",
    "                      for style_output in style_outputs]\n",
    "        content_dict={content_name:value \n",
    "                     for content_name, value \n",
    "                     in zip(self.content_layers,content_outputs)}\n",
    "        style_dict={style_name:value \n",
    "                   for style_name, value \n",
    "                   in zip(self.style_layers,style_outputs)}\n",
    "        return {'content':content_dict, 'style':style_dict}"
   ]
  }
 ],
 "metadata": {
  "kernelspec": {
   "display_name": "Python 3",
   "language": "python",
   "name": "python3"
  },
  "language_info": {
   "codemirror_mode": {
    "name": "ipython",
    "version": 3
   },
   "file_extension": ".py",
   "mimetype": "text/x-python",
   "name": "python",
   "nbconvert_exporter": "python",
   "pygments_lexer": "ipython3",
   "version": "3.8.8"
  }
 },
 "nbformat": 4,
 "nbformat_minor": 5
}
