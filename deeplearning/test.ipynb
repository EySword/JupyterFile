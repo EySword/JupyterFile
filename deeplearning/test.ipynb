{
 "cells": [
  {
   "cell_type": "code",
   "execution_count": 1,
   "id": "4d67b1d4-09b6-4899-a33c-e13f010ede9f",
   "metadata": {},
   "outputs": [],
   "source": [
    "import tensorflow as tf\n",
    "import numpy as np\n",
    "import matplotlib.pyplot as plt\n",
    "import os\n",
    "\n",
    "from tensorflow.keras.layers import Embedding\n",
    "from tensorflow.keras.preprocessing.text import Tokenizer\n",
    "from tensorflow.keras.preprocessing.sequence import pad_sequences"
   ]
  },
  {
   "cell_type": "code",
   "execution_count": 5,
   "id": "3f5d0d8f-b145-47d5-9701-93a9bfba5899",
   "metadata": {},
   "outputs": [
    {
     "data": {
      "text/plain": [
       "array([[ 0,  0,  0,  0,  0,  0,  0,  0,  0,  0],\n",
       "       [ 0,  1,  2,  3,  4,  5,  6,  7,  8,  9],\n",
       "       [ 0,  2,  4,  6,  8, 10, 12, 14, 16, 18],\n",
       "       [ 0,  3,  6,  9, 12, 15, 18, 21, 24, 27],\n",
       "       [ 0,  4,  8, 12, 16, 20, 24, 28, 32, 36],\n",
       "       [ 0,  5, 10, 15, 20, 25, 30, 35, 40, 45],\n",
       "       [ 0,  6, 12, 18, 24, 30, 36, 42, 48, 54],\n",
       "       [ 0,  7, 14, 21, 28, 35, 42, 49, 56, 63],\n",
       "       [ 0,  8, 16, 24, 32, 40, 48, 56, 64, 72],\n",
       "       [ 0,  9, 18, 27, 36, 45, 54, 63, 72, 81]])"
      ]
     },
     "execution_count": 5,
     "metadata": {},
     "output_type": "execute_result"
    }
   ],
   "source": [
    "np.arange(10)[:,np.newaxis]*np.arange(10)[np.newaxis,:]"
   ]
  },
  {
   "cell_type": "code",
   "execution_count": 6,
   "id": "bdcf153d-cf0d-4c8e-9fdf-138d98941578",
   "metadata": {},
   "outputs": [],
   "source": [
    "import sklearn"
   ]
  },
  {
   "cell_type": "code",
   "execution_count": 7,
   "id": "17a9c8c9-02a6-4171-8e79-b9aac6c9b1ec",
   "metadata": {},
   "outputs": [
    {
     "data": {
      "text/plain": [
       "[64, 64, 64, 128, 128, 128, 128]"
      ]
     },
     "execution_count": 7,
     "metadata": {},
     "output_type": "execute_result"
    }
   ],
   "source": [
    "[64]*3+[128]*4"
   ]
  },
  {
   "cell_type": "code",
   "execution_count": 8,
   "id": "e16d361a-551f-4010-8194-67a226dd7918",
   "metadata": {},
   "outputs": [],
   "source": [
    "a=1\n",
    "def fu(a):\n",
    "    print(a+4)"
   ]
  },
  {
   "cell_type": "code",
   "execution_count": 9,
   "id": "77968a69-a7c8-4260-be2f-baebde330238",
   "metadata": {},
   "outputs": [
    {
     "name": "stdout",
     "output_type": "stream",
     "text": [
      "6\n"
     ]
    }
   ],
   "source": [
    "fu(2)"
   ]
  },
  {
   "cell_type": "code",
   "execution_count": 11,
   "id": "dda0e382-9150-41f0-84c8-6393607c29af",
   "metadata": {},
   "outputs": [],
   "source": [
    "img = tf.io.read_file('style17.jpeg')"
   ]
  },
  {
   "cell_type": "code",
   "execution_count": 8,
   "id": "bcabc7bb-d8bd-41fd-9700-d5fedef66d19",
   "metadata": {},
   "outputs": [
    {
     "data": {
      "text/plain": [
       "TensorShape([1080, 1920, 3])"
      ]
     },
     "execution_count": 8,
     "metadata": {},
     "output_type": "execute_result"
    }
   ],
   "source": [
    "img.shape"
   ]
  },
  {
   "cell_type": "code",
   "execution_count": 12,
   "id": "1d43f43c-1de4-4b02-897d-b45779c1a892",
   "metadata": {},
   "outputs": [],
   "source": [
    "img = tf.image.decode_image(img,channels=3)"
   ]
  },
  {
   "cell_type": "code",
   "execution_count": null,
   "id": "3ffc35ce-73e3-40b6-aa3b-b16f688840d9",
   "metadata": {},
   "outputs": [],
   "source": [
    "img"
   ]
  },
  {
   "cell_type": "code",
   "execution_count": 9,
   "id": "c6ac6e5b-e7fe-4b4c-96b3-822066f0459c",
   "metadata": {},
   "outputs": [],
   "source": [
    "img = tf.image.convert_image_dtype(img,tf.float32)"
   ]
  },
  {
   "cell_type": "code",
   "execution_count": 17,
   "id": "0d3ce589-0094-4aae-9809-5a956f543d9b",
   "metadata": {},
   "outputs": [
    {
     "data": {
      "text/plain": [
       "<tf.Tensor: shape=(3,), dtype=int32, numpy=array([1080, 1920,    3])>"
      ]
     },
     "execution_count": 17,
     "metadata": {},
     "output_type": "execute_result"
    }
   ],
   "source": [
    "tf.shape(img)"
   ]
  },
  {
   "cell_type": "code",
   "execution_count": 16,
   "id": "ea47f34d-0c8e-4778-94eb-d102d56560f9",
   "metadata": {},
   "outputs": [
    {
     "data": {
      "text/plain": [
       "<tf.Tensor: shape=(2,), dtype=int32, numpy=array([1080, 1920])>"
      ]
     },
     "execution_count": 16,
     "metadata": {},
     "output_type": "execute_result"
    }
   ],
   "source": [
    "tf.shape(img)[:-1]"
   ]
  }
 ],
 "metadata": {
  "kernelspec": {
   "display_name": "Python 3",
   "language": "python",
   "name": "python3"
  },
  "language_info": {
   "codemirror_mode": {
    "name": "ipython",
    "version": 3
   },
   "file_extension": ".py",
   "mimetype": "text/x-python",
   "name": "python",
   "nbconvert_exporter": "python",
   "pygments_lexer": "ipython3",
   "version": "3.8.8"
  }
 },
 "nbformat": 4,
 "nbformat_minor": 5
}
