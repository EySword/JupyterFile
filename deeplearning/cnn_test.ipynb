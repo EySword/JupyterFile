{
 "cells": [
  {
   "cell_type": "code",
   "execution_count": 3,
   "id": "0e9210c8-5dba-47f2-af28-228792a9b077",
   "metadata": {},
   "outputs": [],
   "source": [
    "from sklearn.datasets import load_sample_image\n",
    "import numpy as np\n",
    "import matplotlib as mpl\n",
    "import matplotlib.pyplot as plt"
   ]
  },
  {
   "cell_type": "code",
   "execution_count": 6,
   "id": "ef54805d-f676-43c4-a7b6-7bb6c11a8801",
   "metadata": {},
   "outputs": [],
   "source": [
    "import tensorflow as tf\n",
    "from tensorflow import keras"
   ]
  },
  {
   "cell_type": "code",
   "execution_count": 10,
   "id": "514e1b97-fdf4-4cdd-acc8-7cdf622eaf57",
   "metadata": {},
   "outputs": [],
   "source": [
    "model1 = keras.models.Sequential([\n",
    "    keras.layers.Conv2D(64,7,activation='relu',padding='same',input_shape=[28,28,1]),\n",
    "    keras.layers.MaxPooling2D(2),\n",
    "    keras.layers.Conv2D(128,3,activation='relu',padding='same'),\n",
    "    keras.layers.Conv2D(128,3,activation='relu',padding='same'),\n",
    "    keras.layers.MaxPooling2D(2),\n",
    "    keras.layers.Conv2D(256,3,activation='relu',padding='same'),\n",
    "    keras.layers.Conv2D(256,3,activation='relu',padding='same'),\n",
    "    keras.layers.MaxPooling2D(2),\n",
    "    keras.layers.Flatten(),\n",
    "    keras.layers.Dense(128,activation='relu'),\n",
    "    keras.layers.Dropout(0.5),\n",
    "    keras.layers.Dense(64,activation='relu'),\n",
    "    keras.layers.Dropout(0.5),\n",
    "    keras.layers.Dense(10,activation='softmax')\n",
    "])"
   ]
  },
  {
   "cell_type": "code",
   "execution_count": 9,
   "id": "7eb70cce-8da4-4b34-8e6d-55682f3ab16e",
   "metadata": {},
   "outputs": [],
   "source": [
    "class ResidualUnit(keras.layers.Layer):\n",
    "    def __init__(self,filters,strides=1,activation='relu',**kwargs):\n",
    "        super().init(**kwargs)\n",
    "        self.activation=kearas.activations.get(cativation)\n",
    "        self.main_layers=[\n",
    "            keras.layers.Conv2D(filters,3,strides=strides,padding='same',use_bias=False),\n",
    "            keras.layers.BatchNormalization(),\n",
    "            self.activation,\n",
    "            kears.layers.Conv2D(filters,3,strides=1,padding='same',use_bias=False),\n",
    "            keras.layers.BatchNormalization()\n",
    "        ]\n",
    "        self.skip_layers=[]\n",
    "        if strides > 1:\n",
    "            self.skip_layers=[\n",
    "                keras.layers.Conv2D(fliters,1,strides=strides,padding='same',use_bias=False),\n",
    "                keras.layers.BatchNormalization()\n",
    "            ]\n",
    "    \n",
    "    def call(self,inputs):\n",
    "        Z=inputs\n",
    "        for layer in self.main_layers:\n",
    "            Z=layer(Z)\n",
    "            pass\n",
    "        skip_Z=inputs\n",
    "        for layer in self.skip_layers:\n",
    "            skip_Z=layer(skip_Z)\n",
    "            pass\n",
    "        return self.activation(Z+skip_Z)"
   ]
  },
  {
   "cell_type": "code",
   "execution_count": null,
   "id": "53294a6a-ebaa-44f2-8d0e-406db6595175",
   "metadata": {},
   "outputs": [],
   "source": [
    "model2=keras.models.Sequential()\n",
    "model2.add(keras.layers.Conv2D(64,7,strides=2,input_shape=[224,224,3],padding='same',use_bias=False))\n",
    "model2.add(keras.layers.BatchNormalization())\n",
    "model2.add(keras.layers.Activation('relu'))\n",
    "model2.add(keras.layers.MaxPool2D(pool_size=3,strides=2,padding='same'))\n",
    "prev_filters=64\n",
    "for filters in [64]*3+[128]*4+[256]*6+[512]*3:\n",
    "    strides=1 if filters == prev_filters else 2\n",
    "    model2.add(ResidualUnit(filters,strides=strides))\n",
    "    prev_filters=filters\n",
    "    pass\n",
    "model2.add(keras.layers.GlobalAveragePooling2D())\n",
    "model2.add(keras.layers.Flatten())\n",
    "model2.add(keras.layers.Dense(10,activation='softmax'))"
   ]
  }
 ],
 "metadata": {
  "kernelspec": {
   "display_name": "Python 3",
   "language": "python",
   "name": "python3"
  },
  "language_info": {
   "codemirror_mode": {
    "name": "ipython",
    "version": 3
   },
   "file_extension": ".py",
   "mimetype": "text/x-python",
   "name": "python",
   "nbconvert_exporter": "python",
   "pygments_lexer": "ipython3",
   "version": "3.8.8"
  }
 },
 "nbformat": 4,
 "nbformat_minor": 5
}
