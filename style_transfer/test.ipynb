{
 "cells": [
  {
   "cell_type": "code",
   "execution_count": 1,
   "id": "207aeeb3-93ce-454d-8f83-9754fc0f8dca",
   "metadata": {},
   "outputs": [],
   "source": [
    "import torch\n",
    "import numpy as np\n",
    "import torch.nn as nn"
   ]
  },
  {
   "cell_type": "code",
   "execution_count": 46,
   "id": "e484c4e9-4cb9-41fb-b869-76213f54f1ca",
   "metadata": {},
   "outputs": [],
   "source": [
    "matrix=torch.rand(1,512,512,512)\n"
   ]
  },
  {
   "cell_type": "code",
   "execution_count": 28,
   "id": "4771b02b-b123-4f06-8909-090be64b7db7",
   "metadata": {},
   "outputs": [],
   "source": [
    "matrix2=torch.randint(1,10,(5,5))\n",
    "matrix2=matrix2.view(1,1,5,5).type(torch.FloatTensor)"
   ]
  },
  {
   "cell_type": "code",
   "execution_count": 35,
   "id": "9f9ce8e7-d916-4906-af71-7fb76b7dec84",
   "metadata": {},
   "outputs": [
    {
     "data": {
      "text/plain": [
       "torch.Size([1, 1, 5, 5])"
      ]
     },
     "execution_count": 35,
     "metadata": {},
     "output_type": "execute_result"
    }
   ],
   "source": [
    "matrix2.shape"
   ]
  },
  {
   "cell_type": "code",
   "execution_count": 42,
   "id": "db0cef18-c1cb-4fea-98e1-c56a54b839d5",
   "metadata": {},
   "outputs": [
    {
     "data": {
      "text/plain": [
       "tensor([[[[1., 9., 6., 4., 4.],\n",
       "          [2., 9., 8., 7., 7.],\n",
       "          [8., 7., 1., 4., 9.],\n",
       "          [5., 2., 7., 1., 6.],\n",
       "          [3., 2., 2., 6., 7.]]]])"
      ]
     },
     "execution_count": 42,
     "metadata": {},
     "output_type": "execute_result"
    }
   ],
   "source": [
    "matrix2"
   ]
  },
  {
   "cell_type": "code",
   "execution_count": 47,
   "id": "46068078-9654-4212-9638-2c5c829e6365",
   "metadata": {},
   "outputs": [],
   "source": [
    "net=nn.Upsample(scale_factor=2,mode='nearest')"
   ]
  },
  {
   "cell_type": "code",
   "execution_count": 45,
   "id": "a515c280-dace-4817-880f-b325c11c4e03",
   "metadata": {},
   "outputs": [
    {
     "data": {
      "text/plain": [
       "torch.Size([1, 1, 20, 20])"
      ]
     },
     "execution_count": 45,
     "metadata": {},
     "output_type": "execute_result"
    }
   ],
   "source": [
    "output2=net(matrix2)\n",
    "output2.shape"
   ]
  },
  {
   "cell_type": "code",
   "execution_count": 50,
   "id": "ebf0d49a-964e-422c-ac87-24d4dba04200",
   "metadata": {},
   "outputs": [],
   "source": []
  },
  {
   "cell_type": "code",
   "execution_count": null,
   "id": "2d188749-2e2b-46e7-a3e3-8b175eec4773",
   "metadata": {},
   "outputs": [],
   "source": []
  }
 ],
 "metadata": {
  "kernelspec": {
   "display_name": "Python 3",
   "language": "python",
   "name": "python3"
  },
  "language_info": {
   "codemirror_mode": {
    "name": "ipython",
    "version": 3
   },
   "file_extension": ".py",
   "mimetype": "text/x-python",
   "name": "python",
   "nbconvert_exporter": "python",
   "pygments_lexer": "ipython3",
   "version": "3.8.8"
  }
 },
 "nbformat": 4,
 "nbformat_minor": 5
}
