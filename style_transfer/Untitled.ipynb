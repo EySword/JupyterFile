{
 "cells": [
  {
   "cell_type": "code",
   "execution_count": 1,
   "id": "a8c3f270-c92e-4963-a3d7-f51697b94f0d",
   "metadata": {},
   "outputs": [],
   "source": [
    "import torch\n",
    "import numpy as np\n",
    "import torch.nn as nn"
   ]
  },
  {
   "cell_type": "code",
   "execution_count": 2,
   "id": "dd0ffa48-eeea-42c8-a10e-5447f2c115e1",
   "metadata": {},
   "outputs": [],
   "source": [
    "import os\n",
    "model_path = 'F://torch_model'"
   ]
  },
  {
   "cell_type": "code",
   "execution_count": 3,
   "id": "3790b8ae-0cf9-4042-aeef-7a688776f1ed",
   "metadata": {},
   "outputs": [],
   "source": [
    "import torchvision.datasets as datasets"
   ]
  },
  {
   "cell_type": "code",
   "execution_count": 6,
   "id": "91a01726-c564-482d-96e5-575e59a19346",
   "metadata": {},
   "outputs": [
    {
     "ename": "RuntimeError",
     "evalue": "The dataset is no longer publicly accessible. You need to download the archives externally and place them in the root directory.",
     "output_type": "error",
     "traceback": [
      "\u001b[1;31m---------------------------------------------------------------------------\u001b[0m",
      "\u001b[1;31mRuntimeError\u001b[0m                              Traceback (most recent call last)",
      "\u001b[1;32m<ipython-input-6-1426291606ea>\u001b[0m in \u001b[0;36m<module>\u001b[1;34m\u001b[0m\n\u001b[1;32m----> 1\u001b[1;33m \u001b[0mdatasets\u001b[0m\u001b[1;33m.\u001b[0m\u001b[0mImageNet\u001b[0m\u001b[1;33m(\u001b[0m\u001b[0mroot\u001b[0m\u001b[1;33m=\u001b[0m\u001b[1;34m'F://torch_model/'\u001b[0m\u001b[1;33m,\u001b[0m\u001b[0mdownload\u001b[0m\u001b[1;33m=\u001b[0m\u001b[1;32mTrue\u001b[0m\u001b[1;33m)\u001b[0m\u001b[1;33m\u001b[0m\u001b[1;33m\u001b[0m\u001b[0m\n\u001b[0m",
      "\u001b[1;32mD:\\anaconda3\\lib\\site-packages\\torchvision\\datasets\\imagenet.py\u001b[0m in \u001b[0;36m__init__\u001b[1;34m(self, root, split, download, **kwargs)\u001b[0m\n\u001b[0;32m     44\u001b[0m                    \u001b[1;34m\"download the archives externally and place them in the root \"\u001b[0m\u001b[1;33m\u001b[0m\u001b[1;33m\u001b[0m\u001b[0m\n\u001b[0;32m     45\u001b[0m                    \"directory.\")\n\u001b[1;32m---> 46\u001b[1;33m             \u001b[1;32mraise\u001b[0m \u001b[0mRuntimeError\u001b[0m\u001b[1;33m(\u001b[0m\u001b[0mmsg\u001b[0m\u001b[1;33m)\u001b[0m\u001b[1;33m\u001b[0m\u001b[1;33m\u001b[0m\u001b[0m\n\u001b[0m\u001b[0;32m     47\u001b[0m         \u001b[1;32melif\u001b[0m \u001b[0mdownload\u001b[0m \u001b[1;32mis\u001b[0m \u001b[1;32mFalse\u001b[0m\u001b[1;33m:\u001b[0m\u001b[1;33m\u001b[0m\u001b[1;33m\u001b[0m\u001b[0m\n\u001b[0;32m     48\u001b[0m             msg = (\"The use of the download flag is deprecated, since the dataset \"\n",
      "\u001b[1;31mRuntimeError\u001b[0m: The dataset is no longer publicly accessible. You need to download the archives externally and place them in the root directory."
     ]
    }
   ],
   "source": [
    "datasets.ImageNet(root='F://torch_model/',download=True)"
   ]
  },
  {
   "cell_type": "code",
   "execution_count": 22,
   "id": "da4359b6-7d42-4951-9158-b7a707fd4202",
   "metadata": {
    "jupyter": {
     "source_hidden": true
    },
    "tags": []
   },
   "outputs": [],
   "source": [
    "vgg19 = nn.Sequential(\n",
    "    #输入[B,3,224,224]\n",
    "\n",
    "    nn.Conv2d(3,64,3),\n",
    "    nn.ReLU(),# relu1-1\n",
    "    nn.ReflectionPad2d(1),\n",
    "    nn.Conv2d(64,64,3),\n",
    "    nn.ReLU(),# relu1-2\n",
    "    nn.MaxPool2d(2,2,ceil_mode=True),\n",
    "    nn.ReflectionPad2d(1),\n",
    "    \n",
    "    nn.Conv2d(64,128,3), \n",
    "    nn.ReLU(),# relu2-1\n",
    "    nn.ReflectionPad2d(1),\n",
    "    nn.Conv2d(128,128,3), \n",
    "    nn.ReLU(),# relu2-2\n",
    "    nn.MaxPool2d(2,2,ceil_mode=True),\n",
    "    nn.ReflectionPad2d(1),\n",
    "    \n",
    "    nn.Conv2d(128,256,3), \n",
    "    nn.ReLU(),# relu3-1\n",
    "    nn.ReflectionPad2d(1),\n",
    "    nn.Conv2d(256,256,3), \n",
    "    nn.ReLU(),# relu3-2\n",
    "    nn.ReflectionPad2d(1),\n",
    "    nn.Conv2d(256,256,3), \n",
    "    nn.ReLU(),# relu3-3\n",
    "    nn.ReflectionPad2d(1),\n",
    "    nn.Conv2d(256,256,3), \n",
    "    nn.ReLU(),# relu3-4\n",
    "    nn.MaxPool2d(2,2,ceil_mode=True),\n",
    "    nn.ReflectionPad2d(1),\n",
    "    \n",
    "    nn.Conv2d(256,512,3), \n",
    "    nn.ReLU(),# relu4-1\n",
    "    nn.ReflectionPad2d(1),\n",
    "    nn.Conv2d(512,512,3), \n",
    "    nn.ReLU(),# relu4-2\n",
    "    nn.ReflectionPad2d(1),\n",
    "    nn.Conv2d(512,512,3), \n",
    "    nn.ReLU(),# relu4-3\n",
    "    nn.ReflectionPad2d(1),\n",
    "    nn.Conv2d(512,512,3), \n",
    "    nn.ReLU(),# relu4-4\n",
    "    nn.MaxPool2d(2,2,ceil_mode=True),\n",
    "    nn.ReflectionPad2d(1),\n",
    "    \n",
    "    nn.Conv2d(512,512,3), \n",
    "    nn.ReLU(),# relu5-1\n",
    "    nn.ReflectionPad2d(1),\n",
    "    nn.Conv2d(512,512,3), \n",
    "    nn.ReLU(),# relu5-2\n",
    "    nn.ReflectionPad2d(1),\n",
    "    nn.Conv2d(512,512,3), \n",
    "    nn.ReLU(),# relu5-3\n",
    "    nn.ReflectionPad2d(1),\n",
    "    nn.Conv2d(512,512,3), \n",
    "    nn.ReLU(),# relu5-4\n",
    "    \n",
    "    nn.MaxPool2d(2,2,ceil_mode=True),\n",
    "    nn.ReflectionPad2d(1),\n",
    ")"
   ]
  },
  {
   "cell_type": "code",
   "execution_count": 8,
   "id": "6674c556-0456-40ce-8f0e-06c20f3bf99d",
   "metadata": {
    "jupyter": {
     "source_hidden": true
    },
    "tags": []
   },
   "outputs": [],
   "source": [
    "decoder = nn.Sequential(\n",
    "    nn.ReflectionPad2d(1),\n",
    "    \n",
    "    nn.Conv2d(512,256,3),\n",
    "    nn.ReLU(),#relu4_1\n",
    "    nn.Upsample(scale_factor=2,mode='nearest'),\n",
    "    nn.ReflectionPad2d(1),\n",
    "    \n",
    "    nn.Conv2d(256, 256, 3),\n",
    "    nn.ReLU(),\n",
    "    nn.ReflectionPad2d(1),\n",
    "    nn.Conv2d(256, 256, 3),\n",
    "    nn.ReLU(),\n",
    "    nn.ReflectionPad2d(1),\n",
    "    nn.Conv2d(256, 256, 3),\n",
    "    nn.ReLU(),\n",
    "    nn.ReflectionPad2d(1),\n",
    "    \n",
    "    nn.Conv2d(256, 128,3),\n",
    "    nn.ReLU(),  #relu3_1\n",
    "    nn.Upsample(scale_factor=2, mode='nearest'),\n",
    "    nn.ReflectionPad2d(1),\n",
    "    \n",
    "    nn.Conv2d(128, 128, 3),\n",
    "    nn.ReLU(),\n",
    "    nn.ReflectionPad2d(1),\n",
    "    \n",
    "    nn.Conv2d(128, 64, 3),\n",
    "    nn.ReLU(),  #relu2_1\n",
    "    nn.Upsample(scale_factor=2, mode='nearest'),\n",
    "    nn.ReflectionPad2d(1),\n",
    "    \n",
    "    nn.Conv2d(64, 64, 3),\n",
    "    nn.ReLU(),  #relu1_1\n",
    "    nn.ReflectionPad2d(1),\n",
    "    nn.Conv2d(64, 3, 3),\n",
    ")"
   ]
  },
  {
   "cell_type": "code",
   "execution_count": 25,
   "id": "cb635334-64c6-4fbd-903c-6f63c9675e79",
   "metadata": {
    "collapsed": true,
    "jupyter": {
     "outputs_hidden": true
    },
    "tags": []
   },
   "outputs": [
    {
     "name": "stdout",
     "output_type": "stream",
     "text": [
      "0.weight  :  torch.Size([64, 3, 3, 3])\n",
      "0.bias  :  torch.Size([64])\n",
      "3.weight  :  torch.Size([64, 64, 3, 3])\n",
      "3.bias  :  torch.Size([64])\n",
      "7.weight  :  torch.Size([128, 64, 3, 3])\n",
      "7.bias  :  torch.Size([128])\n",
      "10.weight  :  torch.Size([128, 128, 3, 3])\n",
      "10.bias  :  torch.Size([128])\n",
      "14.weight  :  torch.Size([256, 128, 3, 3])\n",
      "14.bias  :  torch.Size([256])\n",
      "17.weight  :  torch.Size([256, 256, 3, 3])\n",
      "17.bias  :  torch.Size([256])\n",
      "20.weight  :  torch.Size([256, 256, 3, 3])\n",
      "20.bias  :  torch.Size([256])\n",
      "23.weight  :  torch.Size([256, 256, 3, 3])\n",
      "23.bias  :  torch.Size([256])\n",
      "27.weight  :  torch.Size([512, 256, 3, 3])\n",
      "27.bias  :  torch.Size([512])\n",
      "30.weight  :  torch.Size([512, 512, 3, 3])\n",
      "30.bias  :  torch.Size([512])\n",
      "33.weight  :  torch.Size([512, 512, 3, 3])\n",
      "33.bias  :  torch.Size([512])\n",
      "36.weight  :  torch.Size([512, 512, 3, 3])\n",
      "36.bias  :  torch.Size([512])\n",
      "40.weight  :  torch.Size([512, 512, 3, 3])\n",
      "40.bias  :  torch.Size([512])\n",
      "43.weight  :  torch.Size([512, 512, 3, 3])\n",
      "43.bias  :  torch.Size([512])\n",
      "46.weight  :  torch.Size([512, 512, 3, 3])\n",
      "46.bias  :  torch.Size([512])\n",
      "49.weight  :  torch.Size([512, 512, 3, 3])\n",
      "49.bias  :  torch.Size([512])\n"
     ]
    }
   ],
   "source": [
    "untrained_pra=vgg19.state_dict()\n",
    "for key in untrained_pra:\n",
    "    print(key, \" : \", untrained_pra[key].shape)"
   ]
  },
  {
   "cell_type": "code",
   "execution_count": 20,
   "id": "e7986862-38ad-466b-b9c1-e733fef095b0",
   "metadata": {},
   "outputs": [],
   "source": [
    "# pre_trained_par = torch.load(os.path.join(model_path, 'vgg19.pth'))\n",
    "pre_trained_par = torch.load(\"F://torch_model/vgg19_par.pth\")"
   ]
  },
  {
   "cell_type": "code",
   "execution_count": 36,
   "id": "03b6f78c-01b2-43c2-a918-34cec52ac3c7",
   "metadata": {},
   "outputs": [],
   "source": [
    "pre_pra_dict=pre_trained_par.state_dict()\n",
    "list_pre_pra_keys=list(pre_pra_dict.keys())"
   ]
  },
  {
   "cell_type": "code",
   "execution_count": 38,
   "id": "fd28a967-6ca2-4473-adff-71e54361040f",
   "metadata": {},
   "outputs": [],
   "source": [
    "tras_dict={}\n",
    "i=0\n",
    "for key in untrained_pra:\n",
    "    tras_dict[key] = pre_pra_dict[list_pre_pra_keys[i]]\n",
    "    i+=1"
   ]
  },
  {
   "cell_type": "code",
   "execution_count": 39,
   "id": "702cf400-adce-46c2-aa13-f1ed3d90814d",
   "metadata": {},
   "outputs": [],
   "source": [
    "untrained_pra.update(tras_dict)"
   ]
  },
  {
   "cell_type": "code",
   "execution_count": 43,
   "id": "9e98d4bf-999f-4501-af22-cc44bcfbc77a",
   "metadata": {},
   "outputs": [],
   "source": [
    "torch.save(untrained_pra, \"F://torch_model/vgg19_state_done\")"
   ]
  },
  {
   "cell_type": "code",
   "execution_count": 45,
   "id": "8a5a73e0-42c2-46c1-beb2-494cd71a993a",
   "metadata": {},
   "outputs": [
    {
     "data": {
      "text/plain": [
       "<All keys matched successfully>"
      ]
     },
     "execution_count": 45,
     "metadata": {},
     "output_type": "execute_result"
    }
   ],
   "source": [
    "vgg19.load_state_dict(untrained_pra)"
   ]
  },
  {
   "cell_type": "code",
   "execution_count": 3,
   "id": "533542dd-b8c6-4726-a00a-206165eaa192",
   "metadata": {},
   "outputs": [],
   "source": [
    "incoder_pra = torch.load(os.path.join(model_path, 'vgg19_state_done'))"
   ]
  },
  {
   "cell_type": "code",
   "execution_count": null,
   "id": "72538b4d-b9b6-45ed-9503-4bc99b929fb8",
   "metadata": {},
   "outputs": [],
   "source": [
    "incoder_pra"
   ]
  }
 ],
 "metadata": {
  "kernelspec": {
   "display_name": "Python 3 (ipykernel)",
   "language": "python",
   "name": "python3"
  },
  "language_info": {
   "codemirror_mode": {
    "name": "ipython",
    "version": 3
   },
   "file_extension": ".py",
   "mimetype": "text/x-python",
   "name": "python",
   "nbconvert_exporter": "python",
   "pygments_lexer": "ipython3",
   "version": "3.8.12"
  }
 },
 "nbformat": 4,
 "nbformat_minor": 5
}
