{
 "cells": [
  {
   "cell_type": "code",
   "execution_count": 1,
   "id": "7ce6027b-2ace-44c0-8b7e-2075175c5b79",
   "metadata": {},
   "outputs": [],
   "source": [
    "import torch\n",
    "import torchvision.models as models"
   ]
  },
  {
   "cell_type": "code",
   "execution_count": 6,
   "id": "010b0c1b-5b43-4df2-beb9-cc9294217576",
   "metadata": {},
   "outputs": [],
   "source": [
    "vgg19=models.vgg19(pretrained=True)"
   ]
  },
  {
   "cell_type": "code",
   "execution_count": 5,
   "id": "6ebda0fd-6074-4027-8e68-6f63406277ae",
   "metadata": {},
   "outputs": [
    {
     "data": {
      "text/plain": [
       "torchvision.models.vgg.VGG"
      ]
     },
     "execution_count": 5,
     "metadata": {},
     "output_type": "execute_result"
    }
   ],
   "source": [
    "type(vgg19)"
   ]
  },
  {
   "cell_type": "code",
   "execution_count": null,
   "id": "be2e48d6-4ebb-43dd-b33c-695b3a8374a7",
   "metadata": {},
   "outputs": [],
   "source": []
  }
 ],
 "metadata": {
  "kernelspec": {
   "display_name": "Python 3",
   "language": "python",
   "name": "python3"
  },
  "language_info": {
   "codemirror_mode": {
    "name": "ipython",
    "version": 3
   },
   "file_extension": ".py",
   "mimetype": "text/x-python",
   "name": "python",
   "nbconvert_exporter": "python",
   "pygments_lexer": "ipython3",
   "version": "3.8.8"
  }
 },
 "nbformat": 4,
 "nbformat_minor": 5
}
