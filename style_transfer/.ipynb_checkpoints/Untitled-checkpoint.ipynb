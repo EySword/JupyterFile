{
 "cells": [
  {
   "cell_type": "code",
   "execution_count": 1,
   "id": "a8c3f270-c92e-4963-a3d7-f51697b94f0d",
   "metadata": {},
   "outputs": [],
   "source": [
    "import torch\n",
    "import numpy as np\n",
    "import torch.nn as nn"
   ]
  },
  {
   "cell_type": "code",
   "execution_count": 14,
   "id": "dd0ffa48-eeea-42c8-a10e-5447f2c115e1",
   "metadata": {},
   "outputs": [],
   "source": [
    "import os\n",
    "model_path = 'F:\\torch_model'"
   ]
  },
  {
   "cell_type": "code",
   "execution_count": 22,
   "id": "da4359b6-7d42-4951-9158-b7a707fd4202",
   "metadata": {
    "tags": []
   },
   "outputs": [],
   "source": [
    "vgg19 = nn.Sequential(\n",
    "    #输入[B,3,224,224]\n",
    "\n",
    "    nn.Conv2d(3,64,3),\n",
    "    nn.ReLU(),# relu1-1\n",
    "    nn.ReflectionPad2d(1),\n",
    "    nn.Conv2d(64,64,3),\n",
    "    nn.ReLU(),# relu1-2\n",
    "    nn.MaxPool2d(2,2,ceil_mode=True),\n",
    "    nn.ReflectionPad2d(1),\n",
    "    \n",
    "    nn.Conv2d(64,128,3), \n",
    "    nn.ReLU(),# relu2-1\n",
    "    nn.ReflectionPad2d(1),\n",
    "    nn.Conv2d(128,128,3), \n",
    "    nn.ReLU(),# relu2-2\n",
    "    nn.MaxPool2d(2,2,ceil_mode=True),\n",
    "    nn.ReflectionPad2d(1),\n",
    "    \n",
    "    nn.Conv2d(128,256,3), \n",
    "    nn.ReLU(),# relu3-1\n",
    "    nn.ReflectionPad2d(1),\n",
    "    nn.Conv2d(256,256,3), \n",
    "    nn.ReLU(),# relu3-2\n",
    "    nn.ReflectionPad2d(1),\n",
    "    nn.Conv2d(256,256,3), \n",
    "    nn.ReLU(),# relu3-3\n",
    "    nn.ReflectionPad2d(1),\n",
    "    nn.Conv2d(256,256,3), \n",
    "    nn.ReLU(),# relu3-4\n",
    "    nn.MaxPool2d(2,2,ceil_mode=True),\n",
    "    nn.ReflectionPad2d(1),\n",
    "    \n",
    "    nn.Conv2d(256,512,3), \n",
    "    nn.ReLU(),# relu4-1\n",
    "    nn.ReflectionPad2d(1),\n",
    "    nn.Conv2d(512,512,3), \n",
    "    nn.ReLU(),# relu4-2\n",
    "    nn.ReflectionPad2d(1),\n",
    "    nn.Conv2d(512,512,3), \n",
    "    nn.ReLU(),# relu4-3\n",
    "    nn.ReflectionPad2d(1),\n",
    "    nn.Conv2d(512,512,3), \n",
    "    nn.ReLU(),# relu4-4\n",
    "    nn.MaxPool2d(2,2,ceil_mode=True),\n",
    "    nn.ReflectionPad2d(1),\n",
    "    \n",
    "    nn.Conv2d(512,512,3), \n",
    "    nn.ReLU(),# relu5-1\n",
    "    nn.ReflectionPad2d(1),\n",
    "    nn.Conv2d(512,512,3), \n",
    "    nn.ReLU(),# relu5-2\n",
    "    nn.ReflectionPad2d(1),\n",
    "    nn.Conv2d(512,512,3), \n",
    "    nn.ReLU(),# relu5-3\n",
    "    nn.ReflectionPad2d(1),\n",
    "    nn.Conv2d(512,512,3), \n",
    "    nn.ReLU(),# relu5-4\n",
    "    \n",
    "    nn.MaxPool2d(2,2,ceil_mode=True),\n",
    "    nn.ReflectionPad2d(1),\n",
    ")"
   ]
  },
  {
   "cell_type": "code",
   "execution_count": 8,
   "id": "6674c556-0456-40ce-8f0e-06c20f3bf99d",
   "metadata": {
    "jupyter": {
     "source_hidden": true
    },
    "tags": []
   },
   "outputs": [],
   "source": [
    "decoder = nn.Sequential(\n",
    "    nn.ReflectionPad2d(1),\n",
    "    \n",
    "    nn.Conv2d(512,256,3),\n",
    "    nn.ReLU(),#relu4_1\n",
    "    nn.Upsample(scale_factor=2,mode='nearest'),\n",
    "    nn.ReflectionPad2d(1),\n",
    "    \n",
    "    nn.Conv2d(256, 256, 3),\n",
    "    nn.ReLU(),\n",
    "    nn.ReflectionPad2d(1),\n",
    "    nn.Conv2d(256, 256, 3),\n",
    "    nn.ReLU(),\n",
    "    nn.ReflectionPad2d(1),\n",
    "    nn.Conv2d(256, 256, 3),\n",
    "    nn.ReLU(),\n",
    "    nn.ReflectionPad2d(1),\n",
    "    \n",
    "    nn.Conv2d(256, 128,3),\n",
    "    nn.ReLU(),  #relu3_1\n",
    "    nn.Upsample(scale_factor=2, mode='nearest'),\n",
    "    nn.ReflectionPad2d(1),\n",
    "    \n",
    "    nn.Conv2d(128, 128, 3),\n",
    "    nn.ReLU(),\n",
    "    nn.ReflectionPad2d(1),\n",
    "    \n",
    "    nn.Conv2d(128, 64, 3),\n",
    "    nn.ReLU(),  #relu2_1\n",
    "    nn.Upsample(scale_factor=2, mode='nearest'),\n",
    "    nn.ReflectionPad2d(1),\n",
    "    \n",
    "    nn.Conv2d(64, 64, 3),\n",
    "    nn.ReLU(),  #relu1_1\n",
    "    nn.ReflectionPad2d(1),\n",
    "    nn.Conv2d(64, 3, 3),\n",
    ")"
   ]
  },
  {
   "cell_type": "code",
   "execution_count": 25,
   "id": "cb635334-64c6-4fbd-903c-6f63c9675e79",
   "metadata": {},
   "outputs": [
    {
     "name": "stdout",
     "output_type": "stream",
     "text": [
      "0.weight  :  torch.Size([64, 3, 3, 3])\n",
      "0.bias  :  torch.Size([64])\n",
      "3.weight  :  torch.Size([64, 64, 3, 3])\n",
      "3.bias  :  torch.Size([64])\n",
      "7.weight  :  torch.Size([128, 64, 3, 3])\n",
      "7.bias  :  torch.Size([128])\n",
      "10.weight  :  torch.Size([128, 128, 3, 3])\n",
      "10.bias  :  torch.Size([128])\n",
      "14.weight  :  torch.Size([256, 128, 3, 3])\n",
      "14.bias  :  torch.Size([256])\n",
      "17.weight  :  torch.Size([256, 256, 3, 3])\n",
      "17.bias  :  torch.Size([256])\n",
      "20.weight  :  torch.Size([256, 256, 3, 3])\n",
      "20.bias  :  torch.Size([256])\n",
      "23.weight  :  torch.Size([256, 256, 3, 3])\n",
      "23.bias  :  torch.Size([256])\n",
      "27.weight  :  torch.Size([512, 256, 3, 3])\n",
      "27.bias  :  torch.Size([512])\n",
      "30.weight  :  torch.Size([512, 512, 3, 3])\n",
      "30.bias  :  torch.Size([512])\n",
      "33.weight  :  torch.Size([512, 512, 3, 3])\n",
      "33.bias  :  torch.Size([512])\n",
      "36.weight  :  torch.Size([512, 512, 3, 3])\n",
      "36.bias  :  torch.Size([512])\n",
      "40.weight  :  torch.Size([512, 512, 3, 3])\n",
      "40.bias  :  torch.Size([512])\n",
      "43.weight  :  torch.Size([512, 512, 3, 3])\n",
      "43.bias  :  torch.Size([512])\n",
      "46.weight  :  torch.Size([512, 512, 3, 3])\n",
      "46.bias  :  torch.Size([512])\n",
      "49.weight  :  torch.Size([512, 512, 3, 3])\n",
      "49.bias  :  torch.Size([512])\n"
     ]
    }
   ],
   "source": [
    "untrained_pra=vgg19.state_dict()\n",
    "for key in untrained_pra:\n",
    "    print(key, \" : \", untrained_pra[key].shape)"
   ]
  },
  {
   "cell_type": "code",
   "execution_count": 20,
   "id": "e7986862-38ad-466b-b9c1-e733fef095b0",
   "metadata": {},
   "outputs": [],
   "source": [
    "# pre_trained_par = torch.load(os.path.join(model_path, 'vgg19.pth'))\n",
    "pre_trained_par = torch.load(\"F://torch_model/vgg19_par.pth\")"
   ]
  },
  {
   "cell_type": "code",
   "execution_count": 36,
   "id": "03b6f78c-01b2-43c2-a918-34cec52ac3c7",
   "metadata": {},
   "outputs": [],
   "source": [
    "pre_pra_dict=pre_trained_par.state_dict()\n",
    "list_pre_pra_keys=list(pre_pra_dict.keys())"
   ]
  },
  {
   "cell_type": "code",
   "execution_count": 38,
   "id": "fd28a967-6ca2-4473-adff-71e54361040f",
   "metadata": {},
   "outputs": [],
   "source": [
    "tras_dict={}\n",
    "i=0\n",
    "for key in untrained_pra:\n",
    "    tras_dict[key] = pre_pra_dict[list_pre_pra_keys[i]]\n",
    "    i+=1"
   ]
  },
  {
   "cell_type": "code",
   "execution_count": 39,
   "id": "702cf400-adce-46c2-aa13-f1ed3d90814d",
   "metadata": {},
   "outputs": [],
   "source": [
    "untrained_pra.update(tras_dict)"
   ]
  },
  {
   "cell_type": "code",
   "execution_count": 43,
   "id": "9e98d4bf-999f-4501-af22-cc44bcfbc77a",
   "metadata": {},
   "outputs": [],
   "source": [
    "torch.save(untrained_pra, \"F://torch_model/vgg19_state_done\")"
   ]
  },
  {
   "cell_type": "code",
   "execution_count": 45,
   "id": "8a5a73e0-42c2-46c1-beb2-494cd71a993a",
   "metadata": {},
   "outputs": [
    {
     "data": {
      "text/plain": [
       "<All keys matched successfully>"
      ]
     },
     "execution_count": 45,
     "metadata": {},
     "output_type": "execute_result"
    }
   ],
   "source": [
    "vgg19.load_state_dict(untrained_pra)"
   ]
  },
  {
   "cell_type": "code",
   "execution_count": 47,
   "id": "533542dd-b8c6-4726-a00a-206165eaa192",
   "metadata": {},
   "outputs": [
    {
     "name": "stdout",
     "output_type": "stream",
     "text": [
      "tensor([ 1.5731e-01, -6.5533e-03,  5.1913e-02, -2.6417e-02, -5.9737e-02,\n",
      "         3.5818e-01,  1.9326e-02, -2.4400e-02, -1.0374e+00, -8.4517e-02,\n",
      "         7.3283e-02,  5.0524e-02, -3.8585e-02,  8.4795e-02,  1.5776e-02,\n",
      "         9.3237e-02,  1.9244e-02, -1.4082e-02,  4.6519e-01,  3.2535e-01,\n",
      "         7.3506e-02,  1.3250e-01, -8.8001e-03,  6.1042e-02,  4.7158e-02,\n",
      "        -6.7527e-02,  8.0073e-02,  9.2457e-02,  1.9967e-01,  6.4213e-02,\n",
      "        -1.2435e-01,  7.1232e-02,  1.2389e-01,  1.7530e-01,  1.0521e-01,\n",
      "        -2.0008e-02,  2.0486e-01,  6.8535e-02, -1.0005e-01, -8.9199e-03,\n",
      "         1.6148e-01,  1.6665e-01,  2.0168e-01,  3.1764e-01,  1.1871e-01,\n",
      "         1.5854e-01,  2.1661e-01, -2.3195e-01, -2.1480e-02,  5.5559e-03,\n",
      "         4.4063e-02,  1.2309e-01, -6.3932e-03,  6.6540e-02,  8.3576e-02,\n",
      "         1.4859e-01,  2.0367e-01, -2.6180e-02,  1.7393e-02, -6.9620e-03,\n",
      "         1.8881e-02,  1.1513e-01,  1.0660e-01, -2.2330e-01,  2.4035e-01,\n",
      "         7.4667e-02, -9.0826e-03, -1.2120e-02, -3.1178e-02,  7.3471e-02,\n",
      "         2.3673e-02,  7.6079e-02,  5.5273e-02,  1.0370e-02, -1.9606e-02,\n",
      "         7.9228e-02,  1.8544e-01,  3.6043e-02,  5.8925e-02, -1.3842e-01,\n",
      "         1.8106e-01, -2.1269e-01,  1.8151e-02,  7.0571e-02,  5.0748e-02,\n",
      "         4.1780e-02,  8.9805e-02, -1.7349e-01,  1.7001e-01, -5.6894e-02,\n",
      "        -3.3280e-02,  1.4353e-01,  8.9018e-02,  1.6304e-01, -4.7968e-02,\n",
      "        -9.5809e-02, -8.2146e-02, -1.0167e-01,  1.4996e-01,  8.0715e-02,\n",
      "        -2.3411e-02,  1.1056e-02,  1.1483e-01,  6.4205e-02, -2.1903e-03,\n",
      "        -9.8520e-02, -8.0127e-02, -8.5893e-04, -6.2755e-03,  4.3044e-01,\n",
      "        -1.4689e-02,  7.9148e-02,  2.0615e-03,  3.8441e-02,  2.1224e-02,\n",
      "         1.2911e-01, -1.7722e-02,  2.5068e-01,  9.4915e-02,  6.2045e-02,\n",
      "        -2.2997e-03, -5.0952e-04,  4.3427e-02,  1.5014e-01,  1.2273e-02,\n",
      "         1.5017e-01,  1.4325e-01,  1.0009e-01,  5.6689e-02,  3.2139e-02,\n",
      "         2.5951e-01,  6.7063e-02, -3.6047e-02,  1.6486e-02, -1.8912e-02,\n",
      "         6.0444e-02,  1.0571e+00,  1.6423e-01,  1.5721e-01, -1.7805e-02,\n",
      "         1.3294e-01,  1.3719e-01,  6.1718e-03, -3.4055e-02,  9.8862e-02,\n",
      "        -2.5892e-02,  1.9548e-02,  2.1528e-01, -3.7502e-02,  4.3931e-02,\n",
      "         2.8239e-01,  1.5612e-01,  3.8641e-02,  2.4527e-01,  1.1263e-01,\n",
      "        -2.1130e-02,  6.1509e-01,  1.7865e-01,  1.0873e-01,  1.9360e-01,\n",
      "        -7.4126e-02, -1.4466e-03,  4.9994e-03,  3.3460e-02, -1.7950e-02,\n",
      "        -1.1090e-01,  1.7558e-01, -1.0951e-02, -4.3409e-02, -1.1036e-01,\n",
      "         4.5788e-02, -1.8001e-01, -1.8189e-02,  1.6233e-01,  3.6884e-01,\n",
      "         1.5815e-01,  5.6507e-02,  9.8894e-02,  9.3949e-02,  3.4091e-01,\n",
      "         3.9113e-02,  2.3251e-04, -6.2403e-02,  3.1302e-02,  2.0869e-01,\n",
      "         1.3763e-01,  4.9091e-02,  3.6735e-02,  1.6306e-01,  4.6837e-02,\n",
      "         6.8301e-03,  2.4630e-01,  1.9119e-01, -8.4259e-02,  2.0576e-02,\n",
      "         6.6113e-02,  1.2664e-01,  7.5991e-02,  7.8335e-03,  2.3461e-01,\n",
      "         6.5672e-02,  1.9104e-01,  4.1648e-02,  1.3461e-01,  9.4458e-02,\n",
      "         1.1815e-01,  6.8200e-02,  4.4764e-02,  1.3333e-01,  1.9723e-02,\n",
      "         1.5108e-01,  1.6163e-01, -1.8736e-02,  2.9873e-01,  8.8800e-03,\n",
      "         3.5709e-02,  1.7235e-01, -4.5143e-02,  6.9958e-03,  1.0380e-01,\n",
      "         7.9205e-02, -2.2476e-02, -7.1872e-03,  5.1648e-02,  1.0196e-01,\n",
      "        -8.1404e-02,  7.8055e-02,  6.7653e-02,  2.6210e-02,  7.5721e-02,\n",
      "         7.5571e-02,  6.9311e-02,  1.5086e-01,  5.8288e-02,  1.7733e-02,\n",
      "         1.2168e-01,  1.4138e-02,  1.3053e-01,  2.3039e-01, -7.8017e-02,\n",
      "         2.4432e-01,  6.2879e-02,  4.9652e-02,  7.8438e-02,  8.9971e-02,\n",
      "         7.7896e-02,  1.1069e-01,  2.6848e-02, -3.7783e-03,  2.3438e-02,\n",
      "         1.8842e-02,  6.3897e-02,  2.1452e-01, -9.6788e-02,  1.0727e-01,\n",
      "        -1.2845e-01,  5.5943e-02,  2.4673e-01, -4.6080e-02,  1.2492e-01,\n",
      "         1.1530e-01, -2.2196e-02,  1.0459e-01, -3.8180e-02,  1.6522e-01,\n",
      "         1.2863e-01,  2.6662e-02,  8.7605e-02, -6.9907e-02,  6.0133e-02,\n",
      "        -2.0503e-02,  5.4154e-02,  1.0821e-01, -2.2444e-02,  7.3504e-02,\n",
      "        -2.7724e-02,  4.9019e-02,  1.4634e-01,  6.7829e-02,  3.7040e-02,\n",
      "         3.4126e-02, -3.2138e-02, -2.1871e-03,  5.7881e-02, -5.7500e-03,\n",
      "         4.9774e-02,  1.2786e-01,  5.2287e-01,  1.1435e-01, -3.4344e-02,\n",
      "         1.0515e-02,  5.7503e-02,  1.8660e-01,  4.9483e-02, -2.3514e-02,\n",
      "         9.1254e-02, -1.4827e-02,  1.0414e-01,  1.8446e-01,  1.1154e-01,\n",
      "        -5.3481e-02,  6.6921e-02, -4.2530e-02,  3.2835e-02, -2.4325e-02,\n",
      "         2.9274e-02, -4.7878e-02,  2.2815e-01,  2.7694e-01,  5.9355e-02,\n",
      "         8.1878e-03,  6.2357e-02,  3.2339e-01, -3.6187e-02,  3.6073e-02,\n",
      "        -4.2983e-02, -7.8441e-02,  1.4662e-02, -1.0895e-01, -5.6419e-03,\n",
      "         8.0781e-02,  6.4320e-02,  2.3453e-01,  2.0020e-01,  3.9262e-02,\n",
      "         1.2397e-01,  5.1584e-02,  1.8723e-01,  1.8693e-01,  1.8420e-02,\n",
      "         2.1001e-03,  8.0270e-02,  2.8388e-01,  1.2010e-02,  8.7825e-02,\n",
      "         1.9944e-02,  1.0565e-01,  2.4087e-01, -4.5402e-02, -8.9811e-02,\n",
      "        -1.1711e-02,  7.6836e-02, -3.5025e-01,  1.5891e-01, -2.6923e-01,\n",
      "        -2.8926e-02,  1.1089e-01,  1.4770e-02, -1.9990e-02,  1.8398e-01,\n",
      "         3.4169e-01,  7.9850e-03,  1.0817e-01,  4.6695e-02,  9.1436e-02,\n",
      "        -1.6279e-01, -2.4528e-01,  1.7095e-01,  7.0245e-02,  1.0925e-02,\n",
      "         3.3909e-02,  2.2430e-02,  3.7841e-02,  2.4725e-01, -4.8658e-03,\n",
      "        -3.0925e-01,  1.2960e-02,  7.1716e-02, -2.5388e-01,  1.0731e-01,\n",
      "         3.7324e-02,  2.1418e-01, -5.3999e-02, -1.3771e-02, -7.3585e-02,\n",
      "        -1.3414e-01,  5.0882e-02, -2.4663e-03, -2.2844e-02,  2.1686e-01,\n",
      "         1.8531e-01, -2.7044e-02,  1.4052e-01,  1.3167e-01,  4.1883e-02,\n",
      "         1.1929e-01,  6.2313e-02,  1.4854e-01,  2.2880e-01,  1.5444e-01,\n",
      "         1.8299e-01, -1.7180e-01,  1.2846e-01,  5.7027e-03, -2.6647e-01,\n",
      "        -1.4068e-01,  1.7644e-01, -4.9150e-02,  2.0700e-01,  1.3515e-01,\n",
      "         2.6716e-01,  9.1334e-03,  8.3232e-02, -3.7115e-02,  1.2940e-01,\n",
      "         1.5925e-01, -9.0140e-02,  1.1334e-01, -2.7049e-01, -4.8131e-02,\n",
      "        -6.3850e-02,  1.0742e-01,  2.3099e-01,  3.6651e-02,  1.1558e-01,\n",
      "         9.7689e-02,  1.5590e-01,  7.7404e-02, -1.0206e-02,  1.1674e-01,\n",
      "         1.2813e-01,  1.4275e-01,  1.7384e-01,  8.7933e-02, -3.7027e-02,\n",
      "         1.7883e-02, -2.7107e-02,  1.4345e-02,  6.7233e-02, -4.1910e-03,\n",
      "         3.4999e-02,  9.1231e-02,  4.9472e-02, -1.9353e-02,  1.7899e-01,\n",
      "         7.2613e-02, -3.5989e-03, -4.2476e-02,  1.4623e-01,  8.1129e-02,\n",
      "         8.8164e-02,  3.0212e-01,  2.2150e-01,  1.3933e-01,  1.2996e-01,\n",
      "         2.8800e-02,  1.9169e-01, -5.3428e-02,  2.0095e-03,  1.6060e-01,\n",
      "        -3.4886e-02,  2.3563e-01,  2.2469e-01,  1.2697e-01,  1.6958e-01,\n",
      "         9.5945e-02,  3.5644e-01,  2.9220e-02,  1.5525e-01,  3.5778e-01,\n",
      "        -2.2172e-02, -8.1075e-03,  4.1692e-02, -2.8637e-02,  2.1933e-03,\n",
      "         3.7724e-01,  3.5916e-02, -6.9374e-02, -1.1480e-01, -8.0757e-02,\n",
      "         9.4747e-06,  2.5585e-01, -3.9682e-02,  2.2938e-01,  2.5238e-02,\n",
      "         1.6486e-02, -4.6438e-02,  9.6950e-02,  6.5098e-02,  1.3750e-01,\n",
      "        -4.4991e-02,  2.4398e-02,  9.0758e-02,  7.2710e-02,  3.4996e-02,\n",
      "         1.2895e-01, -1.8546e-02, -1.1754e-01, -7.6734e-02,  1.2329e-01,\n",
      "         1.1917e-01, -1.3715e-01, -1.1645e-01,  7.0348e-02, -7.9591e-03,\n",
      "         1.3337e-01,  1.1553e-01,  7.9651e-02,  8.2783e-03, -7.9205e-02,\n",
      "         4.9982e-02,  3.3688e-02,  4.1475e-02,  9.8422e-02,  4.3647e-02,\n",
      "         1.9791e-01,  3.6862e-02,  4.6755e-02, -2.1724e-02,  1.1945e-03,\n",
      "         9.0638e-03,  2.6034e-02])\n"
     ]
    }
   ],
   "source": [
    "print(vgg19.state_dict()[\"49.bias\"])"
   ]
  }
 ],
 "metadata": {
  "kernelspec": {
   "display_name": "Python 3",
   "language": "python",
   "name": "python3"
  },
  "language_info": {
   "codemirror_mode": {
    "name": "ipython",
    "version": 3
   },
   "file_extension": ".py",
   "mimetype": "text/x-python",
   "name": "python",
   "nbconvert_exporter": "python",
   "pygments_lexer": "ipython3",
   "version": "3.8.8"
  }
 },
 "nbformat": 4,
 "nbformat_minor": 5
}
