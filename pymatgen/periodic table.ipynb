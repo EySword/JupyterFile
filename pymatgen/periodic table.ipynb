{
 "cells": [
  {
   "cell_type": "code",
   "execution_count": 1,
   "id": "57621f35-3841-4b75-a776-c3ba2f99f71b",
   "metadata": {},
   "outputs": [],
   "source": [
    "import pymatgen.core.periodic_table as pt"
   ]
  },
  {
   "cell_type": "code",
   "execution_count": 2,
   "id": "67a94bbb-ed25-40a8-8cb1-5f8b9ff45539",
   "metadata": {},
   "outputs": [],
   "source": [
    "fe=pt.Element('Fe')"
   ]
  },
  {
   "cell_type": "code",
   "execution_count": 3,
   "id": "3ffdc5db-72ad-409f-a33c-ac75952d67c2",
   "metadata": {},
   "outputs": [
    {
     "data": {
      "text/plain": [
       "26"
      ]
     },
     "execution_count": 3,
     "metadata": {},
     "output_type": "execute_result"
    }
   ],
   "source": [
    "fe.number"
   ]
  },
  {
   "cell_type": "code",
   "execution_count": 22,
   "id": "213e46e0-67fd-463f-a66b-ad72170f3186",
   "metadata": {},
   "outputs": [
    {
     "data": {
      "text/plain": [
       "{'Atomic mass': 55.845,\n",
       " 'Atomic no': 26,\n",
       " 'Atomic orbitals': {'1s': -254.225505,\n",
       "  '2p': -25.551766,\n",
       "  '2s': -29.56486,\n",
       "  '3d': -0.295049,\n",
       "  '3p': -2.187523,\n",
       "  '3s': -3.360621,\n",
       "  '4s': -0.197978},\n",
       " 'Atomic radius': 1.4,\n",
       " 'Atomic radius calculated': 1.56,\n",
       " 'Boiling point': '3134 K',\n",
       " 'Brinell hardness': '490 MN m<sup>-2</sup>',\n",
       " 'Bulk modulus': '170 GPa',\n",
       " 'Coefficient of linear thermal expansion': '11.8 x10<sup>-6</sup>K<sup>-1</sup>',\n",
       " 'Common oxidation states': [2, 3],\n",
       " 'Critical temperature': 'no data K',\n",
       " 'Density of solid': '7874 kg m<sup>-3</sup>',\n",
       " 'Electrical resistivity': '10 10<sup>-8</sup> &Omega; m',\n",
       " 'Electronic structure': '[Ar].3d<sup>6</sup>.4s<sup>2</sup>',\n",
       " 'ICSD oxidation states': [2, 3],\n",
       " 'Ionic radii': {'2': 0.92, '3': 0.785},\n",
       " 'Ionic radii hs': {'2': 0.92, '3': 0.785},\n",
       " 'Ionic radii ls': {'2': 0.75, '3': 0.69, '4': 0.725, '6': 0.39},\n",
       " 'Liquid range': '1323 K',\n",
       " 'Melting point': '1811 K',\n",
       " 'Mendeleev no': 61,\n",
       " 'Mineral hardness': '4.0',\n",
       " 'Molar volume': '7.09 cm<sup>3</sup>',\n",
       " 'Name': 'Iron',\n",
       " 'Oxidation states': [-2, -1, 1, 2, 3, 4, 5, 6],\n",
       " 'Poissons ratio': '0.29',\n",
       " 'Reflectivity': '65 %',\n",
       " 'Refractive index': 'no data',\n",
       " 'Rigidity modulus': '82 GPa',\n",
       " 'Shannon radii': {'2': {'IV': {'High Spin': {'crystal_radius': 0.77,\n",
       "     'ionic_radius': 0.63}},\n",
       "   'IVSQ': {'High Spin': {'crystal_radius': 0.78, 'ionic_radius': 0.64}},\n",
       "   'VI': {'Low Spin': {'crystal_radius': 0.75, 'ionic_radius': 0.61},\n",
       "    'High Spin': {'crystal_radius': 0.92, 'ionic_radius': 0.78}},\n",
       "   'VIII': {'High Spin': {'crystal_radius': 1.06, 'ionic_radius': 0.92}}},\n",
       "  '3': {'IV': {'High Spin': {'crystal_radius': 0.63, 'ionic_radius': 0.49}},\n",
       "   'V': {'': {'crystal_radius': 0.72, 'ionic_radius': 0.58}},\n",
       "   'VI': {'Low Spin': {'crystal_radius': 0.69, 'ionic_radius': 0.55},\n",
       "    'High Spin': {'crystal_radius': 0.785, 'ionic_radius': 0.645}},\n",
       "   'VIII': {'High Spin': {'crystal_radius': 0.92, 'ionic_radius': 0.78}}},\n",
       "  '4': {'VI': {'': {'crystal_radius': 0.725, 'ionic_radius': 0.585}}},\n",
       "  '6': {'IV': {'': {'crystal_radius': 0.39, 'ionic_radius': 0.25}}}},\n",
       " 'Superconduction temperature': 'no data K',\n",
       " 'Thermal conductivity': '80 W m<sup>-1</sup> K<sup>-1</sup>',\n",
       " 'Van der waals radius': 2.04,\n",
       " 'Velocity of sound': '4910 m s<sup>-1</sup>',\n",
       " 'Vickers hardness': '608 MN m<sup>-2</sup>',\n",
       " 'X': 1.83,\n",
       " 'Youngs modulus': '211 GPa',\n",
       " 'NMR Quadrupole Moment': {'Fe-57': 160.0},\n",
       " 'Metallic radius': 1.277,\n",
       " 'iupac_ordering': 64,\n",
       " 'IUPAC ordering': 64,\n",
       " 'Ground level': '5D4',\n",
       " 'Ionization energies': [7.9024681,\n",
       "  16.19921,\n",
       "  30.651,\n",
       "  54.91,\n",
       "  75.0,\n",
       "  98.985,\n",
       "  124.976,\n",
       "  151.06,\n",
       "  233.6,\n",
       "  262.1,\n",
       "  290.9,\n",
       "  330.8,\n",
       "  361.0,\n",
       "  392.2,\n",
       "  456.2,\n",
       "  489.312,\n",
       "  1262.7,\n",
       "  1357.8,\n",
       "  1460.0,\n",
       "  1575.6,\n",
       "  1687.0,\n",
       "  1798.4,\n",
       "  1950.4,\n",
       "  2045.759,\n",
       "  8828.1879,\n",
       "  9277.6818],\n",
       " 'Electron affinity': 0.15323634}"
      ]
     },
     "execution_count": 22,
     "metadata": {},
     "output_type": "execute_result"
    }
   ],
   "source": [
    "fe.data"
   ]
  },
  {
   "cell_type": "code",
   "execution_count": 28,
   "id": "9a9105d6-7ca5-46b4-bf18-48e32c9ea5f4",
   "metadata": {},
   "outputs": [
    {
     "name": "stdout",
     "output_type": "stream",
     "text": [
      "H                                                                   He \n",
      "Li  Be                                          B   C   N   O   F   Ne \n",
      "Na  Mg                                          Al  Si  P   S   Cl  Ar \n",
      "K   Ca  Sc  Ti  V   Cr  Mn  Fe  Co  Ni  Cu  Zn  Ga  Ge  As  Se  Br  Kr \n",
      "Rb  Sr  Y   Zr  Nb  Mo  Tc  Ru  Rh  Pd  Ag  Cd  In  Sn  Sb  Te  I   Xe \n",
      "Cs  Ba      Hf  Ta  W   Re  Os  Ir  Pt  Au  Hg  Tl  Pb  Bi  Po  At  Rn \n",
      "Fr  Ra      Rf  Db  Sg  Bh  Hs  Mt  Ds  Rg  Cn  Nh  Fl  Mc  Lv  Ts  Og \n",
      "        La  Ce  Pr  Nd  Pm  Sm  Eu  Gd  Tb  Dy  Ho  Er  Tm  Yb  Lu     \n",
      "        Ac  Th  Pa  U   Np  Pu  Am  Cm  Bk  Cf  Es  Fm  Md  No  Lr     \n"
     ]
    }
   ],
   "source": [
    "fe.print_periodic_table()"
   ]
  },
  {
   "cell_type": "code",
   "execution_count": 31,
   "id": "c3a4fa25-83c7-4464-ad66-948d50db6b0a",
   "metadata": {},
   "outputs": [
    {
     "ename": "AttributeError",
     "evalue": "Element has no attribute column!",
     "output_type": "error",
     "traceback": [
      "\u001b[1;31m---------------------------------------------------------------------------\u001b[0m",
      "\u001b[1;31mAttributeError\u001b[0m                            Traceback (most recent call last)",
      "\u001b[1;32m<ipython-input-31-3df4e4255689>\u001b[0m in \u001b[0;36m<module>\u001b[1;34m\u001b[0m\n\u001b[1;32m----> 1\u001b[1;33m \u001b[0mfe\u001b[0m\u001b[1;33m.\u001b[0m\u001b[0mcolumn\u001b[0m\u001b[1;33m\u001b[0m\u001b[1;33m\u001b[0m\u001b[0m\n\u001b[0m",
      "\u001b[1;32mD:\\anaconda3\\lib\\site-packages\\pymatgen\\core\\periodic_table.py\u001b[0m in \u001b[0;36m__getattr__\u001b[1;34m(self, item)\u001b[0m\n\u001b[0;32m    306\u001b[0m                             \u001b[1;32mpass\u001b[0m\u001b[1;33m\u001b[0m\u001b[1;33m\u001b[0m\u001b[0m\n\u001b[0;32m    307\u001b[0m             \u001b[1;32mreturn\u001b[0m \u001b[0mval\u001b[0m\u001b[1;33m\u001b[0m\u001b[1;33m\u001b[0m\u001b[0m\n\u001b[1;32m--> 308\u001b[1;33m         \u001b[1;32mraise\u001b[0m \u001b[0mAttributeError\u001b[0m\u001b[1;33m(\u001b[0m\u001b[1;34mf\"Element has no attribute {item}!\"\u001b[0m\u001b[1;33m)\u001b[0m\u001b[1;33m\u001b[0m\u001b[1;33m\u001b[0m\u001b[0m\n\u001b[0m\u001b[0;32m    309\u001b[0m \u001b[1;33m\u001b[0m\u001b[0m\n\u001b[0;32m    310\u001b[0m     \u001b[1;33m@\u001b[0m\u001b[0mproperty\u001b[0m\u001b[1;33m\u001b[0m\u001b[1;33m\u001b[0m\u001b[0m\n",
      "\u001b[1;31mAttributeError\u001b[0m: Element has no attribute column!"
     ]
    }
   ],
   "source": [
    "fe.column"
   ]
  }
 ],
 "metadata": {
  "kernelspec": {
   "display_name": "Python 3",
   "language": "python",
   "name": "python3"
  },
  "language_info": {
   "codemirror_mode": {
    "name": "ipython",
    "version": 3
   },
   "file_extension": ".py",
   "mimetype": "text/x-python",
   "name": "python",
   "nbconvert_exporter": "python",
   "pygments_lexer": "ipython3",
   "version": "3.8.8"
  }
 },
 "nbformat": 4,
 "nbformat_minor": 5
}
