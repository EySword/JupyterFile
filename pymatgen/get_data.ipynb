{
 "cells": [
  {
   "cell_type": "code",
   "execution_count": 1,
   "id": "d73eb36e-70a9-4646-99a6-38f37e9bdb39",
   "metadata": {},
   "outputs": [],
   "source": [
    "from pymatgen.ext.matproj import MPRester"
   ]
  },
  {
   "cell_type": "code",
   "execution_count": 11,
   "id": "4611597d-6b14-4160-ad53-d4b37bcee94e",
   "metadata": {},
   "outputs": [],
   "source": [
    "with MPRester('WZW8U8nBTGJsz1i7WQ') as m:\n",
    "    data = m.get_data(\"BiSeI\")"
   ]
  },
  {
   "cell_type": "code",
   "execution_count": 13,
   "id": "201979a4-c943-4fe2-8e0d-81adaa082fef",
   "metadata": {},
   "outputs": [
    {
     "data": {
      "text/plain": [
       "1.6111"
      ]
     },
     "execution_count": 13,
     "metadata": {},
     "output_type": "execute_result"
    }
   ],
   "source": [
    "data[0]['band_gap']"
   ]
  },
  {
   "cell_type": "code",
   "execution_count": 14,
   "id": "106236b1-83d8-44ba-a5b3-403c34436a97",
   "metadata": {},
   "outputs": [
    {
     "data": {
      "text/plain": [
       "<pymatgen.ext.matproj.MPRester at 0x1594261eb80>"
      ]
     },
     "execution_count": 14,
     "metadata": {},
     "output_type": "execute_result"
    }
   ],
   "source": [
    "m"
   ]
  },
  {
   "cell_type": "code",
   "execution_count": 1,
   "id": "f6e5dc1e-f440-4ece-a60f-f5dae6a67a78",
   "metadata": {},
   "outputs": [],
   "source": [
    "import json"
   ]
  },
  {
   "cell_type": "code",
   "execution_count": null,
   "id": "6aa717bf-5b89-4605-b967-445120a5d35b",
   "metadata": {},
   "outputs": [],
   "source": []
  }
 ],
 "metadata": {
  "kernelspec": {
   "display_name": "main_research",
   "language": "python",
   "name": "main_research"
  },
  "language_info": {
   "codemirror_mode": {
    "name": "ipython",
    "version": 3
   },
   "file_extension": ".py",
   "mimetype": "text/x-python",
   "name": "python",
   "nbconvert_exporter": "python",
   "pygments_lexer": "ipython3",
   "version": "3.9.12"
  }
 },
 "nbformat": 4,
 "nbformat_minor": 5
}
