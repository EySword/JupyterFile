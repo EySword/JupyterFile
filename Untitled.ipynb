{
 "cells": [
  {
   "cell_type": "code",
   "execution_count": null,
   "metadata": {},
   "outputs": [],
   "source": [
    "import matplotlib"
   ]
  },
  {
   "cell_type": "code",
   "execution_count": 1,
   "metadata": {},
   "outputs": [],
   "source": [
    "from PIL import Image"
   ]
  },
  {
   "cell_type": "code",
   "execution_count": 33,
   "metadata": {},
   "outputs": [],
   "source": [
    "image1=Image.open('1.jpg')"
   ]
  },
  {
   "cell_type": "code",
   "execution_count": null,
   "metadata": {},
   "outputs": [],
   "source": [
    "px,py,pz=image1.getpixel((0,0))"
   ]
  },
  {
   "cell_type": "code",
   "execution_count": 35,
   "metadata": {},
   "outputs": [
    {
     "data": {
      "text/plain": [
       "(1080, 2412)"
      ]
     },
     "execution_count": 35,
     "metadata": {},
     "output_type": "execute_result"
    }
   ],
   "source": [
    "image1.size"
   ]
  },
  {
   "cell_type": "code",
   "execution_count": null,
   "metadata": {},
   "outputs": [],
   "source": [
    "image2.show()"
   ]
  },
  {
   "cell_type": "code",
   "execution_count": 6,
   "metadata": {},
   "outputs": [
    {
     "name": "stdin",
     "output_type": "stream",
     "text": [
      "请输入图像数量： 2\n",
      "请输入图像名字： style20.jpg\n"
     ]
    },
    {
     "name": "stdout",
     "output_type": "stream",
     "text": [
      "112 112 124 --- 56 56 62\n"
     ]
    },
    {
     "name": "stdin",
     "output_type": "stream",
     "text": [
      "请输入图像名字： style21.jpg\n"
     ]
    },
    {
     "name": "stdout",
     "output_type": "stream",
     "text": [
      "137 83 47 --- 124 97 85\n"
     ]
    }
   ],
   "source": [
    "\n",
    "# px = 0\n",
    "# py = 0\n",
    "# pz = 0\n",
    "\n",
    "num = int(input(\"请输入图像数量：\"))\n",
    "im2 = Image.new(\"RGB\",ele.size,0) \n",
    "for i in range(num):\n",
    "    name = (input(\"请输入图像名字：\"))\n",
    "    ele = Image.open(name)\n",
    "    for y in range(ele.size[1]):\n",
    "        for x in range(ele.size[0]):\n",
    "            pix= ele.getpixel((x,y))\n",
    "            px,py,pz= im2.getpixel((x,y))\n",
    "#             print('运算前的im2：',px,py,pz)\n",
    "            px = px + int(pix[0]/num)\n",
    "            py = py + int(pix[1]/num)\n",
    "            pz = pz + int(pix[2]/num)\n",
    "            im2.putpixel((x,y),(px,py,pz))\n",
    "#             print(pix[0],pix[1],pix[2],'---',px,py,pz)\n",
    "            if 150<x<152 and 150<y < 152:\n",
    "                print(pix[0],pix[1],pix[2],'---',px,py,pz)         \n",
    "    im2.show()\n",
    "# im2.show()"
   ]
  },
  {
   "cell_type": "code",
   "execution_count": null,
   "metadata": {},
   "outputs": [],
   "source": [
    "num = 1\n",
    "for i in range(num):\n",
    "    name = \"style20.jpg\"\n",
    "    ele = Image.open(name)\n",
    "    im2 = Image.new(\"RGB\",ele.size,0) \n",
    "#     ele.show()\n",
    "    for y in range(ele.size[1]):\n",
    "        for x in range(ele.size[0]):\n",
    "            pix1= ele.getpixel((x,y))\n",
    "            px,py,pz= im2.getpixel((x,y))\n",
    "            px = px + int(pix1[0]/num)\n",
    "            py = py + int(pix1[1]/num)\n",
    "            pz = pz + int(pix1[2]/num)\n",
    "            im2.putpixel((x,y),(px,py,pz))\n",
    "            print(pix1[0],pix1[1],pix1[2],'---',px,py,pz) \n",
    "im2.show()"
   ]
  }
 ],
 "metadata": {
  "kernelspec": {
   "display_name": "Python 3",
   "language": "python",
   "name": "python3"
  },
  "language_info": {
   "codemirror_mode": {
    "name": "ipython",
    "version": 3
   },
   "file_extension": ".py",
   "mimetype": "text/x-python",
   "name": "python",
   "nbconvert_exporter": "python",
   "pygments_lexer": "ipython3",
   "version": "3.8.8"
  }
 },
 "nbformat": 4,
 "nbformat_minor": 4
}
