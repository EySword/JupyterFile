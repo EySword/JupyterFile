{
 "cells": [
  {
   "cell_type": "code",
   "execution_count": 1,
   "metadata": {},
   "outputs": [],
   "source": [
    "import matplotlib"
   ]
  },
  {
   "cell_type": "code",
   "execution_count": 2,
   "metadata": {},
   "outputs": [
    {
     "data": {
      "text/plain": [
       "['GTK3Agg',\n",
       " 'GTK3Cairo',\n",
       " 'MacOSX',\n",
       " 'nbAgg',\n",
       " 'Qt4Agg',\n",
       " 'Qt4Cairo',\n",
       " 'Qt5Agg',\n",
       " 'Qt5Cairo',\n",
       " 'TkAgg',\n",
       " 'TkCairo',\n",
       " 'WebAgg',\n",
       " 'WX',\n",
       " 'WXAgg',\n",
       " 'WXCairo']"
      ]
     },
     "execution_count": 2,
     "metadata": {},
     "output_type": "execute_result"
    }
   ],
   "source": [
    "matplotlib.rcsetup.interactive_bk"
   ]
  }
 ],
 "metadata": {
  "kernelspec": {
   "display_name": "Python 3",
   "language": "python",
   "name": "python3"
  },
  "language_info": {
   "codemirror_mode": {
    "name": "ipython",
    "version": 3
   },
   "file_extension": ".py",
   "mimetype": "text/x-python",
   "name": "python",
   "nbconvert_exporter": "python",
   "pygments_lexer": "ipython3",
   "version": "3.8.8"
  }
 },
 "nbformat": 4,
 "nbformat_minor": 4
}
