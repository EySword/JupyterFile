{
 "cells": [
  {
   "cell_type": "code",
   "execution_count": null,
   "id": "d9436b39-1bf5-4c69-ac51-77963dff4c6a",
   "metadata": {},
   "outputs": [],
   "source": [
    "import tensorflow as tf\n",
    "import numpy as np"
   ]
  },
  {
   "cell_type": "code",
   "execution_count": null,
   "id": "fe171d22-fe84-40db-b639-717afcffac0c",
   "metadata": {},
   "outputs": [],
   "source": [
    "INPUT_NODE = 30\n",
    "OUTPUT_NODE = 1\n",
    "LAYER1_NODE = 60"
   ]
  },
  {
   "cell_type": "code",
   "execution_count": null,
   "id": "905821ae-1078-45d8-87d2-a41f43ba2916",
   "metadata": {},
   "outputs": [],
   "source": [
    "def get_weight(shape,regularizer):\n",
    "    w=tf.Variable(tf.truncated_normal(shape,stddev=0.1))#从截断的正态分布输出随机值\n",
    "    if regularizer != None: tf.add_to_collection('losses',tf.contrib.layers.l2_regularizer(regularizer)(w))\n",
    "    return w"
   ]
  },
  {
   "cell_type": "code",
   "execution_count": null,
   "id": "f1b7da0a-b942-4740-b8bb-903e2844b204",
   "metadata": {},
   "outputs": [],
   "source": [
    "def get_bias(shape):\n",
    "    b = tf.Variable(tf.zeros(shape))\n",
    "    return b"
   ]
  },
  {
   "cell_type": "code",
   "execution_count": null,
   "id": "8c1396c2-8c4d-488f-951a-b049ca30471a",
   "metadata": {},
   "outputs": [],
   "source": [
    "def forward(x,regularizer):\n",
    "    w1=get_weight([INPUT_NODE,LAYER1_NODE],regularizer)\n",
    "    b1=get_bias([LAYER1_NODE])\n",
    "    y1=tf.nn.tanh(tf.matmul(x,w1)+b1)#第一层用了tanh作为激活函数\n",
    "\n",
    "    w2=get_weight([LAYER1_NODE,OUTPUT_NODE],regularizer)\n",
    "    b2=get_bias([OUTPUT_NODE])\n",
    "    y=tf.matmul(y1,w2)+b2#第二层无激活函数\n",
    "    return y\n"
   ]
  }
 ],
 "metadata": {
  "kernelspec": {
   "display_name": "Python 3 (ipykernel)",
   "language": "python",
   "name": "python3"
  },
  "language_info": {
   "codemirror_mode": {
    "name": "ipython",
    "version": 3
   },
   "file_extension": ".py",
   "mimetype": "text/x-python",
   "name": "python",
   "nbconvert_exporter": "python",
   "pygments_lexer": "ipython3",
   "version": "3.9.0"
  }
 },
 "nbformat": 4,
 "nbformat_minor": 5
}
