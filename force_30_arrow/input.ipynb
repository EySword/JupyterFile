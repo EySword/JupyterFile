{
 "cells": [
  {
   "cell_type": "code",
   "execution_count": null,
   "id": "03bc6d75-8d47-4113-8ebb-daf049dcc2ee",
   "metadata": {},
   "outputs": [],
   "source": [
    "import tensorflow as tf\n",
    "import numpy as np\n"
   ]
  },
  {
   "cell_type": "code",
   "execution_count": null,
   "id": "bbb39c3b-860b-476c-a035-f93825708034",
   "metadata": {},
   "outputs": [],
   "source": [
    "def GetRandomBatch(x,y,count):\n",
    "    assert x.shape[0] == y.shape[0],('x.shape: %s y.shape: %s' % (x.shape, y.shape))\n",
    "    if count > x.shape[0]:\n",
    "        count=x.shape[0]\n",
    "    _x = x\n",
    "    _y = y\n",
    "    perm = np.arange(x.shape[0])\n",
    "    np.random.shuffle(perm)\n",
    "    _x = x[perm]\n",
    "    _y = y[perm]\n",
    "    return _x[0:count], _y[0:count]\n"
   ]
  },
  {
   "cell_type": "code",
   "execution_count": null,
   "id": "8cc3b24c-125b-4435-b148-43eb518e3801",
   "metadata": {},
   "outputs": [],
   "source": [
    "def GetInputData():\n",
    "    x=np.loadtxt('train_forces_sf.dat')\n",
    "    _y=np.loadtxt('train_forces.dat')\n",
    "    n=len(_y)\n",
    "    y=_y.reshape((n,1))\n",
    "    return x,y "
   ]
  }
 ],
 "metadata": {
  "kernelspec": {
   "display_name": "Python 3 (ipykernel)",
   "language": "python",
   "name": "python3"
  },
  "language_info": {
   "codemirror_mode": {
    "name": "ipython",
    "version": 3
   },
   "file_extension": ".py",
   "mimetype": "text/x-python",
   "name": "python",
   "nbconvert_exporter": "python",
   "pygments_lexer": "ipython3",
   "version": "3.9.0"
  }
 },
 "nbformat": 4,
 "nbformat_minor": 5
}
