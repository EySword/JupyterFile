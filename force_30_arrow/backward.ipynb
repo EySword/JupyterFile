{
 "cells": [
  {
   "cell_type": "code",
   "execution_count": null,
   "id": "9c5b7b9c-0469-4559-94d6-d6e0f7800152",
   "metadata": {},
   "outputs": [],
   "source": [
    "import tensorflow as tf\n",
    "import task_forward\n",
    "import os\n",
    "import data_input"
   ]
  },
  {
   "cell_type": "code",
   "execution_count": null,
   "id": "f13d9e6d-28ae-4f3f-a10f-8ec8fac213cc",
   "metadata": {},
   "outputs": [],
   "source": [
    "MODEL_SAVE_PATH='./model1/'\n",
    "MODEL_NAME='task_model'"
   ]
  },
  {
   "cell_type": "code",
   "execution_count": null,
   "id": "85c11081-035b-4f52-b89c-16f1ec0f088b",
   "metadata": {},
   "outputs": [],
   "source": [
    "BATCH_SIZE =50 \n",
    "LEARNING_RATE_BASE = 0.1\n",
    "LEARNING_RATE_DECAY =0.99\n",
    "REGULARIZER = 0.0001\n",
    "STEPS = 20000\n",
    "MOVING_AVERAGE_DECAY = 0.99"
   ]
  },
  {
   "cell_type": "code",
   "execution_count": null,
   "id": "95c84bd8-284c-40e3-9b4a-03cf16c23af8",
   "metadata": {},
   "outputs": [],
   "source": [
    "def split():\n",
    "    f1 = open('forces_sf.dat')\n",
    "    f2 = open('forces.dat')\n",
    "\n",
    "    f3 = open('train_forces_sf.dat', 'x')\n",
    "    f4 = open('train_forces.dat', 'x')\n",
    "\n",
    "    f5 = open('test_forces_sf.dat', 'x')\n",
    "    f6 = open('test_forces.dat', 'x')\n",
    "\n",
    "    for i in range(500):\n",
    "        f3.write(f1.readline())\n",
    "        f4.write(f2.readline())\n",
    "    for i in range(40000):\n",
    "        f1.readline()\n",
    "        f2.readline()\n",
    "    for i in range(10000):\n",
    "        f5.write(f1.readline())\n",
    "        f6.write(f2.readline())\n",
    "    #为什么数据不用完？train的数据过于少了，也没有dev\n",
    "    f1.close()\n",
    "    f2.close()\n",
    "    f3.close()\n",
    "    f4.close()\n",
    "    f5.close()\n",
    "    f6.close()"
   ]
  },
  {
   "cell_type": "code",
   "execution_count": null,
   "id": "17b3fdda-4b8a-49ad-a28f-3c64d006d62b",
   "metadata": {},
   "outputs": [],
   "source": [
    "def backward():\n",
    "    x=tf.placeholder(tf.float32,[None,task_forward.INPUT_NODE], name = \"x\")\n",
    "    y_=tf.placeholder(tf.float32,[None,task_forward.OUTPUT_NODE], name = \"y\")\n",
    "    y=task_forward.forward(x,REGULARIZER)\n",
    "    global_step = tf.Variable(0,trainable = False)\n",
    "\n",
    "    mse=tf.reduce_mean(tf.square(y_ - y))\n",
    "    loss=mse + tf.add_n(tf.get_collection('losses'))\n",
    "\n",
    "    learning_rate = tf.train.exponential_decay(LEARNING_RATE_BASE,global_step,5000/BATCH_SIZE,LEARNING_RATE_DECAY,staircase=True)\n",
    "\n",
    "    train_step=tf.train.AdamOptimizer(learning_rate).minimize(loss,global_step=global_step)\n",
    "\n",
    "    ema=tf.train.ExponentialMovingAverage(MOVING_AVERAGE_DECAY, global_step)\n",
    "    ema_op=ema.apply(tf.trainable_variables())\n",
    "    with tf.control_dependencies([train_step,ema_op]):\n",
    "        train_op = tf.no_op(name = 'train')\n",
    "\n",
    "\n",
    "    saver=tf.train.Saver()\n",
    "    \n",
    "    #gpu_options=tf.GPUOptions(allow_growth = True) \n",
    "    #config = tf.ConfigProto(gpu_options=gpu_options)\n",
    "    \n",
    "    with tf.Session() as sess:\n",
    "        init_op = tf.global_variables_initializer()\n",
    "        sess.run(init_op)\n",
    "        \n",
    "        ckpt = tf.train.get_checkpoint_state(MODEL_SAVE_PATH)\n",
    "        if ckpt and ckpt.model_checkpoint_path:\n",
    "            saver.restore(sess, ckpt.model_checkpoint_path)\n",
    "            \n",
    "        inputX, inputY = data_input.GetInputData()\n",
    "        print(inputX.shape)\n",
    "        print(inputY.shape)\n",
    "        \n",
    "        for i in range(STEPS):\n",
    "            xs, ys = data_input.GetRandomBatch(inputX,inputY,BATCH_SIZE)\n",
    "            _, loss_value, step = sess.run([train_op, loss, global_step], feed_dict = {x:xs,y_:ys})\n",
    "            if i % 100 == 0:\n",
    "                print(\"After %d training steps, loss on training batch is %g.\" % (step, loss_value))\n",
    "                saver.save(sess, os.path.join(MODEL_SAVE_PATH, MODEL_NAME), global_step=global_step)"
   ]
  },
  {
   "cell_type": "code",
   "execution_count": null,
   "id": "e423701f-9e79-407a-aeff-753250306a3d",
   "metadata": {},
   "outputs": [],
   "source": [
    "data_input.GetRandomBatch(inputX,inputY,BATCH_SIZE)\n",
    "            _, loss_value, step = sess.run([train_op, loss, global_step], feed_dict = {x:xs,y_:ys})\n",
    "            if i % 100 == 0:\n",
    "                print(\"After %d training steps, loss on training batch is %g.\" % (step, loss_value))\n",
    "                saver.save(sess, os.path.join(MODEL_SAVE_PATH, MODEL_NAME), global_step=global_step)"
   ]
  },
  {
   "cell_type": "code",
   "execution_count": null,
   "id": "37e3ea27-f3f4-4af4-9892-c31ed12f1796",
   "metadata": {},
   "outputs": [],
   "source": [
    "def main():\n",
    "    split()\n",
    "    backward()"
   ]
  },
  {
   "cell_type": "code",
   "execution_count": null,
   "id": "d054c4dc-af14-40ec-a93d-d94158f3a570",
   "metadata": {},
   "outputs": [],
   "source": [
    "if __name__ == '__main__':\n",
    "    main()\n"
   ]
  },
  {
   "cell_type": "code",
   "execution_count": null,
   "id": "0f14e234-13e5-474b-bb64-761c6a337bb4",
   "metadata": {},
   "outputs": [],
   "source": []
  }
 ],
 "metadata": {
  "kernelspec": {
   "display_name": "Python 3",
   "language": "python",
   "name": "python3"
  },
  "language_info": {
   "codemirror_mode": {
    "name": "ipython",
    "version": 3
   },
   "file_extension": ".py",
   "mimetype": "text/x-python",
   "name": "python",
   "nbconvert_exporter": "python",
   "pygments_lexer": "ipython3",
   "version": "3.8.8"
  }
 },
 "nbformat": 4,
 "nbformat_minor": 5
}
