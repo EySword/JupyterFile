{
 "cells": [
  {
   "cell_type": "code",
   "execution_count": 1,
   "id": "df61eb6a-495c-4e07-85b5-fc3779f2e22c",
   "metadata": {},
   "outputs": [],
   "source": [
    "import time\n",
    "import numpy as np\n",
    "import tensorflow as tf\n",
    "import task_forward\n",
    "import task_backward\n",
    "import math "
   ]
  },
  {
   "cell_type": "code",
   "execution_count": null,
   "id": "92481f04-f61d-4e1f-b002-f658090c199b",
   "metadata": {},
   "outputs": [],
   "source": [
    "TEST_INTERVAL_SECS = 2\n",
    "BATCH_SIZE = 50"
   ]
  },
  {
   "cell_type": "code",
   "execution_count": null,
   "id": "35c38b33-15ab-462f-b451-e1a9b703969d",
   "metadata": {},
   "outputs": [],
   "source": [
    "def GetInputData():\n",
    "    x=np.loadtxt('test_forces_sf.dat')#(61440, 30)\n",
    "    _y=np.loadtxt('test_forces.dat')#横着的(61440,)\n",
    "    n=len(_y)\n",
    "    y=_y.reshape((n,1))#竖起来(61440, 1)\n",
    "    return x,y"
   ]
  },
  {
   "cell_type": "code",
   "execution_count": null,
   "id": "ce5b2a52-eedc-4d89-8a9a-245ef9053430",
   "metadata": {},
   "outputs": [],
   "source": [
    "def GetRandomBatch(x,y,count):\n",
    "    '''\n",
    "    count决定打乱到多少\n",
    "    '''\n",
    "    assert x.shape[0] == y.shape[0],('x.shape: %s y.shape: %s' % (x.shape, y.shape))#x和y的维数相同\n",
    "    if count > x.shape[0]:\n",
    "        count=x.shape[0]\n",
    "    _x = x\n",
    "    _y = y\n",
    "    perm = np.arange(x.shape[0])\n",
    "    np.random.shuffle(perm)#打乱所有x标签\n",
    "    _x = x[perm]\n",
    "    _y = y[perm]\n",
    "    return _x[0:count], _y[0:count]"
   ]
  },
  {
   "cell_type": "code",
   "execution_count": null,
   "id": "80b9ac8f-5302-479b-8800-723529d3159d",
   "metadata": {},
   "outputs": [],
   "source": [
    "with tf.Graph().as_default() as g:\n",
    "    x =tf.placeholder(tf.float32,[None,task_forward.INPUT_NODE])#插入占位符\n",
    "    y_=tf.placeholder(tf.float32,[None,task_forward.OUTPUT_NODE])\n",
    "    y =task_forward.forward(x,None)#两层的神经网络计算\n",
    "\n",
    "    ema=tf.train.ExponentialMovingAverage(task_backward.MOVING_AVERAGE_DECAY)#通过采用指数衰减保持变量的移动平均值\n",
    "    ema_restore = ema.variables_to_restore()\n",
    "    saver = tf.train.Saver(ema_restore)#保存和恢复变量\n",
    "\n",
    "    accuracy = tf.reduce_mean(tf.square(y - y_))#cost function\n",
    "\n",
    "\n",
    "    while True:\n",
    "        gpu_options=tf.GPUOptions(allow_growth = True) \n",
    "        config = tf.ConfigProto(gpu_options=gpu_options)#Tensorflow运行自动慢慢达到最大GPU的内存\n",
    "        with tf.Session() as sess:\n",
    "            ckpt=tf.train.get_checkpoint_state(task_backward.MODEL_SAVE_PATH)#从“检查点”文件返回CheckpointState原型\n",
    "            if ckpt and ckpt.model_checkpoint_path:\n",
    "                saver.restore(sess, ckpt.model_checkpoint_path)\n",
    "                global_step=ckpt.model_checkpoint_path.split('/')[-1].split('-')[-1]\n",
    "                #inputX, inputY = GetInputData()\n",
    "                #xs, ys = GetRandomBatch(inputX,inputY,BATCH_SIZE)\n",
    "                xs, ys = GetInputData()\n",
    "                accuracy_score = sess.run(accuracy, feed_dict={x:xs, y_:ys})\n",
    "                print(\"After %s training steps,  variance is %g\" % (global_step, np.sqrt(accuracy_score)))\n",
    "                p1=ys\n",
    "                p2=sess.run(y,feed_dict={x:xs, y_:ys}) \n",
    "                np.savetxt('1.dat',p1)\n",
    "                np.savetxt('2.dat',p2)\n",
    "            else:\n",
    "                print(\"No checkpoint file found.\")\n",
    "        time.sleep(TEST_INTERVAL_SECS)\n",
    "        break"
   ]
  },
  {
   "cell_type": "code",
   "execution_count": null,
   "id": "3a1d8750-6b30-4ef9-9c54-8c063a45e149",
   "metadata": {},
   "outputs": [],
   "source": [
    "f1=open('1.dat','r')\n",
    "f2=open('2.dat','r')\n",
    "sum1=0\n",
    "sum2=0\n",
    "max=0\n",
    "rmse=0\n",
    "av=0\n",
    "natom=3000"
   ]
  },
  {
   "cell_type": "code",
   "execution_count": null,
   "id": "ed1daaff-31b2-41a0-9dde-76799579019a",
   "metadata": {},
   "outputs": [],
   "source": [
    "for i in range(natom):\n",
    "  a1=float(f1.readline())\n",
    "  sum1=sum1+a1 \n",
    "  a2=float(f2.readline())\n",
    "  sum2=sum2+a2\n",
    "  if (max<abs(a1-a2)): max=abs(a1-a2) \n",
    "  rmse=rmse+(a1-a2)*(a1-a2)\n",
    "  av=av+abs(a1-a2)\n",
    "print(av/natom)"
   ]
  }
 ],
 "metadata": {
  "kernelspec": {
   "display_name": "Python 3 (ipykernel)",
   "language": "python",
   "name": "python3"
  },
  "language_info": {
   "codemirror_mode": {
    "name": "ipython",
    "version": 3
   },
   "file_extension": ".py",
   "mimetype": "text/x-python",
   "name": "python",
   "nbconvert_exporter": "python",
   "pygments_lexer": "ipython3",
   "version": "3.9.0"
  }
 },
 "nbformat": 4,
 "nbformat_minor": 5
}
