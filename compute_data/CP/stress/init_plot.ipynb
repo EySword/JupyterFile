{
 "cells": [
  {
   "cell_type": "code",
   "execution_count": 2,
   "metadata": {},
   "outputs": [],
   "source": [
    "import pandas as pd\n",
    "import numpy as np\n",
    "import matplotlib.pyplot as plt"
   ]
  },
  {
   "cell_type": "code",
   "execution_count": 3,
   "metadata": {},
   "outputs": [],
   "source": [
    "data_a=pd.read_excel('data_a.xlsx')\n",
    "data_b=pd.read_excel('bStress.xlsx')"
   ]
  },
  {
   "cell_type": "code",
   "execution_count": 4,
   "metadata": {},
   "outputs": [
    {
     "data": {
      "text/html": [
       "<div>\n",
       "<style scoped>\n",
       "    .dataframe tbody tr th:only-of-type {\n",
       "        vertical-align: middle;\n",
       "    }\n",
       "\n",
       "    .dataframe tbody tr th {\n",
       "        vertical-align: top;\n",
       "    }\n",
       "\n",
       "    .dataframe thead th {\n",
       "        text-align: right;\n",
       "    }\n",
       "</style>\n",
       "<table border=\"1\" class=\"dataframe\">\n",
       "  <thead>\n",
       "    <tr style=\"text-align: right;\">\n",
       "      <th></th>\n",
       "      <th>Stress</th>\n",
       "      <th>XX</th>\n",
       "      <th>YY</th>\n",
       "      <th>ZZ</th>\n",
       "      <th>XY</th>\n",
       "      <th>YZ</th>\n",
       "      <th>ZX</th>\n",
       "    </tr>\n",
       "  </thead>\n",
       "  <tbody>\n",
       "    <tr>\n",
       "      <th>1</th>\n",
       "      <td>0.00</td>\n",
       "      <td>0.00000</td>\n",
       "      <td>0.00000</td>\n",
       "      <td>0.00000</td>\n",
       "      <td>0</td>\n",
       "      <td>0</td>\n",
       "      <td>0.00000</td>\n",
       "    </tr>\n",
       "    <tr>\n",
       "      <th>0</th>\n",
       "      <td>0.05</td>\n",
       "      <td>-19.00511</td>\n",
       "      <td>0.00560</td>\n",
       "      <td>-0.13701</td>\n",
       "      <td>0</td>\n",
       "      <td>0</td>\n",
       "      <td>0.00597</td>\n",
       "    </tr>\n",
       "    <tr>\n",
       "      <th>1</th>\n",
       "      <td>0.10</td>\n",
       "      <td>-33.34288</td>\n",
       "      <td>0.00477</td>\n",
       "      <td>-0.13020</td>\n",
       "      <td>0</td>\n",
       "      <td>0</td>\n",
       "      <td>0.00296</td>\n",
       "    </tr>\n",
       "    <tr>\n",
       "      <th>2</th>\n",
       "      <td>0.15</td>\n",
       "      <td>-32.18450</td>\n",
       "      <td>0.01097</td>\n",
       "      <td>-0.12575</td>\n",
       "      <td>0</td>\n",
       "      <td>0</td>\n",
       "      <td>0.00276</td>\n",
       "    </tr>\n",
       "    <tr>\n",
       "      <th>3</th>\n",
       "      <td>0.20</td>\n",
       "      <td>-27.52687</td>\n",
       "      <td>-0.00213</td>\n",
       "      <td>-0.12087</td>\n",
       "      <td>0</td>\n",
       "      <td>0</td>\n",
       "      <td>0.00357</td>\n",
       "    </tr>\n",
       "    <tr>\n",
       "      <th>4</th>\n",
       "      <td>0.25</td>\n",
       "      <td>-16.10811</td>\n",
       "      <td>0.00804</td>\n",
       "      <td>-0.11514</td>\n",
       "      <td>0</td>\n",
       "      <td>0</td>\n",
       "      <td>0.00419</td>\n",
       "    </tr>\n",
       "    <tr>\n",
       "      <th>5</th>\n",
       "      <td>0.30</td>\n",
       "      <td>-6.36877</td>\n",
       "      <td>-0.00089</td>\n",
       "      <td>-0.11384</td>\n",
       "      <td>0</td>\n",
       "      <td>0</td>\n",
       "      <td>0.00351</td>\n",
       "    </tr>\n",
       "  </tbody>\n",
       "</table>\n",
       "</div>"
      ],
      "text/plain": [
       "   Stress        XX       YY       ZZ  XY  YZ       ZX\n",
       "1    0.00   0.00000  0.00000  0.00000   0   0  0.00000\n",
       "0    0.05 -19.00511  0.00560 -0.13701   0   0  0.00597\n",
       "1    0.10 -33.34288  0.00477 -0.13020   0   0  0.00296\n",
       "2    0.15 -32.18450  0.01097 -0.12575   0   0  0.00276\n",
       "3    0.20 -27.52687 -0.00213 -0.12087   0   0  0.00357\n",
       "4    0.25 -16.10811  0.00804 -0.11514   0   0  0.00419\n",
       "5    0.30  -6.36877 -0.00089 -0.11384   0   0  0.00351"
      ]
     },
     "execution_count": 4,
     "metadata": {},
     "output_type": "execute_result"
    }
   ],
   "source": [
    "data_a.rename(columns={'Unnamed: 0':'Stress'},inplace=True)\n",
    "new=pd.DataFrame({'Stress':0.00,\n",
    "                 'XX':0,\n",
    "                 'YY':0,\n",
    "                 'ZZ':0,\n",
    "                 'XY':0,\n",
    "                 \"YZ\":0,\n",
    "                 \"ZX\":0},\n",
    "                index=[1])\n",
    "data_a=new.append(data_a)\n",
    "data_a\n"
   ]
  },
  {
   "cell_type": "code",
   "execution_count": 6,
   "metadata": {},
   "outputs": [
    {
     "data": {
      "image/png": "[encoded data removed]",
      "text/plain": [
       "<Figure size 432x288 with 1 Axes>"
      ]
     },
     "metadata": {
      "needs_background": "light"
     },
     "output_type": "display_data"
    }
   ],
   "source": [
    "plt.figure()\n",
    "X=data_a['Stress']\n",
    "\n",
    "Y=data_a['XX']\n",
    "plt.plot(X,-Y,color='r',linewidth=1)\n",
    "plt.xlabel('Stress',size=15)\n",
    "plt.ylabel('kBar',size=15)\n",
    "plt.show()"
   ]
  },
  {
   "cell_type": "code",
   "execution_count": 9,
   "metadata": {},
   "outputs": [
    {
     "data": {
      "text/html": [
       "<div>\n",
       "<style scoped>\n",
       "    .dataframe tbody tr th:only-of-type {\n",
       "        vertical-align: middle;\n",
       "    }\n",
       "\n",
       "    .dataframe tbody tr th {\n",
       "        vertical-align: top;\n",
       "    }\n",
       "\n",
       "    .dataframe thead th {\n",
       "        text-align: right;\n",
       "    }\n",
       "</style>\n",
       "<table border=\"1\" class=\"dataframe\">\n",
       "  <thead>\n",
       "    <tr style=\"text-align: right;\">\n",
       "      <th></th>\n",
       "      <th>Stress</th>\n",
       "      <th>XX</th>\n",
       "      <th>YY</th>\n",
       "      <th>ZZ</th>\n",
       "      <th>XY</th>\n",
       "      <th>YZ</th>\n",
       "      <th>ZX</th>\n",
       "    </tr>\n",
       "  </thead>\n",
       "  <tbody>\n",
       "    <tr>\n",
       "      <th>0</th>\n",
       "      <td>0.00</td>\n",
       "      <td>0.00063</td>\n",
       "      <td>0.00606</td>\n",
       "      <td>-0.14293</td>\n",
       "      <td>NaN</td>\n",
       "      <td>NaN</td>\n",
       "      <td>0.00707</td>\n",
       "    </tr>\n",
       "    <tr>\n",
       "      <th>1</th>\n",
       "      <td>0.05</td>\n",
       "      <td>-0.00363</td>\n",
       "      <td>-58.52744</td>\n",
       "      <td>-0.13407</td>\n",
       "      <td>0.0</td>\n",
       "      <td>0.0</td>\n",
       "      <td>0.00822</td>\n",
       "    </tr>\n",
       "    <tr>\n",
       "      <th>2</th>\n",
       "      <td>0.10</td>\n",
       "      <td>0.00299</td>\n",
       "      <td>-98.38142</td>\n",
       "      <td>-0.12243</td>\n",
       "      <td>0.0</td>\n",
       "      <td>0.0</td>\n",
       "      <td>0.00649</td>\n",
       "    </tr>\n",
       "    <tr>\n",
       "      <th>3</th>\n",
       "      <td>0.15</td>\n",
       "      <td>-0.00201</td>\n",
       "      <td>-121.92911</td>\n",
       "      <td>-0.11664</td>\n",
       "      <td>0.0</td>\n",
       "      <td>0.0</td>\n",
       "      <td>0.00524</td>\n",
       "    </tr>\n",
       "    <tr>\n",
       "      <th>4</th>\n",
       "      <td>0.20</td>\n",
       "      <td>0.01243</td>\n",
       "      <td>-51.73977</td>\n",
       "      <td>-0.11919</td>\n",
       "      <td>0.0</td>\n",
       "      <td>0.0</td>\n",
       "      <td>0.00339</td>\n",
       "    </tr>\n",
       "    <tr>\n",
       "      <th>5</th>\n",
       "      <td>0.25</td>\n",
       "      <td>-0.00279</td>\n",
       "      <td>-28.72447</td>\n",
       "      <td>-0.11557</td>\n",
       "      <td>0.0</td>\n",
       "      <td>0.0</td>\n",
       "      <td>0.00284</td>\n",
       "    </tr>\n",
       "    <tr>\n",
       "      <th>6</th>\n",
       "      <td>0.30</td>\n",
       "      <td>0.00231</td>\n",
       "      <td>-19.65038</td>\n",
       "      <td>-0.11224</td>\n",
       "      <td>0.0</td>\n",
       "      <td>0.0</td>\n",
       "      <td>0.00636</td>\n",
       "    </tr>\n",
       "  </tbody>\n",
       "</table>\n",
       "</div>"
      ],
      "text/plain": [
       "   Stress       XX         YY       ZZ   XY   YZ       ZX\n",
       "0    0.00  0.00063    0.00606 -0.14293  NaN  NaN  0.00707\n",
       "1    0.05 -0.00363  -58.52744 -0.13407  0.0  0.0  0.00822\n",
       "2    0.10  0.00299  -98.38142 -0.12243  0.0  0.0  0.00649\n",
       "3    0.15 -0.00201 -121.92911 -0.11664  0.0  0.0  0.00524\n",
       "4    0.20  0.01243  -51.73977 -0.11919  0.0  0.0  0.00339\n",
       "5    0.25 -0.00279  -28.72447 -0.11557  0.0  0.0  0.00284\n",
       "6    0.30  0.00231  -19.65038 -0.11224  0.0  0.0  0.00636"
      ]
     },
     "execution_count": 9,
     "metadata": {},
     "output_type": "execute_result"
    }
   ],
   "source": [
    "data_b.rename(columns={'Unnamed: 0':'Stress'},inplace=True)\n",
    "data_b"
   ]
  },
  {
   "cell_type": "code",
   "execution_count": 10,
   "metadata": {},
   "outputs": [
    {
     "data": {
      "image/png": "[encoded data removed]",
      "text/plain": [
       "<Figure size 432x288 with 1 Axes>"
      ]
     },
     "metadata": {
      "needs_background": "light"
     },
     "output_type": "display_data"
    }
   ],
   "source": [
    "plt.figure()\n",
    "X=data_b[\"Stress\"]\n",
    "Y=data_b[\"YY\"]\n",
    "plt.plot(X,-Y,color='blue',linewidth=1)\n",
    "plt.xlabel('Stress',size=15)\n",
    "plt.ylabel('kBar',size=15)\n",
    "plt.show()"
   ]
  },
  {
   "cell_type": "code",
   "execution_count": null,
   "metadata": {},
   "outputs": [],
   "source": []
  }
 ],
 "metadata": {
  "kernelspec": {
   "display_name": "Python 3",
   "language": "python",
   "name": "python3"
  },
  "language_info": {
   "codemirror_mode": {
    "name": "ipython",
    "version": 3
   },
   "file_extension": ".py",
   "mimetype": "text/x-python",
   "name": "python",
   "nbconvert_exporter": "python",
   "pygments_lexer": "ipython3",
   "version": "3.8.3"
  }
 },
 "nbformat": 4,
 "nbformat_minor": 4
}
