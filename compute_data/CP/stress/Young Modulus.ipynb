{
 "cells": [
  {
   "cell_type": "code",
   "execution_count": 11,
   "metadata": {},
   "outputs": [],
   "source": [
    "import pandas as pd\n",
    "import numpy as np\n",
    "import matplotlib.pyplot as plt\n",
    "from matplotlib.pyplot import MultipleLocator"
   ]
  },
  {
   "cell_type": "code",
   "execution_count": 3,
   "metadata": {},
   "outputs": [
    {
     "data": {
      "text/html": [
       "<div>\n",
       "<style scoped>\n",
       "    .dataframe tbody tr th:only-of-type {\n",
       "        vertical-align: middle;\n",
       "    }\n",
       "\n",
       "    .dataframe tbody tr th {\n",
       "        vertical-align: top;\n",
       "    }\n",
       "\n",
       "    .dataframe thead th {\n",
       "        text-align: right;\n",
       "    }\n",
       "</style>\n",
       "<table border=\"1\" class=\"dataframe\">\n",
       "  <thead>\n",
       "    <tr style=\"text-align: right;\">\n",
       "      <th></th>\n",
       "      <th>dL</th>\n",
       "      <th>force</th>\n",
       "    </tr>\n",
       "  </thead>\n",
       "  <tbody>\n",
       "    <tr>\n",
       "      <th>0</th>\n",
       "      <td>0.000</td>\n",
       "      <td>0.00000</td>\n",
       "    </tr>\n",
       "    <tr>\n",
       "      <th>1</th>\n",
       "      <td>0.004</td>\n",
       "      <td>-5.50842</td>\n",
       "    </tr>\n",
       "    <tr>\n",
       "      <th>2</th>\n",
       "      <td>0.008</td>\n",
       "      <td>-10.85757</td>\n",
       "    </tr>\n",
       "    <tr>\n",
       "      <th>3</th>\n",
       "      <td>0.012</td>\n",
       "      <td>-16.04616</td>\n",
       "    </tr>\n",
       "    <tr>\n",
       "      <th>4</th>\n",
       "      <td>0.016</td>\n",
       "      <td>-21.08041</td>\n",
       "    </tr>\n",
       "    <tr>\n",
       "      <th>5</th>\n",
       "      <td>0.020</td>\n",
       "      <td>-25.96568</td>\n",
       "    </tr>\n",
       "  </tbody>\n",
       "</table>\n",
       "</div>"
      ],
      "text/plain": [
       "      dL     force\n",
       "0  0.000   0.00000\n",
       "1  0.004  -5.50842\n",
       "2  0.008 -10.85757\n",
       "3  0.012 -16.04616\n",
       "4  0.016 -21.08041\n",
       "5  0.020 -25.96568"
      ]
     },
     "execution_count": 3,
     "metadata": {},
     "output_type": "execute_result"
    }
   ],
   "source": [
    "aData=pd.read_excel('Young_Modulus.xlsx',sheet_name=0)\n",
    "bData=pd.read_excel('Young_Modulus.xlsx',sheet_name=1)\n",
    "bData"
   ]
  },
  {
   "cell_type": "code",
   "execution_count": 4,
   "metadata": {},
   "outputs": [],
   "source": [
    "spaceDistence=15\n",
    "layerDistence=4.40497"
   ]
  },
  {
   "cell_type": "code",
   "execution_count": 5,
   "metadata": {},
   "outputs": [
    {
     "data": {
      "text/plain": [
       "0   -0.000000\n",
       "1    0.556553\n",
       "2    1.104048\n",
       "3    1.642765\n",
       "4    2.173173\n",
       "5    2.697253\n",
       "Name: force, dtype: float64"
      ]
     },
     "execution_count": 5,
     "metadata": {},
     "output_type": "execute_result"
    }
   ],
   "source": [
    "aGpa=(aData.force/10*-1)*spaceDistence/layerDistence\n",
    "bGpa=(bData.force/10*-1)*spaceDistence/layerDistence\n",
    "aGpa"
   ]
  },
  {
   "cell_type": "code",
   "execution_count": 19,
   "metadata": {},
   "outputs": [],
   "source": [
    "x_major_locator=MultipleLocator(0.004)"
   ]
  },
  {
   "cell_type": "code",
   "execution_count": 6,
   "metadata": {},
   "outputs": [
    {
     "data": {
      "image/png": "[encoded data removed]",
      "text/plain": [
       "<Figure size 432x288 with 3 Axes>"
      ]
     },
     "metadata": {
      "needs_background": "light"
     },
     "output_type": "display_data"
    }
   ],
   "source": [
    "plt.figure()\n",
    "plt.subplot(1,3,1)\n",
    "plt.plot(aData.dL,aGpa,color='r')\n",
    "plt.subplot(1,3,2)\n",
    "plt.plot(bData.dL,bGpa,color='blue')\n",
    "plt.subplot(1,3,3)\n",
    "plt.plot(aData.dL,aGpa,color='r')\n",
    "plt.plot(aData.dL,bGpa,color='blue')\n",
    "plt.show()"
   ]
  },
  {
   "cell_type": "code",
   "execution_count": 24,
   "metadata": {},
   "outputs": [
    {
     "data": {
      "image/png": "[encoded data removed]",
      "text/plain": [
       "<Figure size 432x288 with 1 Axes>"
      ]
     },
     "metadata": {
      "needs_background": "light"
     },
     "output_type": "display_data"
    }
   ],
   "source": [
    "plt.figure()\n",
    "plt.plot(aData.dL,aGpa,color='r',marker='o')\n",
    "plt.plot(aData.dL,bGpa,color='blue',marker='o')\n",
    "\n",
    "ax=plt.gca()\n",
    "ax.xaxis.set_major_locator(x_major_locator)\n",
    "\n",
    "plt.ylabel('GPa',size='20')\n",
    "plt.show()"
   ]
  },
  {
   "cell_type": "code",
   "execution_count": 26,
   "metadata": {},
   "outputs": [
    {
     "name": "stdout",
     "output_type": "stream",
     "text": [
      "[[-0.          0.55655317  1.10404838  1.64276488  2.17317258  2.69725333]]\n"
     ]
    },
    {
     "data": {
      "text/plain": [
       "numpy.matrix"
      ]
     },
     "execution_count": 26,
     "metadata": {},
     "output_type": "execute_result"
    }
   ],
   "source": [
    "aDataM=np.mat(aGpa.values)\n",
    "bDataM=np.mat(bGpa.values)\n",
    "print(aDataM)\n",
    "type(aDataM)"
   ]
  },
  {
   "cell_type": "code",
   "execution_count": 28,
   "metadata": {},
   "outputs": [
    {
     "name": "stdout",
     "output_type": "stream",
     "text": [
      "[[-135.78137051]]\n"
     ]
    }
   ],
   "source": [
    "#W=inv(X'*X)*X'*Y\n",
    "aX=np.mat(aData.values)[:,0]\n",
    "aY=aDataM.T\n",
    "aw=(aX.T*aX).I*aX.T*(-aY)\n",
    "print(aw)"
   ]
  },
  {
   "cell_type": "code",
   "execution_count": 29,
   "metadata": {},
   "outputs": [
    {
     "name": "stdout",
     "output_type": "stream",
     "text": [
      "[[-139.13829152]]\n",
      "[[-138.00604771]]\n",
      "[[-136.89707308]]\n",
      "[[-135.82328597]]\n",
      "[[-134.86266649]]\n"
     ]
    }
   ],
   "source": [
    "for i in range(1,6):\n",
    "    print(-aY[i]/aX[i])"
   ]
  },
  {
   "cell_type": "code",
   "execution_count": 30,
   "metadata": {},
   "outputs": [
    {
     "name": "stdout",
     "output_type": "stream",
     "text": [
      "[[-448.11792135]] \n",
      "\n",
      "[[-468.93792693]]\n",
      "[[-462.15851073]]\n",
      "[[-455.34248814]]\n",
      "[[-448.64969285]]\n",
      "[[-442.09744902]]\n"
     ]
    }
   ],
   "source": [
    "bX=np.mat(bData.values)[:,0]\n",
    "bY=bDataM.T\n",
    "bw=(bX.T*bX).I*bX.T*(-bY)\n",
    "print(bw,'\\n')\n",
    "for i in range(1,6):\n",
    "    print(-bY[i]/bX[i])"
   ]
  },
  {
   "cell_type": "code",
   "execution_count": null,
   "metadata": {},
   "outputs": [],
   "source": []
  }
 ],
 "metadata": {
  "kernelspec": {
   "display_name": "Python 3",
   "language": "python",
   "name": "python3"
  },
  "language_info": {
   "codemirror_mode": {
    "name": "ipython",
    "version": 3
   },
   "file_extension": ".py",
   "mimetype": "text/x-python",
   "name": "python",
   "nbconvert_exporter": "python",
   "pygments_lexer": "ipython3",
   "version": "3.8.3"
  }
 },
 "nbformat": 4,
 "nbformat_minor": 4
}
