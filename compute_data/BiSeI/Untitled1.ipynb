{
 "cells": [
  {
   "cell_type": "code",
   "execution_count": 25,
   "metadata": {},
   "outputs": [],
   "source": [
    "import pandas as pd\n",
    "import numpy as np"
   ]
  },
  {
   "cell_type": "code",
   "execution_count": 23,
   "metadata": {},
   "outputs": [
    {
     "name": "stderr",
     "output_type": "stream",
     "text": [
      "b'Skipping line 2: expected 3 fields, saw 14\\nSkipping line 3: expected 3 fields, saw 14\\nSkipping line 4: expected 3 fields, saw 14\\nSkipping line 5: expected 3 fields, saw 14\\nSkipping line 6: expected 3 fields, saw 14\\nSkipping line 7: expected 3 fields, saw 14\\nSkipping line 8: expected 3 fields, saw 14\\nSkipping line 9: expected 3 fields, saw 14\\nSkipping line 10: expected 3 fields, saw 14\\nSkipping line 11: expected 3 fields, saw 14\\nSkipping line 12: expected 3 fields, saw 14\\nSkipping line 13: expected 3 fields, saw 14\\nSkipping line 14: expected 3 fields, saw 14\\nSkipping line 15: expected 3 fields, saw 14\\nSkipping line 16: expected 3 fields, saw 14\\nSkipping line 17: expected 3 fields, saw 14\\nSkipping line 18: expected 3 fields, saw 14\\nSkipping line 19: expected 3 fields, saw 14\\nSkipping line 20: expected 3 fields, saw 14\\nSkipping line 21: expected 3 fields, saw 14\\nSkipping line 22: expected 3 fields, saw 14\\nSkipping line 23: expected 3 fields, saw 14\\nSkipping line 24: expected 3 fields, saw 14\\nSkipping line 25: expected 3 fields, saw 14\\nSkipping line 26: expected 3 fields, saw 14\\nSkipping line 27: expected 3 fields, saw 14\\nSkipping line 28: expected 3 fields, saw 14\\nSkipping line 29: expected 3 fields, saw 14\\nSkipping line 30: expected 3 fields, saw 14\\nSkipping line 31: expected 3 fields, saw 14\\nSkipping line 32: expected 3 fields, saw 14\\nSkipping line 33: expected 3 fields, saw 14\\nSkipping line 34: expected 3 fields, saw 14\\nSkipping line 35: expected 3 fields, saw 14\\nSkipping line 36: expected 3 fields, saw 14\\nSkipping line 37: expected 3 fields, saw 14\\nSkipping line 38: expected 3 fields, saw 14\\nSkipping line 39: expected 3 fields, saw 14\\nSkipping line 40: expected 3 fields, saw 14\\nSkipping line 41: expected 3 fields, saw 14\\nSkipping line 42: expected 3 fields, saw 14\\nSkipping line 43: expected 3 fields, saw 14\\nSkipping line 44: expected 3 fields, saw 14\\nSkipping line 45: expected 3 fields, saw 14\\nSkipping line 46: expected 3 fields, saw 14\\nSkipping line 47: expected 3 fields, saw 14\\nSkipping line 48: expected 3 fields, saw 14\\nSkipping line 49: expected 3 fields, saw 14\\nSkipping line 50: expected 3 fields, saw 14\\nSkipping line 51: expected 3 fields, saw 14\\nSkipping line 52: expected 3 fields, saw 14\\nSkipping line 53: expected 3 fields, saw 14\\nSkipping line 54: expected 3 fields, saw 14\\nSkipping line 55: expected 3 fields, saw 14\\nSkipping line 56: expected 3 fields, saw 14\\nSkipping line 57: expected 3 fields, saw 14\\nSkipping line 58: expected 3 fields, saw 14\\nSkipping line 59: expected 3 fields, saw 14\\nSkipping line 60: expected 3 fields, saw 14\\nSkipping line 61: expected 3 fields, saw 14\\nSkipping line 62: expected 3 fields, saw 14\\nSkipping line 63: expected 3 fields, saw 14\\nSkipping line 64: expected 3 fields, saw 14\\nSkipping line 65: expected 3 fields, saw 14\\nSkipping line 66: expected 3 fields, saw 14\\nSkipping line 67: expected 3 fields, saw 14\\nSkipping line 68: expected 3 fields, saw 14\\nSkipping line 69: expected 3 fields, saw 14\\nSkipping line 70: expected 3 fields, saw 14\\nSkipping line 71: expected 3 fields, saw 14\\nSkipping line 72: expected 3 fields, saw 14\\nSkipping line 73: expected 3 fields, saw 14\\nSkipping line 74: expected 3 fields, saw 14\\nSkipping line 75: expected 3 fields, saw 14\\nSkipping line 76: expected 3 fields, saw 14\\nSkipping line 77: expected 3 fields, saw 14\\nSkipping line 78: expected 3 fields, saw 14\\nSkipping line 79: expected 3 fields, saw 14\\nSkipping line 80: expected 3 fields, saw 14\\nSkipping line 81: expected 3 fields, saw 14\\nSkipping line 82: expected 3 fields, saw 14\\nSkipping line 83: expected 3 fields, saw 14\\nSkipping line 84: expected 3 fields, saw 14\\nSkipping line 85: expected 3 fields, saw 14\\nSkipping line 86: expected 3 fields, saw 14\\nSkipping line 87: expected 3 fields, saw 14\\nSkipping line 88: expected 3 fields, saw 14\\nSkipping line 89: expected 3 fields, saw 14\\nSkipping line 90: expected 3 fields, saw 14\\nSkipping line 91: expected 3 fields, saw 14\\nSkipping line 92: expected 3 fields, saw 14\\nSkipping line 93: expected 3 fields, saw 14\\nSkipping line 94: expected 3 fields, saw 14\\nSkipping line 95: expected 3 fields, saw 14\\nSkipping line 96: expected 3 fields, saw 14\\nSkipping line 97: expected 3 fields, saw 14\\nSkipping line 98: expected 3 fields, saw 14\\nSkipping line 99: expected 3 fields, saw 14\\nSkipping line 100: expected 3 fields, saw 14\\nSkipping line 101: expected 3 fields, saw 14\\n'\n"
     ]
    }
   ],
   "source": [
    "df=pd.read_csv('kaccum_path.dat',sep=' ', header=None,error_bad_lines=False)"
   ]
  },
  {
   "cell_type": "code",
   "execution_count": 21,
   "metadata": {},
   "outputs": [
    {
     "data": {
      "text/html": [
       "<div>\n",
       "<style scoped>\n",
       "    .dataframe tbody tr th:only-of-type {\n",
       "        vertical-align: middle;\n",
       "    }\n",
       "\n",
       "    .dataframe tbody tr th {\n",
       "        vertical-align: top;\n",
       "    }\n",
       "\n",
       "    .dataframe thead th {\n",
       "        text-align: right;\n",
       "    }\n",
       "</style>\n",
       "<table border=\"1\" class=\"dataframe\">\n",
       "  <thead>\n",
       "    <tr style=\"text-align: right;\">\n",
       "      <th></th>\n",
       "      <th>0</th>\n",
       "      <th>1</th>\n",
       "      <th>2</th>\n",
       "    </tr>\n",
       "  </thead>\n",
       "  <tbody>\n",
       "    <tr>\n",
       "      <th>0</th>\n",
       "      <td>#</td>\n",
       "      <td>300</td>\n",
       "      <td>K</td>\n",
       "    </tr>\n",
       "  </tbody>\n",
       "</table>\n",
       "</div>"
      ],
      "text/plain": [
       "   0    1  2\n",
       "0  #  300  K"
      ]
     },
     "execution_count": 21,
     "metadata": {},
     "output_type": "execute_result"
    }
   ],
   "source": [
    "df"
   ]
  },
  {
   "cell_type": "code",
   "execution_count": 26,
   "metadata": {},
   "outputs": [
    {
     "ename": "AttributeError",
     "evalue": "module 'numpy' has no attribute 'read'",
     "output_type": "error",
     "traceback": [
      "\u001b[1;31m---------------------------------------------------------------------------\u001b[0m",
      "\u001b[1;31mAttributeError\u001b[0m                            Traceback (most recent call last)",
      "\u001b[1;32m<ipython-input-26-c2f8713f8e0e>\u001b[0m in \u001b[0;36m<module>\u001b[1;34m\u001b[0m\n\u001b[1;32m----> 1\u001b[1;33m \u001b[0mnp\u001b[0m\u001b[1;33m.\u001b[0m\u001b[0mread\u001b[0m\u001b[1;33m(\u001b[0m\u001b[1;34m'kaccum_path.dat'\u001b[0m\u001b[1;33m)\u001b[0m\u001b[1;33m\u001b[0m\u001b[1;33m\u001b[0m\u001b[0m\n\u001b[0m",
      "\u001b[1;32m~\\anaconda3\\lib\\site-packages\\numpy\\__init__.py\u001b[0m in \u001b[0;36m__getattr__\u001b[1;34m(attr)\u001b[0m\n\u001b[0;32m    217\u001b[0m                 \u001b[1;32mreturn\u001b[0m \u001b[0mTester\u001b[0m\u001b[1;33m\u001b[0m\u001b[1;33m\u001b[0m\u001b[0m\n\u001b[0;32m    218\u001b[0m             \u001b[1;32melse\u001b[0m\u001b[1;33m:\u001b[0m\u001b[1;33m\u001b[0m\u001b[1;33m\u001b[0m\u001b[0m\n\u001b[1;32m--> 219\u001b[1;33m                 raise AttributeError(\"module {!r} has no attribute \"\n\u001b[0m\u001b[0;32m    220\u001b[0m                                      \"{!r}\".format(__name__, attr))\n\u001b[0;32m    221\u001b[0m \u001b[1;33m\u001b[0m\u001b[0m\n",
      "\u001b[1;31mAttributeError\u001b[0m: module 'numpy' has no attribute 'read'"
     ]
    }
   ],
   "source": [
    "np.read('kaccum_path.dat')"
   ]
  },
  {
   "cell_type": "code",
   "execution_count": null,
   "metadata": {},
   "outputs": [],
   "source": []
  }
 ],
 "metadata": {
  "kernelspec": {
   "display_name": "Python 3",
   "language": "python",
   "name": "python3"
  },
  "language_info": {
   "codemirror_mode": {
    "name": "ipython",
    "version": 3
   },
   "file_extension": ".py",
   "mimetype": "text/x-python",
   "name": "python",
   "nbconvert_exporter": "python",
   "pygments_lexer": "ipython3",
   "version": "3.8.3"
  }
 },
 "nbformat": 4,
 "nbformat_minor": 4
}
