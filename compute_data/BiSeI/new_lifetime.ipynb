{
 "cells": [
  {
   "cell_type": "code",
   "execution_count": 1,
   "metadata": {},
   "outputs": [],
   "source": [
    "import pandas as pd\n",
    "import numpy as np\n",
    "import matplotlib.pyplot as plt\n",
    "from scipy.stats import gaussian_kde\n",
    "from matplotlib.colors import LogNorm\n",
    "import matplotlib\n",
    "import matplotlib.font_manager as fm\n",
    "# %matplotlib qt5\n",
    "# matplotlib.pyplot.ion()"
   ]
  },
  {
   "cell_type": "code",
   "execution_count": 12,
   "metadata": {},
   "outputs": [],
   "source": [
    "from matplotlib.pyplot import MultipleLocator\n",
    "#从pyplot导入MultipleLocator类，这个类用于设置刻度间隔"
   ]
  },
  {
   "cell_type": "code",
   "execution_count": 2,
   "metadata": {},
   "outputs": [],
   "source": [
    "f=pd.read_table('lifetime.dat',sep=' ',names=['Frequency','Lifetime'])"
   ]
  },
  {
   "cell_type": "code",
   "execution_count": 16,
   "metadata": {},
   "outputs": [
    {
     "data": {
      "text/html": [
       "<div>\n",
       "<style scoped>\n",
       "    .dataframe tbody tr th:only-of-type {\n",
       "        vertical-align: middle;\n",
       "    }\n",
       "\n",
       "    .dataframe tbody tr th {\n",
       "        vertical-align: top;\n",
       "    }\n",
       "\n",
       "    .dataframe thead th {\n",
       "        text-align: right;\n",
       "    }\n",
       "</style>\n",
       "<table border=\"1\" class=\"dataframe\">\n",
       "  <thead>\n",
       "    <tr style=\"text-align: right;\">\n",
       "      <th></th>\n",
       "      <th>Frequency</th>\n",
       "      <th>Lifetime</th>\n",
       "    </tr>\n",
       "  </thead>\n",
       "  <tbody>\n",
       "    <tr>\n",
       "      <th>0</th>\n",
       "      <td>-0.001505</td>\n",
       "      <td>0.000000</td>\n",
       "    </tr>\n",
       "    <tr>\n",
       "      <th>1</th>\n",
       "      <td>-0.000345</td>\n",
       "      <td>0.000000</td>\n",
       "    </tr>\n",
       "    <tr>\n",
       "      <th>2</th>\n",
       "      <td>-0.000327</td>\n",
       "      <td>0.000000</td>\n",
       "    </tr>\n",
       "    <tr>\n",
       "      <th>3</th>\n",
       "      <td>0.749174</td>\n",
       "      <td>5.917391</td>\n",
       "    </tr>\n",
       "    <tr>\n",
       "      <th>4</th>\n",
       "      <td>0.918627</td>\n",
       "      <td>11.050556</td>\n",
       "    </tr>\n",
       "    <tr>\n",
       "      <th>...</th>\n",
       "      <td>...</td>\n",
       "      <td>...</td>\n",
       "    </tr>\n",
       "    <tr>\n",
       "      <th>16375</th>\n",
       "      <td>4.356354</td>\n",
       "      <td>3.226750</td>\n",
       "    </tr>\n",
       "    <tr>\n",
       "      <th>16376</th>\n",
       "      <td>5.295588</td>\n",
       "      <td>2.767202</td>\n",
       "    </tr>\n",
       "    <tr>\n",
       "      <th>16377</th>\n",
       "      <td>5.295588</td>\n",
       "      <td>2.767202</td>\n",
       "    </tr>\n",
       "    <tr>\n",
       "      <th>16378</th>\n",
       "      <td>5.295588</td>\n",
       "      <td>2.767202</td>\n",
       "    </tr>\n",
       "    <tr>\n",
       "      <th>16379</th>\n",
       "      <td>5.295588</td>\n",
       "      <td>2.767202</td>\n",
       "    </tr>\n",
       "  </tbody>\n",
       "</table>\n",
       "<p>16380 rows × 2 columns</p>\n",
       "</div>"
      ],
      "text/plain": [
       "       Frequency   Lifetime\n",
       "0      -0.001505   0.000000\n",
       "1      -0.000345   0.000000\n",
       "2      -0.000327   0.000000\n",
       "3       0.749174   5.917391\n",
       "4       0.918627  11.050556\n",
       "...          ...        ...\n",
       "16375   4.356354   3.226750\n",
       "16376   5.295588   2.767202\n",
       "16377   5.295588   2.767202\n",
       "16378   5.295588   2.767202\n",
       "16379   5.295588   2.767202\n",
       "\n",
       "[16380 rows x 2 columns]"
      ]
     },
     "execution_count": 16,
     "metadata": {},
     "output_type": "execute_result"
    }
   ],
   "source": [
    "f"
   ]
  },
  {
   "cell_type": "code",
   "execution_count": 3,
   "metadata": {},
   "outputs": [],
   "source": [
    "x=f['Frequency']\n",
    "y=f['Lifetime']"
   ]
  },
  {
   "cell_type": "code",
   "execution_count": null,
   "metadata": {},
   "outputs": [],
   "source": [
    "x,y"
   ]
  },
  {
   "cell_type": "code",
   "execution_count": 4,
   "metadata": {},
   "outputs": [],
   "source": [
    "f1=f[f['Frequency']>0]"
   ]
  },
  {
   "cell_type": "code",
   "execution_count": 5,
   "metadata": {},
   "outputs": [
    {
     "data": {
      "text/html": [
       "<div>\n",
       "<style scoped>\n",
       "    .dataframe tbody tr th:only-of-type {\n",
       "        vertical-align: middle;\n",
       "    }\n",
       "\n",
       "    .dataframe tbody tr th {\n",
       "        vertical-align: top;\n",
       "    }\n",
       "\n",
       "    .dataframe thead th {\n",
       "        text-align: right;\n",
       "    }\n",
       "</style>\n",
       "<table border=\"1\" class=\"dataframe\">\n",
       "  <thead>\n",
       "    <tr style=\"text-align: right;\">\n",
       "      <th></th>\n",
       "      <th>Frequency</th>\n",
       "      <th>Lifetime</th>\n",
       "    </tr>\n",
       "  </thead>\n",
       "  <tbody>\n",
       "    <tr>\n",
       "      <th>3</th>\n",
       "      <td>0.749174</td>\n",
       "      <td>5.917391</td>\n",
       "    </tr>\n",
       "    <tr>\n",
       "      <th>4</th>\n",
       "      <td>0.918627</td>\n",
       "      <td>11.050556</td>\n",
       "    </tr>\n",
       "    <tr>\n",
       "      <th>5</th>\n",
       "      <td>1.131592</td>\n",
       "      <td>4.860599</td>\n",
       "    </tr>\n",
       "    <tr>\n",
       "      <th>6</th>\n",
       "      <td>1.136409</td>\n",
       "      <td>12.414945</td>\n",
       "    </tr>\n",
       "    <tr>\n",
       "      <th>7</th>\n",
       "      <td>1.252449</td>\n",
       "      <td>8.501373</td>\n",
       "    </tr>\n",
       "    <tr>\n",
       "      <th>...</th>\n",
       "      <td>...</td>\n",
       "      <td>...</td>\n",
       "    </tr>\n",
       "    <tr>\n",
       "      <th>16375</th>\n",
       "      <td>4.356354</td>\n",
       "      <td>3.226750</td>\n",
       "    </tr>\n",
       "    <tr>\n",
       "      <th>16376</th>\n",
       "      <td>5.295588</td>\n",
       "      <td>2.767202</td>\n",
       "    </tr>\n",
       "    <tr>\n",
       "      <th>16377</th>\n",
       "      <td>5.295588</td>\n",
       "      <td>2.767202</td>\n",
       "    </tr>\n",
       "    <tr>\n",
       "      <th>16378</th>\n",
       "      <td>5.295588</td>\n",
       "      <td>2.767202</td>\n",
       "    </tr>\n",
       "    <tr>\n",
       "      <th>16379</th>\n",
       "      <td>5.295588</td>\n",
       "      <td>2.767202</td>\n",
       "    </tr>\n",
       "  </tbody>\n",
       "</table>\n",
       "<p>16377 rows × 2 columns</p>\n",
       "</div>"
      ],
      "text/plain": [
       "       Frequency   Lifetime\n",
       "3       0.749174   5.917391\n",
       "4       0.918627  11.050556\n",
       "5       1.131592   4.860599\n",
       "6       1.136409  12.414945\n",
       "7       1.252449   8.501373\n",
       "...          ...        ...\n",
       "16375   4.356354   3.226750\n",
       "16376   5.295588   2.767202\n",
       "16377   5.295588   2.767202\n",
       "16378   5.295588   2.767202\n",
       "16379   5.295588   2.767202\n",
       "\n",
       "[16377 rows x 2 columns]"
      ]
     },
     "execution_count": 5,
     "metadata": {},
     "output_type": "execute_result"
    }
   ],
   "source": [
    "f1"
   ]
  },
  {
   "cell_type": "code",
   "execution_count": 5,
   "metadata": {},
   "outputs": [],
   "source": [
    "x=f1['Frequency']\n",
    "y=f1['Lifetime']"
   ]
  },
  {
   "cell_type": "code",
   "execution_count": 6,
   "metadata": {
    "tags": []
   },
   "outputs": [],
   "source": [
    "xy = np.vstack([x,y])\n",
    "z = gaussian_kde(xy)(xy)"
   ]
  },
  {
   "cell_type": "code",
   "execution_count": 7,
   "metadata": {},
   "outputs": [],
   "source": [
    "idx = z.argsort()"
   ]
  },
  {
   "cell_type": "code",
   "execution_count": 8,
   "metadata": {},
   "outputs": [],
   "source": [
    "x, y, z = x[idx+3], y[idx+3], z[idx]"
   ]
  },
  {
   "cell_type": "code",
   "execution_count": 9,
   "metadata": {},
   "outputs": [],
   "source": [
    "my_font=fm.FontProperties(fname=r'‪C:\\Windows\\Fonts\\Arial.ttf'[1:])"
   ]
  },
  {
   "cell_type": "code",
   "execution_count": 38,
   "metadata": {},
   "outputs": [
    {
     "data": {
      "image/png": "[encoded data removed]",
      "text/plain": [
       "<Figure size 864x576 with 2 Axes>"
      ]
     },
     "metadata": {
      "needs_background": "light"
     },
     "output_type": "display_data"
    }
   ],
   "source": [
    "fig, ax = plt.subplots(figsize=(12,8))\n",
    "\n",
    "plt.xlim((0,6)) #设置坐标轴的显示范围\n",
    "plt.ylim((0,80))\n",
    "\n",
    "plt.ylabel('Lifetime (ps)',fontproperties=my_font,fontsize=26) #改变坐标轴标签\n",
    "plt.xlabel('Phonon frequency (THz)',fontproperties=my_font,fontsize=26)\n",
    "plt.xticks(fontproperties=my_font,fontsize=24)\n",
    "plt.yticks(fontproperties=my_font,fontsize=24)\n",
    "# plt.scatter(x, y,c=-z,  s=5,cmap='Spectral')\n",
    "# plt.scatter(x, y,c=z,  s=5,cmap='magma')\n",
    "ax.tick_params(axis='both',which='major',direction='in',width=2,length=10) #刻度朝内\n",
    "ax.tick_params(axis='both',which='minor',direction='in',width=1.5,length=5)\n",
    "ax.spines['bottom'].set_linewidth(2);###设置底部坐标轴的粗细\n",
    "ax.spines['left'].set_linewidth(2);####设置左边坐标轴的粗细\n",
    "ax.spines['right'].set_linewidth(2);###设置右边坐标轴的粗细\n",
    "ax.spines['top'].set_linewidth(2);####设置上部坐标轴的粗细\n",
    "\n",
    "\n",
    "x_minor_locator=MultipleLocator(0.2)\n",
    "y_minor_locator=MultipleLocator(2)\n",
    "ax.xaxis.set_minor_locator(x_minor_locator)\n",
    "ax.yaxis.set_minor_locator(y_minor_locator)\n",
    "\n",
    "\n",
    "# for line in ax.yaxis.get_ticklines():\n",
    "#     line.set_markersize(5)\n",
    "\n",
    "# for line in ax.xaxis.get_ticklines():\n",
    "#     line.set_markersize(5)\n",
    "\n",
    "\n",
    "plt.scatter(x, y,c=z,marker='8',s=15,cmap='plasma')\n",
    "\n",
    "cb=plt.colorbar()\n",
    "cb.ax.tick_params(labelsize=24)\n",
    "cb.ax.tick_params(axis='both',width=1.5,length=5)\n",
    "cbax.spines['bottom'].set_linewidth(2);###设置底部坐标轴的粗细\n",
    "ax.spines['left'].set_linewidth(2);####设置左边坐标轴的粗细\n",
    "ax.spines['right'].set_linewidth(2);###设置右边坐标轴的粗细\n",
    "ax.spines['top'].set_linewidth(2);####设置上部坐标轴的粗细\n",
    "\n",
    "\n",
    "# plt.savefig('lifetime.png',dpi=600)\n",
    "plt.show()"
   ]
  },
  {
   "cell_type": "code",
   "execution_count": null,
   "metadata": {},
   "outputs": [],
   "source": []
  },
  {
   "cell_type": "code",
   "execution_count": null,
   "metadata": {},
   "outputs": [],
   "source": []
  }
 ],
 "metadata": {
  "kernelspec": {
   "display_name": "Python 3",
   "language": "python",
   "name": "python3"
  },
  "language_info": {
   "codemirror_mode": {
    "name": "ipython",
    "version": 3
   },
   "file_extension": ".py",
   "mimetype": "text/x-python",
   "name": "python",
   "nbconvert_exporter": "python",
   "pygments_lexer": "ipython3",
   "version": "3.8.8"
  }
 },
 "nbformat": 4,
 "nbformat_minor": 4
}
