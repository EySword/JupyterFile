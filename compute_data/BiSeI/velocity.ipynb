{
 "cells": [
  {
   "cell_type": "code",
   "execution_count": 1,
   "metadata": {},
   "outputs": [],
   "source": [
    "import h5py\n",
    "import numpy as np"
   ]
  },
  {
   "cell_type": "code",
   "execution_count": 3,
   "metadata": {},
   "outputs": [],
   "source": [
    "f=h5py.File('kappa5.hdf5','r')\n",
    "nq=455\n",
    "nb=36"
   ]
  },
  {
   "cell_type": "code",
   "execution_count": 6,
   "metadata": {},
   "outputs": [
    {
     "data": {
      "text/plain": [
       "<HDF5 dataset \"group_velocity\": shape (455, 36, 3), type \"<f8\">"
      ]
     },
     "execution_count": 6,
     "metadata": {},
     "output_type": "execute_result"
    }
   ],
   "source": [
    "v=f['group_velocity']\n",
    "v"
   ]
  },
  {
   "cell_type": "code",
   "execution_count": 5,
   "metadata": {},
   "outputs": [],
   "source": [
    "fw = open('velocities.dat','w')\n",
    "for i in range(nq):\n",
    "  for j in range(nb):\n",
    "    g=v[i][j]\n",
    "    vx=g[0]\n",
    "    vy=g[1]\n",
    "    vz=g[2]\n",
    "    s=str(f['frequency'][i][j]) + ' '\n",
    "    s=s+ str(vx) +' '+str(vy)+' '+str(vz)+ '\\n'\n",
    "    fw.write(s)\n",
    "fw.close()"
   ]
  },
  {
   "cell_type": "code",
   "execution_count": 3,
   "metadata": {},
   "outputs": [],
   "source": [
    "gvbygv=f['gv_by_gv']"
   ]
  },
  {
   "cell_type": "code",
   "execution_count": 19,
   "metadata": {},
   "outputs": [],
   "source": [
    "fw2 = open('velocities2.dat','w')\n",
    "for i in range(nq):\n",
    "  for j in range(nb):\n",
    "    q=v[i][j]\n",
    "    vx=q[0]**2\n",
    "    vy=q[1]**2\n",
    "    vz=q[2]**2\n",
    "    a=str(f['frequency'][i][j]) + ' '\n",
    "    a=a+ str(vx) +' '+str(vy)+' '+str(vz)+ '\\n'\n",
    "    fw2.write(a)\n",
    "fw2.close()"
   ]
  },
  {
   "cell_type": "code",
   "execution_count": 15,
   "metadata": {},
   "outputs": [
    {
     "data": {
      "text/plain": [
       "0.05039234298093333"
      ]
     },
     "execution_count": 15,
     "metadata": {},
     "output_type": "execute_result"
    }
   ],
   "source": [
    "g[1]**2"
   ]
  },
  {
   "cell_type": "code",
   "execution_count": 4,
   "metadata": {},
   "outputs": [],
   "source": [
    "fw_gv = open('gv_by_gv.dat','w')\n",
    "for i in range(nq):\n",
    "  for j in range(nb):\n",
    "    g=gvbygv[i][j]\n",
    "    vx=g[0]\n",
    "    vy=g[1]\n",
    "    vz=g[2]\n",
    "    s=str(f['frequency'][i][j]) + ' '\n",
    "    s=s+ str(vx) +' '+str(vy)+' '+str(vz)+ '\\n'\n",
    "    fw_gv.write(s)\n",
    "fw_gv.close()"
   ]
  }
 ],
 "metadata": {
  "kernelspec": {
   "display_name": "Python 3",
   "language": "python",
   "name": "python3"
  },
  "language_info": {
   "codemirror_mode": {
    "name": "ipython",
    "version": 3
   },
   "file_extension": ".py",
   "mimetype": "text/x-python",
   "name": "python",
   "nbconvert_exporter": "python",
   "pygments_lexer": "ipython3",
   "version": "3.8.8"
  }
 },
 "nbformat": 4,
 "nbformat_minor": 4
}
