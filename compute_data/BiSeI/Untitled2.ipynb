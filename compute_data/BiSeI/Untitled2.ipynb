{
 "cells": [
  {
   "cell_type": "code",
   "execution_count": 15,
   "id": "860a0784-6428-43cb-b6ab-7a4c6d6655fa",
   "metadata": {},
   "outputs": [],
   "source": [
    "import ase.io as io\n",
    "from ase import Atoms"
   ]
  },
  {
   "cell_type": "code",
   "execution_count": 2,
   "id": "3145478d-5c58-414d-b59e-0d0ef65333ee",
   "metadata": {},
   "outputs": [],
   "source": [
    "f=io.read('.//CONTCAR')"
   ]
  },
  {
   "cell_type": "code",
   "execution_count": 3,
   "id": "2e37a660-7594-4763-960e-636aa4eaaa59",
   "metadata": {},
   "outputs": [
    {
     "data": {
      "text/plain": [
       "Atoms(symbols='Bi4Se4I4', pbc=True, cell=[8.7046003342, 4.2165279388, 10.590763092])"
      ]
     },
     "execution_count": 3,
     "metadata": {},
     "output_type": "execute_result"
    }
   ],
   "source": [
    "f"
   ]
  },
  {
   "cell_type": "code",
   "execution_count": 9,
   "id": "fcb8b417-d886-4b54-b1db-98ee26c200b3",
   "metadata": {},
   "outputs": [
    {
     "data": {
      "text/plain": [
       "'Se'"
      ]
     },
     "execution_count": 9,
     "metadata": {},
     "output_type": "execute_result"
    }
   ],
   "source": [
    "f.symbols[4]"
   ]
  },
  {
   "cell_type": "code",
   "execution_count": 20,
   "id": "93c9704a-0b87-4458-9665-24b928ed161a",
   "metadata": {},
   "outputs": [],
   "source": [
    "f.set_pbc((True, True, False))"
   ]
  },
  {
   "cell_type": "code",
   "execution_count": 22,
   "id": "fe4a213e-5b72-4987-91bf-ded38c45b854",
   "metadata": {},
   "outputs": [
    {
     "data": {
      "text/plain": [
       "array([[ 7.55787612,  1.04687686,  6.65453637],\n",
       "       [ 5.54641458,  3.17473319,  1.37157906],\n",
       "       [ 1.15442622,  3.16751283,  3.90615505],\n",
       "       [ 3.21944243,  1.076241  ,  9.26573479],\n",
       "       [ 1.4913982 ,  1.05634748,  5.85597398],\n",
       "       [ 2.86669706,  3.16147008,  0.55963035],\n",
       "       [ 7.20803456,  3.1678962 ,  4.73550548],\n",
       "       [ 5.84055935,  1.05272644, 10.0481915 ],\n",
       "       [ 0.14400418,  3.14497068,  8.76086137],\n",
       "       [ 4.22173349,  1.05412193,  3.48118147],\n",
       "       [ 8.57786078,  1.05241013,  1.77168594],\n",
       "       [ 4.47954248,  3.16241242,  7.11276255]])"
      ]
     },
     "execution_count": 22,
     "metadata": {},
     "output_type": "execute_result"
    }
   ],
   "source": [
    "f.positions[:]"
   ]
  },
  {
   "cell_type": "code",
   "execution_count": 35,
   "id": "370474c5-f136-4034-ac41-03d048dbc153",
   "metadata": {},
   "outputs": [
    {
     "data": {
      "text/plain": [
       "98.40352013615089"
      ]
     },
     "execution_count": 35,
     "metadata": {},
     "output_type": "execute_result"
    }
   ],
   "source": [
    "f.get_angle(1,2,3)"
   ]
  },
  {
   "cell_type": "code",
   "execution_count": null,
   "id": "ba7b777c-ff97-48d1-843f-75a02f4e51bc",
   "metadata": {},
   "outputs": [],
   "source": []
  }
 ],
 "metadata": {
  "kernelspec": {
   "display_name": "Python 3",
   "language": "python",
   "name": "python3"
  },
  "language_info": {
   "codemirror_mode": {
    "name": "ipython",
    "version": 3
   },
   "file_extension": ".py",
   "mimetype": "text/x-python",
   "name": "python",
   "nbconvert_exporter": "python",
   "pygments_lexer": "ipython3",
   "version": "3.8.8"
  }
 },
 "nbformat": 4,
 "nbformat_minor": 5
}
