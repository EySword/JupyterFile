{
 "cells": [
  {
   "cell_type": "code",
   "execution_count": 1,
   "id": "8447bc03-7692-4960-853d-49e114dbef6a",
   "metadata": {},
   "outputs": [],
   "source": [
    "import pandas as pd\n",
    "import torch\n",
    "import numpy as np\n",
    "import json"
   ]
  },
  {
   "cell_type": "code",
   "execution_count": 2,
   "id": "dd15bb04-d8a1-4d27-9d9f-9e016bbc6da8",
   "metadata": {},
   "outputs": [],
   "source": [
    "def loadJsonFile(filename):\n",
    "    '''\n",
    "    return python data structure\n",
    "    '''\n",
    "    with open(filename, 'r') as f:\n",
    "        json_data = json.load(f)\n",
    "    return json.loads(json_data)"
   ]
  },
  {
   "cell_type": "code",
   "execution_count": null,
   "id": "c2dd4d7e-6441-4593-a2ab-4031eb9624e9",
   "metadata": {},
   "outputs": [],
   "source": [
    "force_data=loadJsonFile(\"BiSeI_1000_force.json\")"
   ]
  },
  {
   "cell_type": "code",
   "execution_count": null,
   "id": "c3c68fbf-b40a-4469-b328-74cb68bf8347",
   "metadata": {},
   "outputs": [],
   "source": []
  }
 ],
 "metadata": {
  "kernelspec": {
   "display_name": "Python 3",
   "language": "python",
   "name": "python3"
  },
  "language_info": {
   "codemirror_mode": {
    "name": "ipython",
    "version": 3
   },
   "file_extension": ".py",
   "mimetype": "text/x-python",
   "name": "python",
   "nbconvert_exporter": "python",
   "pygments_lexer": "ipython3",
   "version": "3.8.8"
  }
 },
 "nbformat": 4,
 "nbformat_minor": 5
}
