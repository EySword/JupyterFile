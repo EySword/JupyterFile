{
 "cells": [
  {
   "cell_type": "code",
   "execution_count": 58,
   "id": "2a8f3b1a-4e76-4d3d-920e-a7d6ac709a03",
   "metadata": {},
   "outputs": [],
   "source": [
    "import pandas as pd\n",
    "import torch\n",
    "import numpy as np\n",
    "import json"
   ]
  },
  {
   "cell_type": "code",
   "execution_count": 38,
   "id": "3cd37887-64f3-4058-8093-4b588adcacaa",
   "metadata": {},
   "outputs": [],
   "source": [
    "def FindForce(outdata):\n",
    "\n",
    "    f = []\n",
    "    last = -1\n",
    "    for x, line in enumerate(outdata):\n",
    "        if \"TOTAL-FORCE\" in line:\n",
    "            last = x+2\n",
    "    for x, line in enumerate(outdata):\n",
    "        if not x == last:\n",
    "            continue\n",
    "        if line[1] == \"-\":\n",
    "            break\n",
    "        last += 1\n",
    "        f.append(list(map(float,line.split()[3:6])))\n",
    "\n",
    "    return f"
   ]
  },
  {
   "cell_type": "code",
   "execution_count": 11,
   "id": "5bc6c5d7-ca02-4ad8-b20b-a7a3d4c22736",
   "metadata": {},
   "outputs": [],
   "source": [
    "file_path='F:\\\\BiSeI_dis\\\\d0p05\\\\'"
   ]
  },
  {
   "cell_type": "code",
   "execution_count": 36,
   "id": "28357b19-afe8-4b08-b190-b37bd15f35e1",
   "metadata": {},
   "outputs": [],
   "source": [
    "def get_force(start, end, file_path):\n",
    "    '''\n",
    "    返回list\n",
    "    '''\n",
    "    force_list=[]\n",
    "    for i in range(start,end+1):\n",
    "        if len(str(i))==1:\n",
    "            zero_n = 3\n",
    "        elif len(str(i))==2:\n",
    "            zero_n = 2\n",
    "        elif len(str(i))==3:\n",
    "            zero_n = 1\n",
    "        else:\n",
    "            zero_n = 0\n",
    "        out = open(file_path+\"disp\"+\"0\"*zero_n+str(i)+\"\\\\OUTCAR\")\n",
    "#         print(file_path+\"disp\"+\"0\"*zero_n+str(i)+\"\\\\OUTCAR\")\n",
    "        input_data = out.readlines()\n",
    "        force = FindForce(input_data)\n",
    "        out.close()\n",
    "        force_list.append(force)\n",
    "    return force_list"
   ]
  },
  {
   "cell_type": "code",
   "execution_count": null,
   "id": "f3d044e5-bb3b-41b4-bdec-e005b9a74b1c",
   "metadata": {},
   "outputs": [],
   "source": [
    "force_list = get_force(1,1000,file_path)"
   ]
  },
  {
   "cell_type": "code",
   "execution_count": 59,
   "id": "8c26bc1c-9526-4e3f-9e51-70277f2d7512",
   "metadata": {},
   "outputs": [],
   "source": [
    "def saveJsonFile(python_list, filename):\n",
    "    json_list = json.dumps(python_list)\n",
    "    with open(filename, 'w') as file_obj:\n",
    "      json.dump(json_list, file_obj)"
   ]
  },
  {
   "cell_type": "code",
   "execution_count": 60,
   "id": "9acb5aae-6057-457f-aeb7-20cc5c7cdbdb",
   "metadata": {},
   "outputs": [],
   "source": [
    "saveJsonFile(force_list,\"BiSeI_1000_force.json\")"
   ]
  },
  {
   "cell_type": "code",
   "execution_count": 61,
   "id": "7849d702-0d0a-4482-ae11-36f32302d574",
   "metadata": {},
   "outputs": [],
   "source": [
    "def loadJsonFile(filename):\n",
    "    '''\n",
    "    return python data structure\n",
    "    '''\n",
    "    with open(filename, 'r') as f:\n",
    "        json_data = json.load(f)\n",
    "    return json.loads(json_data)"
   ]
  },
  {
   "cell_type": "code",
   "execution_count": 62,
   "id": "36ead14c-6af8-4cdc-97b8-2ce7896a19d1",
   "metadata": {},
   "outputs": [],
   "source": [
    "l=loadJsonFile(\"BiSeI_1000_force.json\")"
   ]
  },
  {
   "cell_type": "code",
   "execution_count": 52,
   "id": "a28c3024-d4ae-4eb3-806d-4ce1a45df34c",
   "metadata": {},
   "outputs": [],
   "source": []
  }
 ],
 "metadata": {
  "kernelspec": {
   "display_name": "Python 3",
   "language": "python",
   "name": "python3"
  },
  "language_info": {
   "codemirror_mode": {
    "name": "ipython",
    "version": 3
   },
   "file_extension": ".py",
   "mimetype": "text/x-python",
   "name": "python",
   "nbconvert_exporter": "python",
   "pygments_lexer": "ipython3",
   "version": "3.8.8"
  }
 },
 "nbformat": 4,
 "nbformat_minor": 5
}
