{
 "cells": [
  {
   "cell_type": "code",
   "execution_count": 2,
   "id": "39e63526-6e6c-44ae-bd81-b4bf7556e9e3",
   "metadata": {},
   "outputs": [],
   "source": [
    "from pymatgen.core import Structure"
   ]
  },
  {
   "cell_type": "code",
   "execution_count": 3,
   "id": "9f5e8308-24cb-4624-9249-6806dd99421d",
   "metadata": {},
   "outputs": [],
   "source": [
    "base_path='F:\\\\BiSeI_dis\\\\d0p05'"
   ]
  },
  {
   "cell_type": "code",
   "execution_count": 33,
   "id": "183549c8-e851-402a-88df-d5072691e5dd",
   "metadata": {},
   "outputs": [],
   "source": [
    "periodic_table={0: 'H',1: 'He',2: 'Li',3: 'Be',4: 'B',5: 'C',6: 'N',7: 'O',8: 'F',9: 'Ne',10: 'Na',11: 'Mg',12: 'Al',13: 'Si',14: 'P',15: 'S',16: 'Cl',17: 'Ar',\n",
    "               18: 'K',19: 'Ca',20: 'Sc',21: 'Ti',22: 'V',23: 'Cr',24: 'Mn',25: 'Fe',26: 'Co',27: 'Ni',28: 'Cu',29: 'Zn',30: 'Ga',31: 'Ge',32: 'As',33: 'Se',34: 'Br',35: 'Kr',\n",
    "               36: 'Rb',37: 'Sr',38: 'Y',39: 'Zr',40: 'Nb',41: 'Mo',42: 'Te',43: 'Ru',44: 'Rh',45: 'Pd',46: 'Ag',47: 'Cd',48: 'In',49: 'Sn',50: 'Sb',51: 'Te',52: 'I',53: 'Xe',\n",
    "               54: 'Cs',55: 'Ba',56: 'La',57: 'Ce',58: 'Pr',59: 'Nd',60: 'Pm',61: 'Sm',62: 'Eu',63: 'Gd',64: 'Tb',65: 'Dy',66: 'Ho',67: 'Er',68: 'Tm',69: 'Yb',70: 'Lu',\n",
    "               71: 'Hf',72: 'Ta',73: 'W',74: 'Re',75: 'Os',76: 'Ir',77: 'Pt',78: 'Au',79: 'Hg',80: 'Tl',81: 'Pb',82: 'Bi',83: 'Po',84: 'At',85: 'Rn',86: 'Fr',87: 'Ra',88: 'Ac',\n",
    "               89: 'Th',90: 'Pa',91: 'U',92: 'Np',93: 'Pu',94: 'Am',95: 'Cm',96: 'Bk',97: 'Cf',98: 'Es',99: 'Fm',100: 'Md',101: 'No',102: 'Lr',103: 'Rf',104: 'Db',105: 'Sg',\n",
    "               106: 'Bh',107: 'Hs',108: 'Mt',109: 'Ds',110: 'Rg',111: 'Cn',112: 'Nh',113: 'Fl',114: 'Mc',115: 'Lv',116: 'Ts',117: 'Og',118: 'Uue'}"
   ]
  },
  {
   "cell_type": "code",
   "execution_count": 4,
   "id": "20b75633-de0b-481d-9e7e-d8d20ff7dec1",
   "metadata": {},
   "outputs": [],
   "source": [
    "def FindForce(outdata):\n",
    "\n",
    "    f = []\n",
    "    last = -1\n",
    "    for x, line in enumerate(outdata):\n",
    "        if \"TOTAL-FORCE\" in line:\n",
    "            last = x+2\n",
    "    for x, line in enumerate(outdata):\n",
    "        if not x == last:\n",
    "            continue\n",
    "        if line[1] == \"-\":\n",
    "            break\n",
    "        last += 1\n",
    "        f.append(line.split()[3:6])\n",
    "\n",
    "    return f"
   ]
  },
  {
   "cell_type": "code",
   "execution_count": 6,
   "id": "3e6647b1-2325-4d5f-8d50-2a126587f82f",
   "metadata": {},
   "outputs": [],
   "source": [
    "out = open(base_path+\"\\\\disp0001\\\\OUTCAR\").readlines()\n",
    "force = FindForce(out)\n"
   ]
  },
  {
   "cell_type": "code",
   "execution_count": 7,
   "id": "d3cd41f6-cbb8-4e6d-a742-98fef878fe45",
   "metadata": {},
   "outputs": [
    {
     "data": {
      "text/plain": [
       "[['-0.029860', '0.031847', '-0.027424'],\n",
       " ['-0.216140', '-0.030521', '0.040108'],\n",
       " ['-0.067800', '-0.001366', '0.211184'],\n",
       " ['-0.125269', '-0.061215', '-0.193342'],\n",
       " ['-0.010085', '-0.007277', '-0.175938'],\n",
       " ['0.177582', '0.060986', '0.183561'],\n",
       " ['0.103496', '-0.056866', '-0.052913'],\n",
       " ['0.140788', '0.035463', '-0.047023'],\n",
       " ['-0.015071', '0.036227', '0.017931'],\n",
       " ['0.015932', '-0.004704', '-0.022384'],\n",
       " ['0.003724', '0.001042', '0.045877'],\n",
       " ['0.022703', '-0.003616', '0.020362']]"
      ]
     },
     "execution_count": 7,
     "metadata": {},
     "output_type": "execute_result"
    }
   ],
   "source": [
    "force"
   ]
  },
  {
   "cell_type": "code",
   "execution_count": 9,
   "id": "ef6183fc-f314-4551-a907-b5ba36ffcb26",
   "metadata": {},
   "outputs": [],
   "source": [
    "struc1 = Structure.from_file(base_path+\"\\\\disp0001\\\\POSCAR\")\n",
    "struc2 = Structure.from_file(base_path+\"\\\\disp0002\\\\POSCAR\")"
   ]
  },
  {
   "cell_type": "code",
   "execution_count": 16,
   "id": "b55c7fea-34c9-43d8-93bf-e70cefbe67ac",
   "metadata": {},
   "outputs": [
    {
     "data": {
      "text/plain": [
       "83"
      ]
     },
     "execution_count": 16,
     "metadata": {},
     "output_type": "execute_result"
    }
   ],
   "source": [
    "struc1.atomic_numbers[0]"
   ]
  },
  {
   "cell_type": "code",
   "execution_count": 30,
   "id": "25625d47-383e-4f47-b368-1e1761b50f78",
   "metadata": {},
   "outputs": [
    {
     "data": {
      "text/plain": [
       "388.714795361563"
      ]
     },
     "execution_count": 30,
     "metadata": {},
     "output_type": "execute_result"
    }
   ],
   "source": [
    "struc1.volume"
   ]
  },
  {
   "cell_type": "code",
   "execution_count": 17,
   "id": "affc9c4d-ddf1-40ca-ac9b-d72c69be1c98",
   "metadata": {},
   "outputs": [],
   "source": [
    "import pymatgen.core"
   ]
  },
  {
   "cell_type": "code",
   "execution_count": 26,
   "id": "b69c5db5-5e14-4178-9913-0fdd30a94583",
   "metadata": {},
   "outputs": [],
   "source": [
    "atom=pymatgen.core.periodic_table.Element('Og')"
   ]
  },
  {
   "cell_type": "code",
   "execution_count": 27,
   "id": "04f37f5a-fc6b-45ee-9f30-c8f692c12a5d",
   "metadata": {},
   "outputs": [
    {
     "data": {
      "text/plain": [
       "118"
      ]
     },
     "execution_count": 27,
     "metadata": {},
     "output_type": "execute_result"
    }
   ],
   "source": [
    "atom.Z"
   ]
  }
 ],
 "metadata": {
  "kernelspec": {
   "display_name": "Python 3",
   "language": "python",
   "name": "python3"
  },
  "language_info": {
   "codemirror_mode": {
    "name": "ipython",
    "version": 3
   },
   "file_extension": ".py",
   "mimetype": "text/x-python",
   "name": "python",
   "nbconvert_exporter": "python",
   "pygments_lexer": "ipython3",
   "version": "3.8.8"
  }
 },
 "nbformat": 4,
 "nbformat_minor": 5
}
