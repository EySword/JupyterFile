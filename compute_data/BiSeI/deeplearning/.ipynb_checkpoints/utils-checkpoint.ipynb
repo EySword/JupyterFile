{
 "cells": [
  {
   "cell_type": "code",
   "execution_count": 55,
   "id": "7131a6dc-e19a-4bc4-8b07-b3bcdf4a9c08",
   "metadata": {},
   "outputs": [],
   "source": [
    "import utils\n",
    "import pymatgen.core.structure\n",
    "from pymatgen.io.vasp import Poscar\n",
    "import numpy as np"
   ]
  },
  {
   "cell_type": "code",
   "execution_count": 3,
   "id": "e53fb3b5-b203-48ae-9780-726946edcd5a",
   "metadata": {},
   "outputs": [],
   "source": [
    "PT=utils.loadJsonFile('periodic_table.json')"
   ]
  },
  {
   "cell_type": "code",
   "execution_count": 10,
   "id": "339b5275-e386-424b-883a-555e81ac2449",
   "metadata": {},
   "outputs": [],
   "source": [
    "poscar = Poscar.from_file(\"CONTCAR\")"
   ]
  },
  {
   "cell_type": "code",
   "execution_count": 14,
   "id": "c9932e0c-c455-4974-a3dd-ad6baeb42573",
   "metadata": {},
   "outputs": [],
   "source": [
    "s=poscar.structure"
   ]
  },
  {
   "cell_type": "code",
   "execution_count": 15,
   "id": "14d80e17-d669-44eb-b071-485d8509e75f",
   "metadata": {},
   "outputs": [
    {
     "data": {
      "text/html": [
       "<div>\n",
       "<style scoped>\n",
       "    .dataframe tbody tr th:only-of-type {\n",
       "        vertical-align: middle;\n",
       "    }\n",
       "\n",
       "    .dataframe tbody tr th {\n",
       "        vertical-align: top;\n",
       "    }\n",
       "\n",
       "    .dataframe thead th {\n",
       "        text-align: right;\n",
       "    }\n",
       "</style>\n",
       "<table border=\"1\" class=\"dataframe\">\n",
       "  <thead>\n",
       "    <tr style=\"text-align: right;\">\n",
       "      <th></th>\n",
       "      <th>Species</th>\n",
       "      <th>a</th>\n",
       "      <th>b</th>\n",
       "      <th>c</th>\n",
       "      <th>x</th>\n",
       "      <th>y</th>\n",
       "      <th>z</th>\n",
       "      <th>velocities</th>\n",
       "    </tr>\n",
       "  </thead>\n",
       "  <tbody>\n",
       "    <tr>\n",
       "      <th>0</th>\n",
       "      <td>(Bi)</td>\n",
       "      <td>0.868262</td>\n",
       "      <td>0.248279</td>\n",
       "      <td>0.628334</td>\n",
       "      <td>7.557876</td>\n",
       "      <td>1.046877</td>\n",
       "      <td>6.654536</td>\n",
       "      <td>[0.0, 0.0, 0.0]</td>\n",
       "    </tr>\n",
       "    <tr>\n",
       "      <th>1</th>\n",
       "      <td>(Bi)</td>\n",
       "      <td>0.637182</td>\n",
       "      <td>0.752926</td>\n",
       "      <td>0.129507</td>\n",
       "      <td>5.546415</td>\n",
       "      <td>3.174733</td>\n",
       "      <td>1.371579</td>\n",
       "      <td>[0.0, 0.0, 0.0]</td>\n",
       "    </tr>\n",
       "    <tr>\n",
       "      <th>2</th>\n",
       "      <td>(Bi)</td>\n",
       "      <td>0.132623</td>\n",
       "      <td>0.751214</td>\n",
       "      <td>0.368827</td>\n",
       "      <td>1.154426</td>\n",
       "      <td>3.167513</td>\n",
       "      <td>3.906155</td>\n",
       "      <td>[0.0, 0.0, 0.0]</td>\n",
       "    </tr>\n",
       "    <tr>\n",
       "      <th>3</th>\n",
       "      <td>(Bi)</td>\n",
       "      <td>0.369855</td>\n",
       "      <td>0.255243</td>\n",
       "      <td>0.874888</td>\n",
       "      <td>3.219442</td>\n",
       "      <td>1.076241</td>\n",
       "      <td>9.265735</td>\n",
       "      <td>[0.0, 0.0, 0.0]</td>\n",
       "    </tr>\n",
       "    <tr>\n",
       "      <th>4</th>\n",
       "      <td>(Se)</td>\n",
       "      <td>0.171334</td>\n",
       "      <td>0.250525</td>\n",
       "      <td>0.552932</td>\n",
       "      <td>1.491398</td>\n",
       "      <td>1.056347</td>\n",
       "      <td>5.855974</td>\n",
       "      <td>[0.0, 0.0, 0.0]</td>\n",
       "    </tr>\n",
       "    <tr>\n",
       "      <th>5</th>\n",
       "      <td>(Se)</td>\n",
       "      <td>0.329331</td>\n",
       "      <td>0.749780</td>\n",
       "      <td>0.052841</td>\n",
       "      <td>2.866697</td>\n",
       "      <td>3.161470</td>\n",
       "      <td>0.559630</td>\n",
       "      <td>[0.0, 0.0, 0.0]</td>\n",
       "    </tr>\n",
       "    <tr>\n",
       "      <th>6</th>\n",
       "      <td>(Se)</td>\n",
       "      <td>0.828072</td>\n",
       "      <td>0.751304</td>\n",
       "      <td>0.447135</td>\n",
       "      <td>7.208035</td>\n",
       "      <td>3.167896</td>\n",
       "      <td>4.735505</td>\n",
       "      <td>[0.0, 0.0, 0.0]</td>\n",
       "    </tr>\n",
       "    <tr>\n",
       "      <th>7</th>\n",
       "      <td>(Se)</td>\n",
       "      <td>0.670974</td>\n",
       "      <td>0.249667</td>\n",
       "      <td>0.948769</td>\n",
       "      <td>5.840559</td>\n",
       "      <td>1.052726</td>\n",
       "      <td>10.048191</td>\n",
       "      <td>[0.0, 0.0, 0.0]</td>\n",
       "    </tr>\n",
       "    <tr>\n",
       "      <th>8</th>\n",
       "      <td>(I)</td>\n",
       "      <td>0.016543</td>\n",
       "      <td>0.745867</td>\n",
       "      <td>0.827217</td>\n",
       "      <td>0.144004</td>\n",
       "      <td>3.144971</td>\n",
       "      <td>8.760861</td>\n",
       "      <td>[0.0, 0.0, 0.0]</td>\n",
       "    </tr>\n",
       "    <tr>\n",
       "      <th>9</th>\n",
       "      <td>(I)</td>\n",
       "      <td>0.485000</td>\n",
       "      <td>0.249998</td>\n",
       "      <td>0.328700</td>\n",
       "      <td>4.221733</td>\n",
       "      <td>1.054122</td>\n",
       "      <td>3.481181</td>\n",
       "      <td>[0.0, 0.0, 0.0]</td>\n",
       "    </tr>\n",
       "    <tr>\n",
       "      <th>10</th>\n",
       "      <td>(I)</td>\n",
       "      <td>0.985440</td>\n",
       "      <td>0.249592</td>\n",
       "      <td>0.167286</td>\n",
       "      <td>8.577861</td>\n",
       "      <td>1.052410</td>\n",
       "      <td>1.771686</td>\n",
       "      <td>[0.0, 0.0, 0.0]</td>\n",
       "    </tr>\n",
       "    <tr>\n",
       "      <th>11</th>\n",
       "      <td>(I)</td>\n",
       "      <td>0.514618</td>\n",
       "      <td>0.750004</td>\n",
       "      <td>0.671601</td>\n",
       "      <td>4.479542</td>\n",
       "      <td>3.162412</td>\n",
       "      <td>7.112763</td>\n",
       "      <td>[0.0, 0.0, 0.0]</td>\n",
       "    </tr>\n",
       "  </tbody>\n",
       "</table>\n",
       "</div>"
      ],
      "text/plain": [
       "   Species         a         b         c         x         y          z  \\\n",
       "0     (Bi)  0.868262  0.248279  0.628334  7.557876  1.046877   6.654536   \n",
       "1     (Bi)  0.637182  0.752926  0.129507  5.546415  3.174733   1.371579   \n",
       "2     (Bi)  0.132623  0.751214  0.368827  1.154426  3.167513   3.906155   \n",
       "3     (Bi)  0.369855  0.255243  0.874888  3.219442  1.076241   9.265735   \n",
       "4     (Se)  0.171334  0.250525  0.552932  1.491398  1.056347   5.855974   \n",
       "5     (Se)  0.329331  0.749780  0.052841  2.866697  3.161470   0.559630   \n",
       "6     (Se)  0.828072  0.751304  0.447135  7.208035  3.167896   4.735505   \n",
       "7     (Se)  0.670974  0.249667  0.948769  5.840559  1.052726  10.048191   \n",
       "8      (I)  0.016543  0.745867  0.827217  0.144004  3.144971   8.760861   \n",
       "9      (I)  0.485000  0.249998  0.328700  4.221733  1.054122   3.481181   \n",
       "10     (I)  0.985440  0.249592  0.167286  8.577861  1.052410   1.771686   \n",
       "11     (I)  0.514618  0.750004  0.671601  4.479542  3.162412   7.112763   \n",
       "\n",
       "         velocities  \n",
       "0   [0.0, 0.0, 0.0]  \n",
       "1   [0.0, 0.0, 0.0]  \n",
       "2   [0.0, 0.0, 0.0]  \n",
       "3   [0.0, 0.0, 0.0]  \n",
       "4   [0.0, 0.0, 0.0]  \n",
       "5   [0.0, 0.0, 0.0]  \n",
       "6   [0.0, 0.0, 0.0]  \n",
       "7   [0.0, 0.0, 0.0]  \n",
       "8   [0.0, 0.0, 0.0]  \n",
       "9   [0.0, 0.0, 0.0]  \n",
       "10  [0.0, 0.0, 0.0]  \n",
       "11  [0.0, 0.0, 0.0]  "
      ]
     },
     "execution_count": 15,
     "metadata": {},
     "output_type": "execute_result"
    }
   ],
   "source": [
    "s.as_dataframe()"
   ]
  },
  {
   "cell_type": "code",
   "execution_count": 52,
   "id": "106d09e4-8fde-42b0-a0f0-51402d84c263",
   "metadata": {},
   "outputs": [],
   "source": [
    "def getPoscarNeighbors(filename, bond_range = 3.5):\n",
    "    '''\n",
    "    return python list of all bonds\n",
    "    '''\n",
    "    poscar = Poscar.from_file(filename).structure\n",
    "    nbs = poscar.get_all_neighbors(bond_range)\n",
    "    edges=[[],[]]\n",
    "    for i,nb in enumerate(nbs):\n",
    "        for j in nb:\n",
    "            edges[0].append(i)\n",
    "            edges[1].append(int(j.index))\n",
    "    return edges"
   ]
  },
  {
   "cell_type": "code",
   "execution_count": 53,
   "id": "73b713b9-554b-4c16-b5ae-86852f2cb490",
   "metadata": {},
   "outputs": [],
   "source": [
    "edge_list = getPoscarNeighbors('CONTCAR')"
   ]
  },
  {
   "cell_type": "code",
   "execution_count": 56,
   "id": "b84463a0-f341-4174-8f17-dc05f8e75784",
   "metadata": {},
   "outputs": [
    {
     "data": {
      "text/plain": [
       "array([[ 0,  0,  0,  0,  0,  1,  1,  1,  1,  1,  2,  2,  2,  2,  2,  3,\n",
       "         3,  3,  3,  3,  4,  4,  4,  5,  5,  5,  6,  6,  6,  7,  7,  7,\n",
       "         8,  8,  9,  9, 10, 10, 11, 11],\n",
       "       [ 6,  8,  4,  6,  8,  5,  7,  9,  7,  9, 10,  6, 10,  4,  4,  5,\n",
       "         5, 11, 11,  7,  0,  2,  2,  3,  3,  1,  2,  0,  0,  3,  1,  1,\n",
       "         0,  0,  1,  1,  2,  2,  3,  3]])"
      ]
     },
     "execution_count": 56,
     "metadata": {},
     "output_type": "execute_result"
    }
   ],
   "source": [
    "np.array(edge_list)"
   ]
  },
  {
   "cell_type": "code",
   "execution_count": 72,
   "id": "bc0e4084-9dfc-4717-89ab-33324ea23811",
   "metadata": {},
   "outputs": [
    {
     "data": {
      "text/plain": [
       "[7.557876116415415, 1.046876861317191, 6.654536367149497]"
      ]
     },
     "execution_count": 72,
     "metadata": {},
     "output_type": "execute_result"
    }
   ],
   "source": [
    "list(s.cart_coords[0])"
   ]
  },
  {
   "cell_type": "code",
   "execution_count": 76,
   "id": "a2a897da-8698-450d-ad68-4d759ab33573",
   "metadata": {},
   "outputs": [],
   "source": [
    "def getElementsNodes(filename):\n",
    "    '''\n",
    "    return python list of all element features\n",
    "    '''\n",
    "    poscar = Poscar.from_file(filename).structure\n",
    "    ele = poscar.atomic_numbers\n",
    "    poss = poscar.cart_coords\n",
    "    ele_num = len(ele)\n",
    "    nodes=[]\n",
    "    for i in range(ele_num):\n",
    "        node = []\n",
    "        node = node + (list(poss[i]))\n",
    "        nodes.append(node)\n",
    "    return nodes"
   ]
  },
  {
   "cell_type": "code",
   "execution_count": 77,
   "id": "df9a212b-d0a6-4ed9-b661-c6f449fcbb8b",
   "metadata": {},
   "outputs": [],
   "source": [
    "node_list = getElementsNodes('CONTCAR')"
   ]
  },
  {
   "cell_type": "code",
   "execution_count": 78,
   "id": "38775007-2f15-4686-b2d6-7d598348284d",
   "metadata": {},
   "outputs": [
    {
     "data": {
      "text/plain": [
       "[[7.557876116415415, 1.046876861317191, 6.654536367149497],\n",
       " [5.546414581869953, 3.1747331862678725, 1.3715790616130248],\n",
       " [1.1544262172484756, 3.1675128296205926, 3.90615505189466],\n",
       " [3.2194424340284358, 1.076240995230081, 9.265734786376997],\n",
       " [1.491398195143019, 1.0563474785414837, 5.8559739817697665],\n",
       " [2.866697056364013, 3.1614700772982527, 0.5596303532030309],\n",
       " [7.208034564970452, 3.1678962047466928, 4.735505477951697],\n",
       " [5.84055934723853, 1.0527264379255836, 10.048191496297196],\n",
       " [0.144004178714007, 3.144970683049303, 8.760861366769925],\n",
       " [4.221733492981763, 1.0541219344887676, 3.4811814679068736],\n",
       " [8.577860776748052, 1.052410131009999, 1.7716859422117073],\n",
       " [4.479542477910178, 3.1624124153195066, 7.1127625509548515]]"
      ]
     },
     "execution_count": 78,
     "metadata": {},
     "output_type": "execute_result"
    }
   ],
   "source": [
    "node_list"
   ]
  },
  {
   "cell_type": "code",
   "execution_count": 66,
   "id": "b1c0c0ee-de8b-457f-ae49-33c19cbc163e",
   "metadata": {},
   "outputs": [],
   "source": [
    "import pymatgen.core.periodic_table as pt"
   ]
  },
  {
   "cell_type": "code",
   "execution_count": null,
   "id": "b7ce5d1d-2ea3-4ead-a7a3-36cb34e7eda3",
   "metadata": {},
   "outputs": [],
   "source": [
    "def elementFeatures(ele_name):\n",
    "    ele = pt.Element(ele_name)"
   ]
  }
 ],
 "metadata": {
  "kernelspec": {
   "display_name": "Python 3",
   "language": "python",
   "name": "python3"
  },
  "language_info": {
   "codemirror_mode": {
    "name": "ipython",
    "version": 3
   },
   "file_extension": ".py",
   "mimetype": "text/x-python",
   "name": "python",
   "nbconvert_exporter": "python",
   "pygments_lexer": "ipython3",
   "version": "3.8.8"
  }
 },
 "nbformat": 4,
 "nbformat_minor": 5
}
