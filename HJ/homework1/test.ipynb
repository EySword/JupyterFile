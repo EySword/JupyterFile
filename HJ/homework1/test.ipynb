{
 "cells": [
  {
   "cell_type": "code",
   "execution_count": 1,
   "id": "7321690b-feea-4999-9810-4707cc275457",
   "metadata": {},
   "outputs": [],
   "source": [
    "import pandas as pd\n",
    "import numpy as np\n",
    "import matplotlib.pyplot as plt"
   ]
  },
  {
   "cell_type": "code",
   "execution_count": null,
   "id": "0a68f3ac-3b10-4b51-a815-d3f569f433e7",
   "metadata": {},
   "outputs": [],
   "source": [
    "a=[]"
   ]
  },
  {
   "cell_type": "code",
   "execution_count": 5,
   "id": "ec3bb166-205f-48f3-b15e-6973d4385e89",
   "metadata": {},
   "outputs": [],
   "source": [
    "df2=pd.DataFrame({'A':[1.0,2.0,3.0,4.0],\n",
    "                 'C':[1.0,3.0,5.0,7.0]})"
   ]
  },
  {
   "cell_type": "code",
   "execution_count": 6,
   "id": "66e92789-83cf-4428-af2d-d19275b4e2fd",
   "metadata": {},
   "outputs": [],
   "source": [
    "df1=pd.DataFrame({'A':[1.0,2.0,3.0,4.0],\n",
    "                 'C':[3.0,4.0,5.0,6.0]})"
   ]
  },
  {
   "cell_type": "code",
   "execution_count": 7,
   "id": "1681e887-3f67-414b-8b4a-f87e5c302a30",
   "metadata": {},
   "outputs": [],
   "source": [
    "df3=pd.DataFrame({'A':[1.0,2.0,3.0,4.0],\n",
    "                 'C':[1.0,4.0,8.0,12.0]})"
   ]
  },
  {
   "cell_type": "code",
   "execution_count": 8,
   "id": "8921c207-892f-46a2-b987-5e8d9a90f213",
   "metadata": {},
   "outputs": [],
   "source": [
    "df4=pd.DataFrame({'A':[1.0,2.0,3.0,4.0],\n",
    "                 'C':[11.0,13.0,15.0,17.0]})"
   ]
  },
  {
   "cell_type": "code",
   "execution_count": 9,
   "id": "6cd2cead-3087-4500-b32e-cf4de314cc65",
   "metadata": {},
   "outputs": [],
   "source": [
    "A=df1.values\n",
    "B=df2.values\n",
    "C=df3.values\n",
    "D=df4.values"
   ]
  },
  {
   "cell_type": "code",
   "execution_count": 13,
   "id": "ae3073e5-9b04-42d9-861b-f86dae697d0d",
   "metadata": {},
   "outputs": [],
   "source": [
    "T=np.array([A,B,C,D])"
   ]
  },
  {
   "cell_type": "code",
   "execution_count": 14,
   "id": "92498678-6dd9-4bd4-9be3-93aea8312663",
   "metadata": {},
   "outputs": [
    {
     "data": {
      "text/plain": [
       "array([[[ 1.,  3.],\n",
       "        [ 2.,  4.],\n",
       "        [ 3.,  5.],\n",
       "        [ 4.,  6.]],\n",
       "\n",
       "       [[ 1.,  1.],\n",
       "        [ 2.,  3.],\n",
       "        [ 3.,  5.],\n",
       "        [ 4.,  7.]],\n",
       "\n",
       "       [[ 1.,  1.],\n",
       "        [ 2.,  4.],\n",
       "        [ 3.,  8.],\n",
       "        [ 4., 12.]],\n",
       "\n",
       "       [[ 1., 11.],\n",
       "        [ 2., 13.],\n",
       "        [ 3., 15.],\n",
       "        [ 4., 17.]]])"
      ]
     },
     "execution_count": 14,
     "metadata": {},
     "output_type": "execute_result"
    }
   ],
   "source": [
    "T"
   ]
  },
  {
   "cell_type": "code",
   "execution_count": 16,
   "id": "601c21ae-741b-4d88-99d9-c6c7fc5357b4",
   "metadata": {},
   "outputs": [
    {
     "data": {
      "text/plain": [
       "array([[0.        , 4.12310563],\n",
       "       [0.        , 4.0620192 ],\n",
       "       [0.        , 4.08503366],\n",
       "       [0.        , 4.38748219]])"
      ]
     },
     "execution_count": 16,
     "metadata": {},
     "output_type": "execute_result"
    }
   ],
   "source": [
    "T.std(axis=0)"
   ]
  },
  {
   "cell_type": "code",
   "execution_count": null,
   "id": "59403dd6-6842-4673-be27-1718272f78e8",
   "metadata": {},
   "outputs": [],
   "source": []
  },
  {
   "cell_type": "code",
   "execution_count": null,
   "id": "a1e76633-bc64-4d99-82c5-dc576b32cf11",
   "metadata": {},
   "outputs": [],
   "source": []
  }
 ],
 "metadata": {
  "kernelspec": {
   "display_name": "Python 3",
   "language": "python",
   "name": "python3"
  },
  "language_info": {
   "codemirror_mode": {
    "name": "ipython",
    "version": 3
   },
   "file_extension": ".py",
   "mimetype": "text/x-python",
   "name": "python",
   "nbconvert_exporter": "python",
   "pygments_lexer": "ipython3",
   "version": "3.8.8"
  }
 },
 "nbformat": 4,
 "nbformat_minor": 5
}
